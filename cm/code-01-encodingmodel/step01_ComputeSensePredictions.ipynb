{
 "cells": [
  {
   "cell_type": "code",
   "execution_count": 1,
   "metadata": {},
   "outputs": [],
   "source": [
    "import os\n",
    "import sys\n",
    "sys.path.append('/Users/cmagri1/OneDrive - Johns Hopkins/git')\n",
    "from EncodingModel_cm296 import utils as emutils\n",
    "from EncodingModel_cm296 import cv_regression as cv\n",
    "\n",
    "# from EncodingModel_cm296 import feature_extractor as emfe\n",
    "# from DataVisualizations_cm296 import scatterplots as emscatter\n",
    "# from DataVisualizations_cm296 import utils as dvutils\n",
    "import matplotlib.pyplot as plt\n",
    "import numpy as np\n",
    "import pandas as pd\n",
    "\n",
    "from sklearn.decomposition import PCA\n",
    "from tqdm import tqdm\n",
    "from sklearn.model_selection import KFold\n",
    "\n",
    "import matplotlib\n",
    "import matplotlib.pyplot as plt\n",
    "import seaborn as sns"
   ]
  },
  {
   "cell_type": "code",
   "execution_count": 2,
   "metadata": {},
   "outputs": [],
   "source": [
    "ROI = 'LOC'\n",
    "Sub = 1\n",
    "\n",
    "kf9 = KFold(n_splits = 9)\n",
    "l2 = 0.0"
   ]
  },
  {
   "cell_type": "code",
   "execution_count": 3,
   "metadata": {},
   "outputs": [],
   "source": [
    "layer =  {'conv_1', 'conv_2','conv_3','conv_4','conv_5'}"
   ]
  },
  {
   "cell_type": "code",
   "execution_count": 10,
   "metadata": {},
   "outputs": [],
   "source": [
    "Keepncomps = [10,20,30,40,50,60,70,80]\n",
    "# Keepncomps = [10,20]"
   ]
  },
  {
   "cell_type": "code",
   "execution_count": 5,
   "metadata": {},
   "outputs": [],
   "source": [
    "keyword = {'ROIpred','DNNActvtn'}\n",
    "#Load word2sense\n",
    "#already preprocessed in MATLAB so that Wrd2Sns and THINGs overlap --> we have IMAGES, LABELS and SENSES\n",
    "pathtofile = '../Code-001/'\n",
    "features = pd.read_csv(pathtofile + \"ThingsWrd2Sns.txt\", sep=\",\")\n",
    "features = features.values[:,1:features.shape[1]-1].astype(np.float)"
   ]
  },
  {
   "cell_type": "code",
   "execution_count": 6,
   "metadata": {},
   "outputs": [],
   "source": [
    "def iter_cvregress(PCs,features,kf,keyword,ilayer,icomps):\n",
    "    datapath = '/data-01/'\n",
    "    print('k-fold regression, independet variable: ' + str(icomps) + ' PCs retained of ' + keyword + ' from ' + ilayer)\n",
    "    rs = []#[[] for i in (0,(features.values.shape[1]-1))]\n",
    "    for train_index, test_index in kf.split(PCs):\n",
    "        train_features = PCs[train_index,]\n",
    "        test_features =  PCs[test_index,]        \n",
    "        train_Y = features[train_index,]\n",
    "        test_Y = features[test_index,]\n",
    "        _,r = cv.regression_iter(train_features, train_Y, test_features,  test_Y, l2=l2)\n",
    "        rs.append(r)\n",
    "    mean_r = np.nanmean(rs, axis=0) #TO handle Nans, since the feature space is so sparse\n",
    "    #Saved information\n",
    "    np.save(os.getcwd() + datapath + 'PredictSENSES_' + keyword + '_' + ilayer + '_'+ str(icomps) +'PCs', mean_r)\n",
    "    return mean_r"
   ]
  },
  {
   "cell_type": "code",
   "execution_count": 7,
   "metadata": {},
   "outputs": [],
   "source": [
    "def make_figure(mean_r,keyword,layer,icomps):\n",
    "    figurepath = '/figures/'\n",
    "    plt.figure(figsize=(100,35))\n",
    "    # Set the font dictionaries (for plot title and axis titles)\n",
    "    title_font = {'fontname':'Arial', 'size':'100', 'color':'black', 'weight':'normal',\n",
    "  'verticalalignment':'bottom'} # Bottom vertical alignment for more space\n",
    "    axis_font = {'fontname':'Arial', 'size':'100'}\n",
    "    sns.set()\n",
    "    n= len(~np.isnan(mean_r))-1\n",
    "    mean_r_nonan = mean_r[~np.isnan(mean_r)]\n",
    "    \n",
    "    ax = plt.subplot() # Defines ax variable by creating an empty plot\n",
    "    \n",
    "    # Set the tick labels font\n",
    "    for label in (ax.get_xticklabels() + ax.get_yticklabels()):\n",
    "        label.set_fontname('Arial')\n",
    "        label.set_fontsize(100)\n",
    "    \n",
    "    plt.xlabel('Sense', **axis_font)\n",
    "    plt.ylabel('PredictionAccuracy', **axis_font)\n",
    "    \n",
    "    plt.title('PredictSENSES ' + keyword + ' ' + layer + ' '+ str(icomps) +'PCs', **title_font)\n",
    "    \n",
    "    #Plot the Image!\n",
    "    # plt.bar(range(0,n), np.sort(mean_r[0:n]), color = 'darkred')\n",
    "    plt.bar(range(0,n), np.sort(mean_r_nonan)[::-1], color = 'darkred')  \n",
    "    \n",
    "    #ylim\n",
    "    plt.ylim(-0.2, 0.6) \n",
    "    \n",
    "    #save figure\n",
    "    plt.savefig(os.getcwd() + figurepath + 'PredictSENSES_' + keyword + '_' + layer + '_'+ str(icomps) +'PCs.png')\n",
    "    sns.reset_defaults()"
   ]
  },
  {
   "cell_type": "code",
   "execution_count": null,
   "metadata": {},
   "outputs": [
    {
     "name": "stdout",
     "output_type": "stream",
     "text": [
      "k-fold regression, independet variable: 10 PCs retained of DNNActvtn from conv_5\n"
     ]
    },
    {
     "name": "stderr",
     "output_type": "stream",
     "text": [
      "/Users/cmagri1/OneDrive - Johns Hopkins/git/EncodingModel_cm296/cv_regression.py:44: RuntimeWarning: invalid value encountered in true_divide\n",
      "  p_coef = numerator/denominator\n",
      "/Users/cmagri1/OneDrive - Johns Hopkins/git/EncodingModel_cm296/cv_regression.py:44: RuntimeWarning: invalid value encountered in true_divide\n",
      "  p_coef = numerator/denominator\n",
      "/Users/cmagri1/OneDrive - Johns Hopkins/git/EncodingModel_cm296/cv_regression.py:44: RuntimeWarning: invalid value encountered in true_divide\n",
      "  p_coef = numerator/denominator\n",
      "/Users/cmagri1/OneDrive - Johns Hopkins/git/EncodingModel_cm296/cv_regression.py:44: RuntimeWarning: invalid value encountered in true_divide\n",
      "  p_coef = numerator/denominator\n",
      "/Users/cmagri1/OneDrive - Johns Hopkins/git/EncodingModel_cm296/cv_regression.py:44: RuntimeWarning: invalid value encountered in true_divide\n",
      "  p_coef = numerator/denominator\n",
      "/Users/cmagri1/OneDrive - Johns Hopkins/git/EncodingModel_cm296/cv_regression.py:44: RuntimeWarning: invalid value encountered in true_divide\n",
      "  p_coef = numerator/denominator\n",
      "/Users/cmagri1/OneDrive - Johns Hopkins/git/EncodingModel_cm296/cv_regression.py:44: RuntimeWarning: invalid value encountered in true_divide\n",
      "  p_coef = numerator/denominator\n",
      "/Users/cmagri1/OneDrive - Johns Hopkins/git/EncodingModel_cm296/cv_regression.py:44: RuntimeWarning: invalid value encountered in true_divide\n",
      "  p_coef = numerator/denominator\n",
      "/Users/cmagri1/OneDrive - Johns Hopkins/git/EncodingModel_cm296/cv_regression.py:44: RuntimeWarning: invalid value encountered in true_divide\n",
      "  p_coef = numerator/denominator\n",
      "/Users/cmagri1/opt/anaconda3/lib/python3.7/site-packages/ipykernel_launcher.py:12: RuntimeWarning: Mean of empty slice\n",
      "  if sys.path[0] == '':\n"
     ]
    },
    {
     "name": "stdout",
     "output_type": "stream",
     "text": [
      "k-fold regression, independet variable: 20 PCs retained of DNNActvtn from conv_5\n"
     ]
    },
    {
     "name": "stderr",
     "output_type": "stream",
     "text": [
      "/Users/cmagri1/OneDrive - Johns Hopkins/git/EncodingModel_cm296/cv_regression.py:44: RuntimeWarning: invalid value encountered in true_divide\n",
      "  p_coef = numerator/denominator\n",
      "/Users/cmagri1/OneDrive - Johns Hopkins/git/EncodingModel_cm296/cv_regression.py:44: RuntimeWarning: invalid value encountered in true_divide\n",
      "  p_coef = numerator/denominator\n",
      "/Users/cmagri1/OneDrive - Johns Hopkins/git/EncodingModel_cm296/cv_regression.py:44: RuntimeWarning: invalid value encountered in true_divide\n",
      "  p_coef = numerator/denominator\n",
      "/Users/cmagri1/OneDrive - Johns Hopkins/git/EncodingModel_cm296/cv_regression.py:44: RuntimeWarning: invalid value encountered in true_divide\n",
      "  p_coef = numerator/denominator\n",
      "/Users/cmagri1/OneDrive - Johns Hopkins/git/EncodingModel_cm296/cv_regression.py:44: RuntimeWarning: invalid value encountered in true_divide\n",
      "  p_coef = numerator/denominator\n",
      "/Users/cmagri1/OneDrive - Johns Hopkins/git/EncodingModel_cm296/cv_regression.py:44: RuntimeWarning: invalid value encountered in true_divide\n",
      "  p_coef = numerator/denominator\n",
      "/Users/cmagri1/OneDrive - Johns Hopkins/git/EncodingModel_cm296/cv_regression.py:44: RuntimeWarning: invalid value encountered in true_divide\n",
      "  p_coef = numerator/denominator\n",
      "/Users/cmagri1/OneDrive - Johns Hopkins/git/EncodingModel_cm296/cv_regression.py:44: RuntimeWarning: invalid value encountered in true_divide\n",
      "  p_coef = numerator/denominator\n",
      "/Users/cmagri1/OneDrive - Johns Hopkins/git/EncodingModel_cm296/cv_regression.py:44: RuntimeWarning: invalid value encountered in true_divide\n",
      "  p_coef = numerator/denominator\n",
      "/Users/cmagri1/opt/anaconda3/lib/python3.7/site-packages/ipykernel_launcher.py:12: RuntimeWarning: Mean of empty slice\n",
      "  if sys.path[0] == '':\n"
     ]
    },
    {
     "name": "stdout",
     "output_type": "stream",
     "text": [
      "k-fold regression, independet variable: 30 PCs retained of DNNActvtn from conv_5\n"
     ]
    },
    {
     "name": "stderr",
     "output_type": "stream",
     "text": [
      "/Users/cmagri1/OneDrive - Johns Hopkins/git/EncodingModel_cm296/cv_regression.py:44: RuntimeWarning: invalid value encountered in true_divide\n",
      "  p_coef = numerator/denominator\n",
      "/Users/cmagri1/OneDrive - Johns Hopkins/git/EncodingModel_cm296/cv_regression.py:44: RuntimeWarning: invalid value encountered in true_divide\n",
      "  p_coef = numerator/denominator\n",
      "/Users/cmagri1/OneDrive - Johns Hopkins/git/EncodingModel_cm296/cv_regression.py:44: RuntimeWarning: invalid value encountered in true_divide\n",
      "  p_coef = numerator/denominator\n",
      "/Users/cmagri1/OneDrive - Johns Hopkins/git/EncodingModel_cm296/cv_regression.py:44: RuntimeWarning: invalid value encountered in true_divide\n",
      "  p_coef = numerator/denominator\n",
      "/Users/cmagri1/OneDrive - Johns Hopkins/git/EncodingModel_cm296/cv_regression.py:44: RuntimeWarning: invalid value encountered in true_divide\n",
      "  p_coef = numerator/denominator\n",
      "/Users/cmagri1/OneDrive - Johns Hopkins/git/EncodingModel_cm296/cv_regression.py:44: RuntimeWarning: invalid value encountered in true_divide\n",
      "  p_coef = numerator/denominator\n",
      "/Users/cmagri1/OneDrive - Johns Hopkins/git/EncodingModel_cm296/cv_regression.py:44: RuntimeWarning: invalid value encountered in true_divide\n",
      "  p_coef = numerator/denominator\n",
      "/Users/cmagri1/OneDrive - Johns Hopkins/git/EncodingModel_cm296/cv_regression.py:44: RuntimeWarning: invalid value encountered in true_divide\n",
      "  p_coef = numerator/denominator\n",
      "/Users/cmagri1/OneDrive - Johns Hopkins/git/EncodingModel_cm296/cv_regression.py:44: RuntimeWarning: invalid value encountered in true_divide\n",
      "  p_coef = numerator/denominator\n",
      "/Users/cmagri1/opt/anaconda3/lib/python3.7/site-packages/ipykernel_launcher.py:12: RuntimeWarning: Mean of empty slice\n",
      "  if sys.path[0] == '':\n"
     ]
    },
    {
     "name": "stdout",
     "output_type": "stream",
     "text": [
      "k-fold regression, independet variable: 40 PCs retained of DNNActvtn from conv_5\n"
     ]
    },
    {
     "name": "stderr",
     "output_type": "stream",
     "text": [
      "/Users/cmagri1/OneDrive - Johns Hopkins/git/EncodingModel_cm296/cv_regression.py:44: RuntimeWarning: invalid value encountered in true_divide\n",
      "  p_coef = numerator/denominator\n",
      "/Users/cmagri1/OneDrive - Johns Hopkins/git/EncodingModel_cm296/cv_regression.py:44: RuntimeWarning: invalid value encountered in true_divide\n",
      "  p_coef = numerator/denominator\n",
      "/Users/cmagri1/OneDrive - Johns Hopkins/git/EncodingModel_cm296/cv_regression.py:44: RuntimeWarning: invalid value encountered in true_divide\n",
      "  p_coef = numerator/denominator\n",
      "/Users/cmagri1/OneDrive - Johns Hopkins/git/EncodingModel_cm296/cv_regression.py:44: RuntimeWarning: invalid value encountered in true_divide\n",
      "  p_coef = numerator/denominator\n",
      "/Users/cmagri1/OneDrive - Johns Hopkins/git/EncodingModel_cm296/cv_regression.py:44: RuntimeWarning: invalid value encountered in true_divide\n",
      "  p_coef = numerator/denominator\n",
      "/Users/cmagri1/OneDrive - Johns Hopkins/git/EncodingModel_cm296/cv_regression.py:44: RuntimeWarning: invalid value encountered in true_divide\n",
      "  p_coef = numerator/denominator\n",
      "/Users/cmagri1/OneDrive - Johns Hopkins/git/EncodingModel_cm296/cv_regression.py:44: RuntimeWarning: invalid value encountered in true_divide\n",
      "  p_coef = numerator/denominator\n",
      "/Users/cmagri1/OneDrive - Johns Hopkins/git/EncodingModel_cm296/cv_regression.py:44: RuntimeWarning: invalid value encountered in true_divide\n",
      "  p_coef = numerator/denominator\n",
      "/Users/cmagri1/OneDrive - Johns Hopkins/git/EncodingModel_cm296/cv_regression.py:44: RuntimeWarning: invalid value encountered in true_divide\n",
      "  p_coef = numerator/denominator\n",
      "/Users/cmagri1/opt/anaconda3/lib/python3.7/site-packages/ipykernel_launcher.py:12: RuntimeWarning: Mean of empty slice\n",
      "  if sys.path[0] == '':\n"
     ]
    },
    {
     "name": "stdout",
     "output_type": "stream",
     "text": [
      "k-fold regression, independet variable: 50 PCs retained of DNNActvtn from conv_5\n"
     ]
    },
    {
     "name": "stderr",
     "output_type": "stream",
     "text": [
      "/Users/cmagri1/OneDrive - Johns Hopkins/git/EncodingModel_cm296/cv_regression.py:44: RuntimeWarning: invalid value encountered in true_divide\n",
      "  p_coef = numerator/denominator\n",
      "/Users/cmagri1/OneDrive - Johns Hopkins/git/EncodingModel_cm296/cv_regression.py:44: RuntimeWarning: invalid value encountered in true_divide\n",
      "  p_coef = numerator/denominator\n",
      "/Users/cmagri1/OneDrive - Johns Hopkins/git/EncodingModel_cm296/cv_regression.py:44: RuntimeWarning: invalid value encountered in true_divide\n",
      "  p_coef = numerator/denominator\n",
      "/Users/cmagri1/OneDrive - Johns Hopkins/git/EncodingModel_cm296/cv_regression.py:44: RuntimeWarning: invalid value encountered in true_divide\n",
      "  p_coef = numerator/denominator\n",
      "/Users/cmagri1/OneDrive - Johns Hopkins/git/EncodingModel_cm296/cv_regression.py:44: RuntimeWarning: invalid value encountered in true_divide\n",
      "  p_coef = numerator/denominator\n",
      "/Users/cmagri1/OneDrive - Johns Hopkins/git/EncodingModel_cm296/cv_regression.py:44: RuntimeWarning: invalid value encountered in true_divide\n",
      "  p_coef = numerator/denominator\n",
      "/Users/cmagri1/OneDrive - Johns Hopkins/git/EncodingModel_cm296/cv_regression.py:44: RuntimeWarning: invalid value encountered in true_divide\n",
      "  p_coef = numerator/denominator\n",
      "/Users/cmagri1/OneDrive - Johns Hopkins/git/EncodingModel_cm296/cv_regression.py:44: RuntimeWarning: invalid value encountered in true_divide\n",
      "  p_coef = numerator/denominator\n",
      "/Users/cmagri1/OneDrive - Johns Hopkins/git/EncodingModel_cm296/cv_regression.py:44: RuntimeWarning: invalid value encountered in true_divide\n",
      "  p_coef = numerator/denominator\n",
      "/Users/cmagri1/opt/anaconda3/lib/python3.7/site-packages/ipykernel_launcher.py:12: RuntimeWarning: Mean of empty slice\n",
      "  if sys.path[0] == '':\n"
     ]
    },
    {
     "name": "stdout",
     "output_type": "stream",
     "text": [
      "k-fold regression, independet variable: 60 PCs retained of DNNActvtn from conv_5\n"
     ]
    },
    {
     "name": "stderr",
     "output_type": "stream",
     "text": [
      "/Users/cmagri1/OneDrive - Johns Hopkins/git/EncodingModel_cm296/cv_regression.py:44: RuntimeWarning: invalid value encountered in true_divide\n",
      "  p_coef = numerator/denominator\n",
      "/Users/cmagri1/OneDrive - Johns Hopkins/git/EncodingModel_cm296/cv_regression.py:44: RuntimeWarning: invalid value encountered in true_divide\n",
      "  p_coef = numerator/denominator\n",
      "/Users/cmagri1/OneDrive - Johns Hopkins/git/EncodingModel_cm296/cv_regression.py:44: RuntimeWarning: invalid value encountered in true_divide\n",
      "  p_coef = numerator/denominator\n",
      "/Users/cmagri1/OneDrive - Johns Hopkins/git/EncodingModel_cm296/cv_regression.py:44: RuntimeWarning: invalid value encountered in true_divide\n",
      "  p_coef = numerator/denominator\n",
      "/Users/cmagri1/OneDrive - Johns Hopkins/git/EncodingModel_cm296/cv_regression.py:44: RuntimeWarning: invalid value encountered in true_divide\n",
      "  p_coef = numerator/denominator\n",
      "/Users/cmagri1/OneDrive - Johns Hopkins/git/EncodingModel_cm296/cv_regression.py:44: RuntimeWarning: invalid value encountered in true_divide\n",
      "  p_coef = numerator/denominator\n",
      "/Users/cmagri1/OneDrive - Johns Hopkins/git/EncodingModel_cm296/cv_regression.py:44: RuntimeWarning: invalid value encountered in true_divide\n",
      "  p_coef = numerator/denominator\n",
      "/Users/cmagri1/OneDrive - Johns Hopkins/git/EncodingModel_cm296/cv_regression.py:44: RuntimeWarning: invalid value encountered in true_divide\n",
      "  p_coef = numerator/denominator\n",
      "/Users/cmagri1/OneDrive - Johns Hopkins/git/EncodingModel_cm296/cv_regression.py:44: RuntimeWarning: invalid value encountered in true_divide\n",
      "  p_coef = numerator/denominator\n",
      "/Users/cmagri1/opt/anaconda3/lib/python3.7/site-packages/ipykernel_launcher.py:12: RuntimeWarning: Mean of empty slice\n",
      "  if sys.path[0] == '':\n"
     ]
    },
    {
     "name": "stdout",
     "output_type": "stream",
     "text": [
      "k-fold regression, independet variable: 70 PCs retained of DNNActvtn from conv_5\n"
     ]
    },
    {
     "name": "stderr",
     "output_type": "stream",
     "text": [
      "/Users/cmagri1/OneDrive - Johns Hopkins/git/EncodingModel_cm296/cv_regression.py:44: RuntimeWarning: invalid value encountered in true_divide\n",
      "  p_coef = numerator/denominator\n",
      "/Users/cmagri1/OneDrive - Johns Hopkins/git/EncodingModel_cm296/cv_regression.py:44: RuntimeWarning: invalid value encountered in true_divide\n",
      "  p_coef = numerator/denominator\n",
      "/Users/cmagri1/OneDrive - Johns Hopkins/git/EncodingModel_cm296/cv_regression.py:44: RuntimeWarning: invalid value encountered in true_divide\n",
      "  p_coef = numerator/denominator\n",
      "/Users/cmagri1/OneDrive - Johns Hopkins/git/EncodingModel_cm296/cv_regression.py:44: RuntimeWarning: invalid value encountered in true_divide\n",
      "  p_coef = numerator/denominator\n",
      "/Users/cmagri1/OneDrive - Johns Hopkins/git/EncodingModel_cm296/cv_regression.py:44: RuntimeWarning: invalid value encountered in true_divide\n",
      "  p_coef = numerator/denominator\n",
      "/Users/cmagri1/OneDrive - Johns Hopkins/git/EncodingModel_cm296/cv_regression.py:44: RuntimeWarning: invalid value encountered in true_divide\n",
      "  p_coef = numerator/denominator\n",
      "/Users/cmagri1/OneDrive - Johns Hopkins/git/EncodingModel_cm296/cv_regression.py:44: RuntimeWarning: invalid value encountered in true_divide\n",
      "  p_coef = numerator/denominator\n",
      "/Users/cmagri1/OneDrive - Johns Hopkins/git/EncodingModel_cm296/cv_regression.py:44: RuntimeWarning: invalid value encountered in true_divide\n",
      "  p_coef = numerator/denominator\n",
      "/Users/cmagri1/OneDrive - Johns Hopkins/git/EncodingModel_cm296/cv_regression.py:44: RuntimeWarning: invalid value encountered in true_divide\n",
      "  p_coef = numerator/denominator\n",
      "/Users/cmagri1/opt/anaconda3/lib/python3.7/site-packages/ipykernel_launcher.py:12: RuntimeWarning: Mean of empty slice\n",
      "  if sys.path[0] == '':\n"
     ]
    },
    {
     "name": "stdout",
     "output_type": "stream",
     "text": [
      "k-fold regression, independet variable: 80 PCs retained of DNNActvtn from conv_5\n"
     ]
    },
    {
     "name": "stderr",
     "output_type": "stream",
     "text": [
      "/Users/cmagri1/OneDrive - Johns Hopkins/git/EncodingModel_cm296/cv_regression.py:44: RuntimeWarning: invalid value encountered in true_divide\n",
      "  p_coef = numerator/denominator\n",
      "/Users/cmagri1/OneDrive - Johns Hopkins/git/EncodingModel_cm296/cv_regression.py:44: RuntimeWarning: invalid value encountered in true_divide\n",
      "  p_coef = numerator/denominator\n",
      "/Users/cmagri1/OneDrive - Johns Hopkins/git/EncodingModel_cm296/cv_regression.py:44: RuntimeWarning: invalid value encountered in true_divide\n",
      "  p_coef = numerator/denominator\n",
      "/Users/cmagri1/OneDrive - Johns Hopkins/git/EncodingModel_cm296/cv_regression.py:44: RuntimeWarning: invalid value encountered in true_divide\n",
      "  p_coef = numerator/denominator\n",
      "/Users/cmagri1/OneDrive - Johns Hopkins/git/EncodingModel_cm296/cv_regression.py:44: RuntimeWarning: invalid value encountered in true_divide\n",
      "  p_coef = numerator/denominator\n",
      "/Users/cmagri1/OneDrive - Johns Hopkins/git/EncodingModel_cm296/cv_regression.py:44: RuntimeWarning: invalid value encountered in true_divide\n",
      "  p_coef = numerator/denominator\n",
      "/Users/cmagri1/OneDrive - Johns Hopkins/git/EncodingModel_cm296/cv_regression.py:44: RuntimeWarning: invalid value encountered in true_divide\n",
      "  p_coef = numerator/denominator\n",
      "/Users/cmagri1/OneDrive - Johns Hopkins/git/EncodingModel_cm296/cv_regression.py:44: RuntimeWarning: invalid value encountered in true_divide\n",
      "  p_coef = numerator/denominator\n",
      "/Users/cmagri1/OneDrive - Johns Hopkins/git/EncodingModel_cm296/cv_regression.py:44: RuntimeWarning: invalid value encountered in true_divide\n",
      "  p_coef = numerator/denominator\n",
      "/Users/cmagri1/opt/anaconda3/lib/python3.7/site-packages/ipykernel_launcher.py:12: RuntimeWarning: Mean of empty slice\n",
      "  if sys.path[0] == '':\n"
     ]
    },
    {
     "name": "stdout",
     "output_type": "stream",
     "text": [
      "k-fold regression, independet variable: 10 PCs retained of ROIpred from conv_5\n"
     ]
    },
    {
     "name": "stderr",
     "output_type": "stream",
     "text": [
      "/Users/cmagri1/OneDrive - Johns Hopkins/git/EncodingModel_cm296/cv_regression.py:44: RuntimeWarning: invalid value encountered in true_divide\n",
      "  p_coef = numerator/denominator\n",
      "/Users/cmagri1/OneDrive - Johns Hopkins/git/EncodingModel_cm296/cv_regression.py:44: RuntimeWarning: invalid value encountered in true_divide\n",
      "  p_coef = numerator/denominator\n",
      "/Users/cmagri1/OneDrive - Johns Hopkins/git/EncodingModel_cm296/cv_regression.py:44: RuntimeWarning: invalid value encountered in true_divide\n",
      "  p_coef = numerator/denominator\n",
      "/Users/cmagri1/OneDrive - Johns Hopkins/git/EncodingModel_cm296/cv_regression.py:44: RuntimeWarning: invalid value encountered in true_divide\n",
      "  p_coef = numerator/denominator\n",
      "/Users/cmagri1/OneDrive - Johns Hopkins/git/EncodingModel_cm296/cv_regression.py:44: RuntimeWarning: invalid value encountered in true_divide\n",
      "  p_coef = numerator/denominator\n",
      "/Users/cmagri1/OneDrive - Johns Hopkins/git/EncodingModel_cm296/cv_regression.py:44: RuntimeWarning: invalid value encountered in true_divide\n",
      "  p_coef = numerator/denominator\n",
      "/Users/cmagri1/OneDrive - Johns Hopkins/git/EncodingModel_cm296/cv_regression.py:44: RuntimeWarning: invalid value encountered in true_divide\n",
      "  p_coef = numerator/denominator\n",
      "/Users/cmagri1/OneDrive - Johns Hopkins/git/EncodingModel_cm296/cv_regression.py:44: RuntimeWarning: invalid value encountered in true_divide\n",
      "  p_coef = numerator/denominator\n",
      "/Users/cmagri1/OneDrive - Johns Hopkins/git/EncodingModel_cm296/cv_regression.py:44: RuntimeWarning: invalid value encountered in true_divide\n",
      "  p_coef = numerator/denominator\n",
      "/Users/cmagri1/opt/anaconda3/lib/python3.7/site-packages/ipykernel_launcher.py:12: RuntimeWarning: Mean of empty slice\n",
      "  if sys.path[0] == '':\n"
     ]
    },
    {
     "name": "stdout",
     "output_type": "stream",
     "text": [
      "k-fold regression, independet variable: 20 PCs retained of ROIpred from conv_5\n"
     ]
    },
    {
     "name": "stderr",
     "output_type": "stream",
     "text": [
      "/Users/cmagri1/OneDrive - Johns Hopkins/git/EncodingModel_cm296/cv_regression.py:44: RuntimeWarning: invalid value encountered in true_divide\n",
      "  p_coef = numerator/denominator\n",
      "/Users/cmagri1/OneDrive - Johns Hopkins/git/EncodingModel_cm296/cv_regression.py:44: RuntimeWarning: invalid value encountered in true_divide\n",
      "  p_coef = numerator/denominator\n",
      "/Users/cmagri1/OneDrive - Johns Hopkins/git/EncodingModel_cm296/cv_regression.py:44: RuntimeWarning: invalid value encountered in true_divide\n",
      "  p_coef = numerator/denominator\n",
      "/Users/cmagri1/OneDrive - Johns Hopkins/git/EncodingModel_cm296/cv_regression.py:44: RuntimeWarning: invalid value encountered in true_divide\n",
      "  p_coef = numerator/denominator\n",
      "/Users/cmagri1/OneDrive - Johns Hopkins/git/EncodingModel_cm296/cv_regression.py:44: RuntimeWarning: invalid value encountered in true_divide\n",
      "  p_coef = numerator/denominator\n",
      "/Users/cmagri1/OneDrive - Johns Hopkins/git/EncodingModel_cm296/cv_regression.py:44: RuntimeWarning: invalid value encountered in true_divide\n",
      "  p_coef = numerator/denominator\n",
      "/Users/cmagri1/OneDrive - Johns Hopkins/git/EncodingModel_cm296/cv_regression.py:44: RuntimeWarning: invalid value encountered in true_divide\n",
      "  p_coef = numerator/denominator\n",
      "/Users/cmagri1/OneDrive - Johns Hopkins/git/EncodingModel_cm296/cv_regression.py:44: RuntimeWarning: invalid value encountered in true_divide\n",
      "  p_coef = numerator/denominator\n",
      "/Users/cmagri1/OneDrive - Johns Hopkins/git/EncodingModel_cm296/cv_regression.py:44: RuntimeWarning: invalid value encountered in true_divide\n",
      "  p_coef = numerator/denominator\n",
      "/Users/cmagri1/opt/anaconda3/lib/python3.7/site-packages/ipykernel_launcher.py:12: RuntimeWarning: Mean of empty slice\n",
      "  if sys.path[0] == '':\n"
     ]
    },
    {
     "name": "stdout",
     "output_type": "stream",
     "text": [
      "k-fold regression, independet variable: 30 PCs retained of ROIpred from conv_5\n"
     ]
    },
    {
     "name": "stderr",
     "output_type": "stream",
     "text": [
      "/Users/cmagri1/OneDrive - Johns Hopkins/git/EncodingModel_cm296/cv_regression.py:44: RuntimeWarning: invalid value encountered in true_divide\n",
      "  p_coef = numerator/denominator\n",
      "/Users/cmagri1/OneDrive - Johns Hopkins/git/EncodingModel_cm296/cv_regression.py:44: RuntimeWarning: invalid value encountered in true_divide\n",
      "  p_coef = numerator/denominator\n",
      "/Users/cmagri1/OneDrive - Johns Hopkins/git/EncodingModel_cm296/cv_regression.py:44: RuntimeWarning: invalid value encountered in true_divide\n",
      "  p_coef = numerator/denominator\n",
      "/Users/cmagri1/OneDrive - Johns Hopkins/git/EncodingModel_cm296/cv_regression.py:44: RuntimeWarning: invalid value encountered in true_divide\n",
      "  p_coef = numerator/denominator\n",
      "/Users/cmagri1/OneDrive - Johns Hopkins/git/EncodingModel_cm296/cv_regression.py:44: RuntimeWarning: invalid value encountered in true_divide\n",
      "  p_coef = numerator/denominator\n",
      "/Users/cmagri1/OneDrive - Johns Hopkins/git/EncodingModel_cm296/cv_regression.py:44: RuntimeWarning: invalid value encountered in true_divide\n",
      "  p_coef = numerator/denominator\n",
      "/Users/cmagri1/OneDrive - Johns Hopkins/git/EncodingModel_cm296/cv_regression.py:44: RuntimeWarning: invalid value encountered in true_divide\n",
      "  p_coef = numerator/denominator\n",
      "/Users/cmagri1/OneDrive - Johns Hopkins/git/EncodingModel_cm296/cv_regression.py:44: RuntimeWarning: invalid value encountered in true_divide\n",
      "  p_coef = numerator/denominator\n",
      "/Users/cmagri1/OneDrive - Johns Hopkins/git/EncodingModel_cm296/cv_regression.py:44: RuntimeWarning: invalid value encountered in true_divide\n",
      "  p_coef = numerator/denominator\n",
      "/Users/cmagri1/opt/anaconda3/lib/python3.7/site-packages/ipykernel_launcher.py:12: RuntimeWarning: Mean of empty slice\n",
      "  if sys.path[0] == '':\n"
     ]
    },
    {
     "name": "stdout",
     "output_type": "stream",
     "text": [
      "k-fold regression, independet variable: 40 PCs retained of ROIpred from conv_5\n"
     ]
    },
    {
     "name": "stderr",
     "output_type": "stream",
     "text": [
      "/Users/cmagri1/OneDrive - Johns Hopkins/git/EncodingModel_cm296/cv_regression.py:44: RuntimeWarning: invalid value encountered in true_divide\n",
      "  p_coef = numerator/denominator\n",
      "/Users/cmagri1/OneDrive - Johns Hopkins/git/EncodingModel_cm296/cv_regression.py:44: RuntimeWarning: invalid value encountered in true_divide\n",
      "  p_coef = numerator/denominator\n",
      "/Users/cmagri1/OneDrive - Johns Hopkins/git/EncodingModel_cm296/cv_regression.py:44: RuntimeWarning: invalid value encountered in true_divide\n",
      "  p_coef = numerator/denominator\n",
      "/Users/cmagri1/OneDrive - Johns Hopkins/git/EncodingModel_cm296/cv_regression.py:44: RuntimeWarning: invalid value encountered in true_divide\n",
      "  p_coef = numerator/denominator\n",
      "/Users/cmagri1/OneDrive - Johns Hopkins/git/EncodingModel_cm296/cv_regression.py:44: RuntimeWarning: invalid value encountered in true_divide\n",
      "  p_coef = numerator/denominator\n",
      "/Users/cmagri1/OneDrive - Johns Hopkins/git/EncodingModel_cm296/cv_regression.py:44: RuntimeWarning: invalid value encountered in true_divide\n",
      "  p_coef = numerator/denominator\n",
      "/Users/cmagri1/OneDrive - Johns Hopkins/git/EncodingModel_cm296/cv_regression.py:44: RuntimeWarning: invalid value encountered in true_divide\n",
      "  p_coef = numerator/denominator\n",
      "/Users/cmagri1/OneDrive - Johns Hopkins/git/EncodingModel_cm296/cv_regression.py:44: RuntimeWarning: invalid value encountered in true_divide\n",
      "  p_coef = numerator/denominator\n",
      "/Users/cmagri1/OneDrive - Johns Hopkins/git/EncodingModel_cm296/cv_regression.py:44: RuntimeWarning: invalid value encountered in true_divide\n",
      "  p_coef = numerator/denominator\n",
      "/Users/cmagri1/opt/anaconda3/lib/python3.7/site-packages/ipykernel_launcher.py:12: RuntimeWarning: Mean of empty slice\n",
      "  if sys.path[0] == '':\n"
     ]
    },
    {
     "name": "stdout",
     "output_type": "stream",
     "text": [
      "k-fold regression, independet variable: 50 PCs retained of ROIpred from conv_5\n"
     ]
    },
    {
     "name": "stderr",
     "output_type": "stream",
     "text": [
      "/Users/cmagri1/OneDrive - Johns Hopkins/git/EncodingModel_cm296/cv_regression.py:44: RuntimeWarning: invalid value encountered in true_divide\n",
      "  p_coef = numerator/denominator\n",
      "/Users/cmagri1/OneDrive - Johns Hopkins/git/EncodingModel_cm296/cv_regression.py:44: RuntimeWarning: invalid value encountered in true_divide\n",
      "  p_coef = numerator/denominator\n",
      "/Users/cmagri1/OneDrive - Johns Hopkins/git/EncodingModel_cm296/cv_regression.py:44: RuntimeWarning: invalid value encountered in true_divide\n",
      "  p_coef = numerator/denominator\n",
      "/Users/cmagri1/OneDrive - Johns Hopkins/git/EncodingModel_cm296/cv_regression.py:44: RuntimeWarning: invalid value encountered in true_divide\n",
      "  p_coef = numerator/denominator\n",
      "/Users/cmagri1/OneDrive - Johns Hopkins/git/EncodingModel_cm296/cv_regression.py:44: RuntimeWarning: invalid value encountered in true_divide\n",
      "  p_coef = numerator/denominator\n",
      "/Users/cmagri1/OneDrive - Johns Hopkins/git/EncodingModel_cm296/cv_regression.py:44: RuntimeWarning: invalid value encountered in true_divide\n",
      "  p_coef = numerator/denominator\n",
      "/Users/cmagri1/OneDrive - Johns Hopkins/git/EncodingModel_cm296/cv_regression.py:44: RuntimeWarning: invalid value encountered in true_divide\n",
      "  p_coef = numerator/denominator\n",
      "/Users/cmagri1/OneDrive - Johns Hopkins/git/EncodingModel_cm296/cv_regression.py:44: RuntimeWarning: invalid value encountered in true_divide\n",
      "  p_coef = numerator/denominator\n",
      "/Users/cmagri1/OneDrive - Johns Hopkins/git/EncodingModel_cm296/cv_regression.py:44: RuntimeWarning: invalid value encountered in true_divide\n",
      "  p_coef = numerator/denominator\n",
      "/Users/cmagri1/opt/anaconda3/lib/python3.7/site-packages/ipykernel_launcher.py:12: RuntimeWarning: Mean of empty slice\n",
      "  if sys.path[0] == '':\n"
     ]
    },
    {
     "name": "stdout",
     "output_type": "stream",
     "text": [
      "k-fold regression, independet variable: 60 PCs retained of ROIpred from conv_5\n"
     ]
    },
    {
     "name": "stderr",
     "output_type": "stream",
     "text": [
      "/Users/cmagri1/OneDrive - Johns Hopkins/git/EncodingModel_cm296/cv_regression.py:44: RuntimeWarning: invalid value encountered in true_divide\n",
      "  p_coef = numerator/denominator\n",
      "/Users/cmagri1/OneDrive - Johns Hopkins/git/EncodingModel_cm296/cv_regression.py:44: RuntimeWarning: invalid value encountered in true_divide\n",
      "  p_coef = numerator/denominator\n",
      "/Users/cmagri1/OneDrive - Johns Hopkins/git/EncodingModel_cm296/cv_regression.py:44: RuntimeWarning: invalid value encountered in true_divide\n",
      "  p_coef = numerator/denominator\n",
      "/Users/cmagri1/OneDrive - Johns Hopkins/git/EncodingModel_cm296/cv_regression.py:44: RuntimeWarning: invalid value encountered in true_divide\n",
      "  p_coef = numerator/denominator\n",
      "/Users/cmagri1/OneDrive - Johns Hopkins/git/EncodingModel_cm296/cv_regression.py:44: RuntimeWarning: invalid value encountered in true_divide\n",
      "  p_coef = numerator/denominator\n",
      "/Users/cmagri1/OneDrive - Johns Hopkins/git/EncodingModel_cm296/cv_regression.py:44: RuntimeWarning: invalid value encountered in true_divide\n",
      "  p_coef = numerator/denominator\n",
      "/Users/cmagri1/OneDrive - Johns Hopkins/git/EncodingModel_cm296/cv_regression.py:44: RuntimeWarning: invalid value encountered in true_divide\n",
      "  p_coef = numerator/denominator\n",
      "/Users/cmagri1/OneDrive - Johns Hopkins/git/EncodingModel_cm296/cv_regression.py:44: RuntimeWarning: invalid value encountered in true_divide\n",
      "  p_coef = numerator/denominator\n",
      "/Users/cmagri1/OneDrive - Johns Hopkins/git/EncodingModel_cm296/cv_regression.py:44: RuntimeWarning: invalid value encountered in true_divide\n",
      "  p_coef = numerator/denominator\n",
      "/Users/cmagri1/opt/anaconda3/lib/python3.7/site-packages/ipykernel_launcher.py:12: RuntimeWarning: Mean of empty slice\n",
      "  if sys.path[0] == '':\n"
     ]
    },
    {
     "name": "stdout",
     "output_type": "stream",
     "text": [
      "k-fold regression, independet variable: 70 PCs retained of ROIpred from conv_5\n"
     ]
    },
    {
     "name": "stderr",
     "output_type": "stream",
     "text": [
      "/Users/cmagri1/OneDrive - Johns Hopkins/git/EncodingModel_cm296/cv_regression.py:44: RuntimeWarning: invalid value encountered in true_divide\n",
      "  p_coef = numerator/denominator\n",
      "/Users/cmagri1/OneDrive - Johns Hopkins/git/EncodingModel_cm296/cv_regression.py:44: RuntimeWarning: invalid value encountered in true_divide\n",
      "  p_coef = numerator/denominator\n",
      "/Users/cmagri1/OneDrive - Johns Hopkins/git/EncodingModel_cm296/cv_regression.py:44: RuntimeWarning: invalid value encountered in true_divide\n",
      "  p_coef = numerator/denominator\n",
      "/Users/cmagri1/OneDrive - Johns Hopkins/git/EncodingModel_cm296/cv_regression.py:44: RuntimeWarning: invalid value encountered in true_divide\n",
      "  p_coef = numerator/denominator\n",
      "/Users/cmagri1/OneDrive - Johns Hopkins/git/EncodingModel_cm296/cv_regression.py:44: RuntimeWarning: invalid value encountered in true_divide\n",
      "  p_coef = numerator/denominator\n",
      "/Users/cmagri1/OneDrive - Johns Hopkins/git/EncodingModel_cm296/cv_regression.py:44: RuntimeWarning: invalid value encountered in true_divide\n",
      "  p_coef = numerator/denominator\n",
      "/Users/cmagri1/OneDrive - Johns Hopkins/git/EncodingModel_cm296/cv_regression.py:44: RuntimeWarning: invalid value encountered in true_divide\n",
      "  p_coef = numerator/denominator\n",
      "/Users/cmagri1/OneDrive - Johns Hopkins/git/EncodingModel_cm296/cv_regression.py:44: RuntimeWarning: invalid value encountered in true_divide\n",
      "  p_coef = numerator/denominator\n",
      "/Users/cmagri1/OneDrive - Johns Hopkins/git/EncodingModel_cm296/cv_regression.py:44: RuntimeWarning: invalid value encountered in true_divide\n",
      "  p_coef = numerator/denominator\n",
      "/Users/cmagri1/opt/anaconda3/lib/python3.7/site-packages/ipykernel_launcher.py:12: RuntimeWarning: Mean of empty slice\n",
      "  if sys.path[0] == '':\n"
     ]
    },
    {
     "name": "stdout",
     "output_type": "stream",
     "text": [
      "k-fold regression, independet variable: 80 PCs retained of ROIpred from conv_5\n"
     ]
    },
    {
     "name": "stderr",
     "output_type": "stream",
     "text": [
      "/Users/cmagri1/opt/anaconda3/lib/python3.7/site-packages/sklearn/linear_model/ridge.py:147: LinAlgWarning: Ill-conditioned matrix (rcond=1.08994e-16): result may not be accurate.\n",
      "  overwrite_a=True).T\n",
      "/Users/cmagri1/OneDrive - Johns Hopkins/git/EncodingModel_cm296/cv_regression.py:44: RuntimeWarning: invalid value encountered in true_divide\n",
      "  p_coef = numerator/denominator\n",
      "/Users/cmagri1/opt/anaconda3/lib/python3.7/site-packages/sklearn/linear_model/ridge.py:147: LinAlgWarning: Ill-conditioned matrix (rcond=1.0325e-16): result may not be accurate.\n",
      "  overwrite_a=True).T\n",
      "/Users/cmagri1/OneDrive - Johns Hopkins/git/EncodingModel_cm296/cv_regression.py:44: RuntimeWarning: invalid value encountered in true_divide\n",
      "  p_coef = numerator/denominator\n",
      "/Users/cmagri1/opt/anaconda3/lib/python3.7/site-packages/sklearn/linear_model/ridge.py:147: LinAlgWarning: Ill-conditioned matrix (rcond=1.07254e-16): result may not be accurate.\n",
      "  overwrite_a=True).T\n",
      "/Users/cmagri1/OneDrive - Johns Hopkins/git/EncodingModel_cm296/cv_regression.py:44: RuntimeWarning: invalid value encountered in true_divide\n",
      "  p_coef = numerator/denominator\n",
      "/Users/cmagri1/OneDrive - Johns Hopkins/git/EncodingModel_cm296/cv_regression.py:44: RuntimeWarning: invalid value encountered in true_divide\n",
      "  p_coef = numerator/denominator\n",
      "/Users/cmagri1/opt/anaconda3/lib/python3.7/site-packages/sklearn/linear_model/ridge.py:147: LinAlgWarning: Ill-conditioned matrix (rcond=1.05722e-16): result may not be accurate.\n",
      "  overwrite_a=True).T\n",
      "/Users/cmagri1/OneDrive - Johns Hopkins/git/EncodingModel_cm296/cv_regression.py:44: RuntimeWarning: invalid value encountered in true_divide\n",
      "  p_coef = numerator/denominator\n",
      "/Users/cmagri1/opt/anaconda3/lib/python3.7/site-packages/sklearn/linear_model/ridge.py:147: LinAlgWarning: Ill-conditioned matrix (rcond=1.04416e-16): result may not be accurate.\n",
      "  overwrite_a=True).T\n",
      "/Users/cmagri1/OneDrive - Johns Hopkins/git/EncodingModel_cm296/cv_regression.py:44: RuntimeWarning: invalid value encountered in true_divide\n",
      "  p_coef = numerator/denominator\n",
      "/Users/cmagri1/opt/anaconda3/lib/python3.7/site-packages/sklearn/linear_model/ridge.py:147: LinAlgWarning: Ill-conditioned matrix (rcond=1.06365e-16): result may not be accurate.\n",
      "  overwrite_a=True).T\n",
      "/Users/cmagri1/OneDrive - Johns Hopkins/git/EncodingModel_cm296/cv_regression.py:44: RuntimeWarning: invalid value encountered in true_divide\n",
      "  p_coef = numerator/denominator\n",
      "/Users/cmagri1/opt/anaconda3/lib/python3.7/site-packages/sklearn/linear_model/ridge.py:147: LinAlgWarning: Ill-conditioned matrix (rcond=1.07253e-16): result may not be accurate.\n",
      "  overwrite_a=True).T\n",
      "/Users/cmagri1/OneDrive - Johns Hopkins/git/EncodingModel_cm296/cv_regression.py:44: RuntimeWarning: invalid value encountered in true_divide\n",
      "  p_coef = numerator/denominator\n",
      "/Users/cmagri1/OneDrive - Johns Hopkins/git/EncodingModel_cm296/cv_regression.py:44: RuntimeWarning: invalid value encountered in true_divide\n",
      "  p_coef = numerator/denominator\n",
      "/Users/cmagri1/opt/anaconda3/lib/python3.7/site-packages/ipykernel_launcher.py:12: RuntimeWarning: Mean of empty slice\n",
      "  if sys.path[0] == '':\n"
     ]
    },
    {
     "name": "stdout",
     "output_type": "stream",
     "text": [
      "k-fold regression, independet variable: 10 PCs retained of DNNActvtn from conv_4\n"
     ]
    },
    {
     "name": "stderr",
     "output_type": "stream",
     "text": [
      "/Users/cmagri1/OneDrive - Johns Hopkins/git/EncodingModel_cm296/cv_regression.py:44: RuntimeWarning: invalid value encountered in true_divide\n",
      "  p_coef = numerator/denominator\n",
      "/Users/cmagri1/OneDrive - Johns Hopkins/git/EncodingModel_cm296/cv_regression.py:44: RuntimeWarning: invalid value encountered in true_divide\n",
      "  p_coef = numerator/denominator\n",
      "/Users/cmagri1/OneDrive - Johns Hopkins/git/EncodingModel_cm296/cv_regression.py:44: RuntimeWarning: invalid value encountered in true_divide\n",
      "  p_coef = numerator/denominator\n",
      "/Users/cmagri1/OneDrive - Johns Hopkins/git/EncodingModel_cm296/cv_regression.py:44: RuntimeWarning: invalid value encountered in true_divide\n",
      "  p_coef = numerator/denominator\n",
      "/Users/cmagri1/OneDrive - Johns Hopkins/git/EncodingModel_cm296/cv_regression.py:44: RuntimeWarning: invalid value encountered in true_divide\n",
      "  p_coef = numerator/denominator\n",
      "/Users/cmagri1/OneDrive - Johns Hopkins/git/EncodingModel_cm296/cv_regression.py:44: RuntimeWarning: invalid value encountered in true_divide\n",
      "  p_coef = numerator/denominator\n",
      "/Users/cmagri1/OneDrive - Johns Hopkins/git/EncodingModel_cm296/cv_regression.py:44: RuntimeWarning: invalid value encountered in true_divide\n",
      "  p_coef = numerator/denominator\n",
      "/Users/cmagri1/OneDrive - Johns Hopkins/git/EncodingModel_cm296/cv_regression.py:44: RuntimeWarning: invalid value encountered in true_divide\n",
      "  p_coef = numerator/denominator\n",
      "/Users/cmagri1/OneDrive - Johns Hopkins/git/EncodingModel_cm296/cv_regression.py:44: RuntimeWarning: invalid value encountered in true_divide\n",
      "  p_coef = numerator/denominator\n",
      "/Users/cmagri1/opt/anaconda3/lib/python3.7/site-packages/ipykernel_launcher.py:12: RuntimeWarning: Mean of empty slice\n",
      "  if sys.path[0] == '':\n"
     ]
    },
    {
     "name": "stdout",
     "output_type": "stream",
     "text": [
      "k-fold regression, independet variable: 20 PCs retained of DNNActvtn from conv_4\n"
     ]
    },
    {
     "name": "stderr",
     "output_type": "stream",
     "text": [
      "/Users/cmagri1/OneDrive - Johns Hopkins/git/EncodingModel_cm296/cv_regression.py:44: RuntimeWarning: invalid value encountered in true_divide\n",
      "  p_coef = numerator/denominator\n",
      "/Users/cmagri1/OneDrive - Johns Hopkins/git/EncodingModel_cm296/cv_regression.py:44: RuntimeWarning: invalid value encountered in true_divide\n",
      "  p_coef = numerator/denominator\n",
      "/Users/cmagri1/OneDrive - Johns Hopkins/git/EncodingModel_cm296/cv_regression.py:44: RuntimeWarning: invalid value encountered in true_divide\n",
      "  p_coef = numerator/denominator\n",
      "/Users/cmagri1/OneDrive - Johns Hopkins/git/EncodingModel_cm296/cv_regression.py:44: RuntimeWarning: invalid value encountered in true_divide\n",
      "  p_coef = numerator/denominator\n",
      "/Users/cmagri1/OneDrive - Johns Hopkins/git/EncodingModel_cm296/cv_regression.py:44: RuntimeWarning: invalid value encountered in true_divide\n",
      "  p_coef = numerator/denominator\n",
      "/Users/cmagri1/OneDrive - Johns Hopkins/git/EncodingModel_cm296/cv_regression.py:44: RuntimeWarning: invalid value encountered in true_divide\n",
      "  p_coef = numerator/denominator\n",
      "/Users/cmagri1/OneDrive - Johns Hopkins/git/EncodingModel_cm296/cv_regression.py:44: RuntimeWarning: invalid value encountered in true_divide\n",
      "  p_coef = numerator/denominator\n",
      "/Users/cmagri1/OneDrive - Johns Hopkins/git/EncodingModel_cm296/cv_regression.py:44: RuntimeWarning: invalid value encountered in true_divide\n",
      "  p_coef = numerator/denominator\n",
      "/Users/cmagri1/OneDrive - Johns Hopkins/git/EncodingModel_cm296/cv_regression.py:44: RuntimeWarning: invalid value encountered in true_divide\n",
      "  p_coef = numerator/denominator\n",
      "/Users/cmagri1/opt/anaconda3/lib/python3.7/site-packages/ipykernel_launcher.py:12: RuntimeWarning: Mean of empty slice\n",
      "  if sys.path[0] == '':\n"
     ]
    },
    {
     "name": "stdout",
     "output_type": "stream",
     "text": [
      "k-fold regression, independet variable: 30 PCs retained of DNNActvtn from conv_4\n"
     ]
    },
    {
     "name": "stderr",
     "output_type": "stream",
     "text": [
      "/Users/cmagri1/OneDrive - Johns Hopkins/git/EncodingModel_cm296/cv_regression.py:44: RuntimeWarning: invalid value encountered in true_divide\n",
      "  p_coef = numerator/denominator\n",
      "/Users/cmagri1/OneDrive - Johns Hopkins/git/EncodingModel_cm296/cv_regression.py:44: RuntimeWarning: invalid value encountered in true_divide\n",
      "  p_coef = numerator/denominator\n",
      "/Users/cmagri1/OneDrive - Johns Hopkins/git/EncodingModel_cm296/cv_regression.py:44: RuntimeWarning: invalid value encountered in true_divide\n",
      "  p_coef = numerator/denominator\n",
      "/Users/cmagri1/OneDrive - Johns Hopkins/git/EncodingModel_cm296/cv_regression.py:44: RuntimeWarning: invalid value encountered in true_divide\n",
      "  p_coef = numerator/denominator\n",
      "/Users/cmagri1/OneDrive - Johns Hopkins/git/EncodingModel_cm296/cv_regression.py:44: RuntimeWarning: invalid value encountered in true_divide\n",
      "  p_coef = numerator/denominator\n",
      "/Users/cmagri1/OneDrive - Johns Hopkins/git/EncodingModel_cm296/cv_regression.py:44: RuntimeWarning: invalid value encountered in true_divide\n",
      "  p_coef = numerator/denominator\n",
      "/Users/cmagri1/OneDrive - Johns Hopkins/git/EncodingModel_cm296/cv_regression.py:44: RuntimeWarning: invalid value encountered in true_divide\n",
      "  p_coef = numerator/denominator\n",
      "/Users/cmagri1/OneDrive - Johns Hopkins/git/EncodingModel_cm296/cv_regression.py:44: RuntimeWarning: invalid value encountered in true_divide\n",
      "  p_coef = numerator/denominator\n",
      "/Users/cmagri1/OneDrive - Johns Hopkins/git/EncodingModel_cm296/cv_regression.py:44: RuntimeWarning: invalid value encountered in true_divide\n",
      "  p_coef = numerator/denominator\n",
      "/Users/cmagri1/opt/anaconda3/lib/python3.7/site-packages/ipykernel_launcher.py:12: RuntimeWarning: Mean of empty slice\n",
      "  if sys.path[0] == '':\n"
     ]
    },
    {
     "name": "stdout",
     "output_type": "stream",
     "text": [
      "k-fold regression, independet variable: 40 PCs retained of DNNActvtn from conv_4\n"
     ]
    },
    {
     "name": "stderr",
     "output_type": "stream",
     "text": [
      "/Users/cmagri1/OneDrive - Johns Hopkins/git/EncodingModel_cm296/cv_regression.py:44: RuntimeWarning: invalid value encountered in true_divide\n",
      "  p_coef = numerator/denominator\n",
      "/Users/cmagri1/OneDrive - Johns Hopkins/git/EncodingModel_cm296/cv_regression.py:44: RuntimeWarning: invalid value encountered in true_divide\n",
      "  p_coef = numerator/denominator\n",
      "/Users/cmagri1/OneDrive - Johns Hopkins/git/EncodingModel_cm296/cv_regression.py:44: RuntimeWarning: invalid value encountered in true_divide\n",
      "  p_coef = numerator/denominator\n",
      "/Users/cmagri1/OneDrive - Johns Hopkins/git/EncodingModel_cm296/cv_regression.py:44: RuntimeWarning: invalid value encountered in true_divide\n",
      "  p_coef = numerator/denominator\n",
      "/Users/cmagri1/OneDrive - Johns Hopkins/git/EncodingModel_cm296/cv_regression.py:44: RuntimeWarning: invalid value encountered in true_divide\n",
      "  p_coef = numerator/denominator\n",
      "/Users/cmagri1/OneDrive - Johns Hopkins/git/EncodingModel_cm296/cv_regression.py:44: RuntimeWarning: invalid value encountered in true_divide\n",
      "  p_coef = numerator/denominator\n",
      "/Users/cmagri1/OneDrive - Johns Hopkins/git/EncodingModel_cm296/cv_regression.py:44: RuntimeWarning: invalid value encountered in true_divide\n",
      "  p_coef = numerator/denominator\n",
      "/Users/cmagri1/OneDrive - Johns Hopkins/git/EncodingModel_cm296/cv_regression.py:44: RuntimeWarning: invalid value encountered in true_divide\n",
      "  p_coef = numerator/denominator\n",
      "/Users/cmagri1/OneDrive - Johns Hopkins/git/EncodingModel_cm296/cv_regression.py:44: RuntimeWarning: invalid value encountered in true_divide\n",
      "  p_coef = numerator/denominator\n",
      "/Users/cmagri1/opt/anaconda3/lib/python3.7/site-packages/ipykernel_launcher.py:12: RuntimeWarning: Mean of empty slice\n",
      "  if sys.path[0] == '':\n"
     ]
    },
    {
     "name": "stdout",
     "output_type": "stream",
     "text": [
      "k-fold regression, independet variable: 50 PCs retained of DNNActvtn from conv_4\n"
     ]
    },
    {
     "name": "stderr",
     "output_type": "stream",
     "text": [
      "/Users/cmagri1/OneDrive - Johns Hopkins/git/EncodingModel_cm296/cv_regression.py:44: RuntimeWarning: invalid value encountered in true_divide\n",
      "  p_coef = numerator/denominator\n",
      "/Users/cmagri1/OneDrive - Johns Hopkins/git/EncodingModel_cm296/cv_regression.py:44: RuntimeWarning: invalid value encountered in true_divide\n",
      "  p_coef = numerator/denominator\n",
      "/Users/cmagri1/OneDrive - Johns Hopkins/git/EncodingModel_cm296/cv_regression.py:44: RuntimeWarning: invalid value encountered in true_divide\n",
      "  p_coef = numerator/denominator\n",
      "/Users/cmagri1/OneDrive - Johns Hopkins/git/EncodingModel_cm296/cv_regression.py:44: RuntimeWarning: invalid value encountered in true_divide\n",
      "  p_coef = numerator/denominator\n",
      "/Users/cmagri1/OneDrive - Johns Hopkins/git/EncodingModel_cm296/cv_regression.py:44: RuntimeWarning: invalid value encountered in true_divide\n",
      "  p_coef = numerator/denominator\n",
      "/Users/cmagri1/OneDrive - Johns Hopkins/git/EncodingModel_cm296/cv_regression.py:44: RuntimeWarning: invalid value encountered in true_divide\n",
      "  p_coef = numerator/denominator\n",
      "/Users/cmagri1/OneDrive - Johns Hopkins/git/EncodingModel_cm296/cv_regression.py:44: RuntimeWarning: invalid value encountered in true_divide\n",
      "  p_coef = numerator/denominator\n",
      "/Users/cmagri1/OneDrive - Johns Hopkins/git/EncodingModel_cm296/cv_regression.py:44: RuntimeWarning: invalid value encountered in true_divide\n",
      "  p_coef = numerator/denominator\n",
      "/Users/cmagri1/OneDrive - Johns Hopkins/git/EncodingModel_cm296/cv_regression.py:44: RuntimeWarning: invalid value encountered in true_divide\n",
      "  p_coef = numerator/denominator\n",
      "/Users/cmagri1/opt/anaconda3/lib/python3.7/site-packages/ipykernel_launcher.py:12: RuntimeWarning: Mean of empty slice\n",
      "  if sys.path[0] == '':\n",
      "/Users/cmagri1/opt/anaconda3/lib/python3.7/site-packages/ipykernel_launcher.py:3: RuntimeWarning: More than 20 figures have been opened. Figures created through the pyplot interface (`matplotlib.pyplot.figure`) are retained until explicitly closed and may consume too much memory. (To control this warning, see the rcParam `figure.max_open_warning`).\n",
      "  This is separate from the ipykernel package so we can avoid doing imports until\n"
     ]
    },
    {
     "name": "stdout",
     "output_type": "stream",
     "text": [
      "k-fold regression, independet variable: 60 PCs retained of DNNActvtn from conv_4\n"
     ]
    },
    {
     "name": "stderr",
     "output_type": "stream",
     "text": [
      "/Users/cmagri1/OneDrive - Johns Hopkins/git/EncodingModel_cm296/cv_regression.py:44: RuntimeWarning: invalid value encountered in true_divide\n",
      "  p_coef = numerator/denominator\n",
      "/Users/cmagri1/OneDrive - Johns Hopkins/git/EncodingModel_cm296/cv_regression.py:44: RuntimeWarning: invalid value encountered in true_divide\n",
      "  p_coef = numerator/denominator\n",
      "/Users/cmagri1/OneDrive - Johns Hopkins/git/EncodingModel_cm296/cv_regression.py:44: RuntimeWarning: invalid value encountered in true_divide\n",
      "  p_coef = numerator/denominator\n",
      "/Users/cmagri1/OneDrive - Johns Hopkins/git/EncodingModel_cm296/cv_regression.py:44: RuntimeWarning: invalid value encountered in true_divide\n",
      "  p_coef = numerator/denominator\n",
      "/Users/cmagri1/OneDrive - Johns Hopkins/git/EncodingModel_cm296/cv_regression.py:44: RuntimeWarning: invalid value encountered in true_divide\n",
      "  p_coef = numerator/denominator\n",
      "/Users/cmagri1/OneDrive - Johns Hopkins/git/EncodingModel_cm296/cv_regression.py:44: RuntimeWarning: invalid value encountered in true_divide\n",
      "  p_coef = numerator/denominator\n",
      "/Users/cmagri1/OneDrive - Johns Hopkins/git/EncodingModel_cm296/cv_regression.py:44: RuntimeWarning: invalid value encountered in true_divide\n",
      "  p_coef = numerator/denominator\n",
      "/Users/cmagri1/OneDrive - Johns Hopkins/git/EncodingModel_cm296/cv_regression.py:44: RuntimeWarning: invalid value encountered in true_divide\n",
      "  p_coef = numerator/denominator\n",
      "/Users/cmagri1/OneDrive - Johns Hopkins/git/EncodingModel_cm296/cv_regression.py:44: RuntimeWarning: invalid value encountered in true_divide\n",
      "  p_coef = numerator/denominator\n",
      "/Users/cmagri1/opt/anaconda3/lib/python3.7/site-packages/ipykernel_launcher.py:12: RuntimeWarning: Mean of empty slice\n",
      "  if sys.path[0] == '':\n",
      "/Users/cmagri1/opt/anaconda3/lib/python3.7/site-packages/ipykernel_launcher.py:3: RuntimeWarning: More than 20 figures have been opened. Figures created through the pyplot interface (`matplotlib.pyplot.figure`) are retained until explicitly closed and may consume too much memory. (To control this warning, see the rcParam `figure.max_open_warning`).\n",
      "  This is separate from the ipykernel package so we can avoid doing imports until\n"
     ]
    },
    {
     "name": "stdout",
     "output_type": "stream",
     "text": [
      "k-fold regression, independet variable: 70 PCs retained of DNNActvtn from conv_4\n"
     ]
    },
    {
     "name": "stderr",
     "output_type": "stream",
     "text": [
      "/Users/cmagri1/OneDrive - Johns Hopkins/git/EncodingModel_cm296/cv_regression.py:44: RuntimeWarning: invalid value encountered in true_divide\n",
      "  p_coef = numerator/denominator\n",
      "/Users/cmagri1/OneDrive - Johns Hopkins/git/EncodingModel_cm296/cv_regression.py:44: RuntimeWarning: invalid value encountered in true_divide\n",
      "  p_coef = numerator/denominator\n",
      "/Users/cmagri1/OneDrive - Johns Hopkins/git/EncodingModel_cm296/cv_regression.py:44: RuntimeWarning: invalid value encountered in true_divide\n",
      "  p_coef = numerator/denominator\n",
      "/Users/cmagri1/OneDrive - Johns Hopkins/git/EncodingModel_cm296/cv_regression.py:44: RuntimeWarning: invalid value encountered in true_divide\n",
      "  p_coef = numerator/denominator\n",
      "/Users/cmagri1/OneDrive - Johns Hopkins/git/EncodingModel_cm296/cv_regression.py:44: RuntimeWarning: invalid value encountered in true_divide\n",
      "  p_coef = numerator/denominator\n",
      "/Users/cmagri1/OneDrive - Johns Hopkins/git/EncodingModel_cm296/cv_regression.py:44: RuntimeWarning: invalid value encountered in true_divide\n",
      "  p_coef = numerator/denominator\n",
      "/Users/cmagri1/OneDrive - Johns Hopkins/git/EncodingModel_cm296/cv_regression.py:44: RuntimeWarning: invalid value encountered in true_divide\n",
      "  p_coef = numerator/denominator\n",
      "/Users/cmagri1/OneDrive - Johns Hopkins/git/EncodingModel_cm296/cv_regression.py:44: RuntimeWarning: invalid value encountered in true_divide\n",
      "  p_coef = numerator/denominator\n",
      "/Users/cmagri1/OneDrive - Johns Hopkins/git/EncodingModel_cm296/cv_regression.py:44: RuntimeWarning: invalid value encountered in true_divide\n",
      "  p_coef = numerator/denominator\n",
      "/Users/cmagri1/opt/anaconda3/lib/python3.7/site-packages/ipykernel_launcher.py:12: RuntimeWarning: Mean of empty slice\n",
      "  if sys.path[0] == '':\n",
      "/Users/cmagri1/opt/anaconda3/lib/python3.7/site-packages/ipykernel_launcher.py:3: RuntimeWarning: More than 20 figures have been opened. Figures created through the pyplot interface (`matplotlib.pyplot.figure`) are retained until explicitly closed and may consume too much memory. (To control this warning, see the rcParam `figure.max_open_warning`).\n",
      "  This is separate from the ipykernel package so we can avoid doing imports until\n"
     ]
    },
    {
     "name": "stdout",
     "output_type": "stream",
     "text": [
      "k-fold regression, independet variable: 80 PCs retained of DNNActvtn from conv_4\n"
     ]
    },
    {
     "name": "stderr",
     "output_type": "stream",
     "text": [
      "/Users/cmagri1/OneDrive - Johns Hopkins/git/EncodingModel_cm296/cv_regression.py:44: RuntimeWarning: invalid value encountered in true_divide\n",
      "  p_coef = numerator/denominator\n",
      "/Users/cmagri1/OneDrive - Johns Hopkins/git/EncodingModel_cm296/cv_regression.py:44: RuntimeWarning: invalid value encountered in true_divide\n",
      "  p_coef = numerator/denominator\n",
      "/Users/cmagri1/OneDrive - Johns Hopkins/git/EncodingModel_cm296/cv_regression.py:44: RuntimeWarning: invalid value encountered in true_divide\n",
      "  p_coef = numerator/denominator\n",
      "/Users/cmagri1/OneDrive - Johns Hopkins/git/EncodingModel_cm296/cv_regression.py:44: RuntimeWarning: invalid value encountered in true_divide\n",
      "  p_coef = numerator/denominator\n",
      "/Users/cmagri1/OneDrive - Johns Hopkins/git/EncodingModel_cm296/cv_regression.py:44: RuntimeWarning: invalid value encountered in true_divide\n",
      "  p_coef = numerator/denominator\n",
      "/Users/cmagri1/OneDrive - Johns Hopkins/git/EncodingModel_cm296/cv_regression.py:44: RuntimeWarning: invalid value encountered in true_divide\n",
      "  p_coef = numerator/denominator\n",
      "/Users/cmagri1/OneDrive - Johns Hopkins/git/EncodingModel_cm296/cv_regression.py:44: RuntimeWarning: invalid value encountered in true_divide\n",
      "  p_coef = numerator/denominator\n",
      "/Users/cmagri1/OneDrive - Johns Hopkins/git/EncodingModel_cm296/cv_regression.py:44: RuntimeWarning: invalid value encountered in true_divide\n",
      "  p_coef = numerator/denominator\n",
      "/Users/cmagri1/OneDrive - Johns Hopkins/git/EncodingModel_cm296/cv_regression.py:44: RuntimeWarning: invalid value encountered in true_divide\n",
      "  p_coef = numerator/denominator\n",
      "/Users/cmagri1/opt/anaconda3/lib/python3.7/site-packages/ipykernel_launcher.py:12: RuntimeWarning: Mean of empty slice\n",
      "  if sys.path[0] == '':\n",
      "/Users/cmagri1/opt/anaconda3/lib/python3.7/site-packages/ipykernel_launcher.py:3: RuntimeWarning: More than 20 figures have been opened. Figures created through the pyplot interface (`matplotlib.pyplot.figure`) are retained until explicitly closed and may consume too much memory. (To control this warning, see the rcParam `figure.max_open_warning`).\n",
      "  This is separate from the ipykernel package so we can avoid doing imports until\n"
     ]
    },
    {
     "name": "stdout",
     "output_type": "stream",
     "text": [
      "k-fold regression, independet variable: 10 PCs retained of ROIpred from conv_4\n"
     ]
    },
    {
     "name": "stderr",
     "output_type": "stream",
     "text": [
      "/Users/cmagri1/OneDrive - Johns Hopkins/git/EncodingModel_cm296/cv_regression.py:44: RuntimeWarning: invalid value encountered in true_divide\n",
      "  p_coef = numerator/denominator\n",
      "/Users/cmagri1/OneDrive - Johns Hopkins/git/EncodingModel_cm296/cv_regression.py:44: RuntimeWarning: invalid value encountered in true_divide\n",
      "  p_coef = numerator/denominator\n",
      "/Users/cmagri1/OneDrive - Johns Hopkins/git/EncodingModel_cm296/cv_regression.py:44: RuntimeWarning: invalid value encountered in true_divide\n",
      "  p_coef = numerator/denominator\n",
      "/Users/cmagri1/OneDrive - Johns Hopkins/git/EncodingModel_cm296/cv_regression.py:44: RuntimeWarning: invalid value encountered in true_divide\n",
      "  p_coef = numerator/denominator\n",
      "/Users/cmagri1/OneDrive - Johns Hopkins/git/EncodingModel_cm296/cv_regression.py:44: RuntimeWarning: invalid value encountered in true_divide\n",
      "  p_coef = numerator/denominator\n",
      "/Users/cmagri1/OneDrive - Johns Hopkins/git/EncodingModel_cm296/cv_regression.py:44: RuntimeWarning: invalid value encountered in true_divide\n",
      "  p_coef = numerator/denominator\n",
      "/Users/cmagri1/OneDrive - Johns Hopkins/git/EncodingModel_cm296/cv_regression.py:44: RuntimeWarning: invalid value encountered in true_divide\n",
      "  p_coef = numerator/denominator\n",
      "/Users/cmagri1/OneDrive - Johns Hopkins/git/EncodingModel_cm296/cv_regression.py:44: RuntimeWarning: invalid value encountered in true_divide\n",
      "  p_coef = numerator/denominator\n",
      "/Users/cmagri1/OneDrive - Johns Hopkins/git/EncodingModel_cm296/cv_regression.py:44: RuntimeWarning: invalid value encountered in true_divide\n",
      "  p_coef = numerator/denominator\n",
      "/Users/cmagri1/opt/anaconda3/lib/python3.7/site-packages/ipykernel_launcher.py:12: RuntimeWarning: Mean of empty slice\n",
      "  if sys.path[0] == '':\n",
      "/Users/cmagri1/opt/anaconda3/lib/python3.7/site-packages/ipykernel_launcher.py:3: RuntimeWarning: More than 20 figures have been opened. Figures created through the pyplot interface (`matplotlib.pyplot.figure`) are retained until explicitly closed and may consume too much memory. (To control this warning, see the rcParam `figure.max_open_warning`).\n",
      "  This is separate from the ipykernel package so we can avoid doing imports until\n"
     ]
    },
    {
     "name": "stdout",
     "output_type": "stream",
     "text": [
      "k-fold regression, independet variable: 20 PCs retained of ROIpred from conv_4\n"
     ]
    },
    {
     "name": "stderr",
     "output_type": "stream",
     "text": [
      "/Users/cmagri1/OneDrive - Johns Hopkins/git/EncodingModel_cm296/cv_regression.py:44: RuntimeWarning: invalid value encountered in true_divide\n",
      "  p_coef = numerator/denominator\n",
      "/Users/cmagri1/OneDrive - Johns Hopkins/git/EncodingModel_cm296/cv_regression.py:44: RuntimeWarning: invalid value encountered in true_divide\n",
      "  p_coef = numerator/denominator\n",
      "/Users/cmagri1/OneDrive - Johns Hopkins/git/EncodingModel_cm296/cv_regression.py:44: RuntimeWarning: invalid value encountered in true_divide\n",
      "  p_coef = numerator/denominator\n",
      "/Users/cmagri1/OneDrive - Johns Hopkins/git/EncodingModel_cm296/cv_regression.py:44: RuntimeWarning: invalid value encountered in true_divide\n",
      "  p_coef = numerator/denominator\n",
      "/Users/cmagri1/OneDrive - Johns Hopkins/git/EncodingModel_cm296/cv_regression.py:44: RuntimeWarning: invalid value encountered in true_divide\n",
      "  p_coef = numerator/denominator\n",
      "/Users/cmagri1/OneDrive - Johns Hopkins/git/EncodingModel_cm296/cv_regression.py:44: RuntimeWarning: invalid value encountered in true_divide\n",
      "  p_coef = numerator/denominator\n",
      "/Users/cmagri1/OneDrive - Johns Hopkins/git/EncodingModel_cm296/cv_regression.py:44: RuntimeWarning: invalid value encountered in true_divide\n",
      "  p_coef = numerator/denominator\n",
      "/Users/cmagri1/OneDrive - Johns Hopkins/git/EncodingModel_cm296/cv_regression.py:44: RuntimeWarning: invalid value encountered in true_divide\n",
      "  p_coef = numerator/denominator\n",
      "/Users/cmagri1/OneDrive - Johns Hopkins/git/EncodingModel_cm296/cv_regression.py:44: RuntimeWarning: invalid value encountered in true_divide\n",
      "  p_coef = numerator/denominator\n",
      "/Users/cmagri1/opt/anaconda3/lib/python3.7/site-packages/ipykernel_launcher.py:12: RuntimeWarning: Mean of empty slice\n",
      "  if sys.path[0] == '':\n",
      "/Users/cmagri1/opt/anaconda3/lib/python3.7/site-packages/ipykernel_launcher.py:3: RuntimeWarning: More than 20 figures have been opened. Figures created through the pyplot interface (`matplotlib.pyplot.figure`) are retained until explicitly closed and may consume too much memory. (To control this warning, see the rcParam `figure.max_open_warning`).\n",
      "  This is separate from the ipykernel package so we can avoid doing imports until\n"
     ]
    },
    {
     "name": "stdout",
     "output_type": "stream",
     "text": [
      "k-fold regression, independet variable: 30 PCs retained of ROIpred from conv_4\n"
     ]
    },
    {
     "name": "stderr",
     "output_type": "stream",
     "text": [
      "/Users/cmagri1/OneDrive - Johns Hopkins/git/EncodingModel_cm296/cv_regression.py:44: RuntimeWarning: invalid value encountered in true_divide\n",
      "  p_coef = numerator/denominator\n",
      "/Users/cmagri1/OneDrive - Johns Hopkins/git/EncodingModel_cm296/cv_regression.py:44: RuntimeWarning: invalid value encountered in true_divide\n",
      "  p_coef = numerator/denominator\n",
      "/Users/cmagri1/OneDrive - Johns Hopkins/git/EncodingModel_cm296/cv_regression.py:44: RuntimeWarning: invalid value encountered in true_divide\n",
      "  p_coef = numerator/denominator\n",
      "/Users/cmagri1/OneDrive - Johns Hopkins/git/EncodingModel_cm296/cv_regression.py:44: RuntimeWarning: invalid value encountered in true_divide\n",
      "  p_coef = numerator/denominator\n",
      "/Users/cmagri1/OneDrive - Johns Hopkins/git/EncodingModel_cm296/cv_regression.py:44: RuntimeWarning: invalid value encountered in true_divide\n",
      "  p_coef = numerator/denominator\n",
      "/Users/cmagri1/OneDrive - Johns Hopkins/git/EncodingModel_cm296/cv_regression.py:44: RuntimeWarning: invalid value encountered in true_divide\n",
      "  p_coef = numerator/denominator\n",
      "/Users/cmagri1/OneDrive - Johns Hopkins/git/EncodingModel_cm296/cv_regression.py:44: RuntimeWarning: invalid value encountered in true_divide\n",
      "  p_coef = numerator/denominator\n",
      "/Users/cmagri1/OneDrive - Johns Hopkins/git/EncodingModel_cm296/cv_regression.py:44: RuntimeWarning: invalid value encountered in true_divide\n",
      "  p_coef = numerator/denominator\n",
      "/Users/cmagri1/OneDrive - Johns Hopkins/git/EncodingModel_cm296/cv_regression.py:44: RuntimeWarning: invalid value encountered in true_divide\n",
      "  p_coef = numerator/denominator\n",
      "/Users/cmagri1/opt/anaconda3/lib/python3.7/site-packages/ipykernel_launcher.py:12: RuntimeWarning: Mean of empty slice\n",
      "  if sys.path[0] == '':\n",
      "/Users/cmagri1/opt/anaconda3/lib/python3.7/site-packages/ipykernel_launcher.py:3: RuntimeWarning: More than 20 figures have been opened. Figures created through the pyplot interface (`matplotlib.pyplot.figure`) are retained until explicitly closed and may consume too much memory. (To control this warning, see the rcParam `figure.max_open_warning`).\n",
      "  This is separate from the ipykernel package so we can avoid doing imports until\n"
     ]
    },
    {
     "name": "stdout",
     "output_type": "stream",
     "text": [
      "k-fold regression, independet variable: 40 PCs retained of ROIpred from conv_4\n"
     ]
    },
    {
     "name": "stderr",
     "output_type": "stream",
     "text": [
      "/Users/cmagri1/OneDrive - Johns Hopkins/git/EncodingModel_cm296/cv_regression.py:44: RuntimeWarning: invalid value encountered in true_divide\n",
      "  p_coef = numerator/denominator\n",
      "/Users/cmagri1/OneDrive - Johns Hopkins/git/EncodingModel_cm296/cv_regression.py:44: RuntimeWarning: invalid value encountered in true_divide\n",
      "  p_coef = numerator/denominator\n",
      "/Users/cmagri1/OneDrive - Johns Hopkins/git/EncodingModel_cm296/cv_regression.py:44: RuntimeWarning: invalid value encountered in true_divide\n",
      "  p_coef = numerator/denominator\n",
      "/Users/cmagri1/OneDrive - Johns Hopkins/git/EncodingModel_cm296/cv_regression.py:44: RuntimeWarning: invalid value encountered in true_divide\n",
      "  p_coef = numerator/denominator\n",
      "/Users/cmagri1/OneDrive - Johns Hopkins/git/EncodingModel_cm296/cv_regression.py:44: RuntimeWarning: invalid value encountered in true_divide\n",
      "  p_coef = numerator/denominator\n",
      "/Users/cmagri1/OneDrive - Johns Hopkins/git/EncodingModel_cm296/cv_regression.py:44: RuntimeWarning: invalid value encountered in true_divide\n",
      "  p_coef = numerator/denominator\n",
      "/Users/cmagri1/OneDrive - Johns Hopkins/git/EncodingModel_cm296/cv_regression.py:44: RuntimeWarning: invalid value encountered in true_divide\n",
      "  p_coef = numerator/denominator\n",
      "/Users/cmagri1/OneDrive - Johns Hopkins/git/EncodingModel_cm296/cv_regression.py:44: RuntimeWarning: invalid value encountered in true_divide\n",
      "  p_coef = numerator/denominator\n",
      "/Users/cmagri1/OneDrive - Johns Hopkins/git/EncodingModel_cm296/cv_regression.py:44: RuntimeWarning: invalid value encountered in true_divide\n",
      "  p_coef = numerator/denominator\n",
      "/Users/cmagri1/opt/anaconda3/lib/python3.7/site-packages/ipykernel_launcher.py:12: RuntimeWarning: Mean of empty slice\n",
      "  if sys.path[0] == '':\n",
      "/Users/cmagri1/opt/anaconda3/lib/python3.7/site-packages/ipykernel_launcher.py:3: RuntimeWarning: More than 20 figures have been opened. Figures created through the pyplot interface (`matplotlib.pyplot.figure`) are retained until explicitly closed and may consume too much memory. (To control this warning, see the rcParam `figure.max_open_warning`).\n",
      "  This is separate from the ipykernel package so we can avoid doing imports until\n"
     ]
    },
    {
     "name": "stdout",
     "output_type": "stream",
     "text": [
      "k-fold regression, independet variable: 50 PCs retained of ROIpred from conv_4\n"
     ]
    },
    {
     "name": "stderr",
     "output_type": "stream",
     "text": [
      "/Users/cmagri1/OneDrive - Johns Hopkins/git/EncodingModel_cm296/cv_regression.py:44: RuntimeWarning: invalid value encountered in true_divide\n",
      "  p_coef = numerator/denominator\n",
      "/Users/cmagri1/OneDrive - Johns Hopkins/git/EncodingModel_cm296/cv_regression.py:44: RuntimeWarning: invalid value encountered in true_divide\n",
      "  p_coef = numerator/denominator\n",
      "/Users/cmagri1/OneDrive - Johns Hopkins/git/EncodingModel_cm296/cv_regression.py:44: RuntimeWarning: invalid value encountered in true_divide\n",
      "  p_coef = numerator/denominator\n",
      "/Users/cmagri1/OneDrive - Johns Hopkins/git/EncodingModel_cm296/cv_regression.py:44: RuntimeWarning: invalid value encountered in true_divide\n",
      "  p_coef = numerator/denominator\n",
      "/Users/cmagri1/OneDrive - Johns Hopkins/git/EncodingModel_cm296/cv_regression.py:44: RuntimeWarning: invalid value encountered in true_divide\n",
      "  p_coef = numerator/denominator\n",
      "/Users/cmagri1/OneDrive - Johns Hopkins/git/EncodingModel_cm296/cv_regression.py:44: RuntimeWarning: invalid value encountered in true_divide\n",
      "  p_coef = numerator/denominator\n",
      "/Users/cmagri1/OneDrive - Johns Hopkins/git/EncodingModel_cm296/cv_regression.py:44: RuntimeWarning: invalid value encountered in true_divide\n",
      "  p_coef = numerator/denominator\n",
      "/Users/cmagri1/OneDrive - Johns Hopkins/git/EncodingModel_cm296/cv_regression.py:44: RuntimeWarning: invalid value encountered in true_divide\n",
      "  p_coef = numerator/denominator\n",
      "/Users/cmagri1/OneDrive - Johns Hopkins/git/EncodingModel_cm296/cv_regression.py:44: RuntimeWarning: invalid value encountered in true_divide\n",
      "  p_coef = numerator/denominator\n",
      "/Users/cmagri1/opt/anaconda3/lib/python3.7/site-packages/ipykernel_launcher.py:12: RuntimeWarning: Mean of empty slice\n",
      "  if sys.path[0] == '':\n",
      "/Users/cmagri1/opt/anaconda3/lib/python3.7/site-packages/ipykernel_launcher.py:3: RuntimeWarning: More than 20 figures have been opened. Figures created through the pyplot interface (`matplotlib.pyplot.figure`) are retained until explicitly closed and may consume too much memory. (To control this warning, see the rcParam `figure.max_open_warning`).\n",
      "  This is separate from the ipykernel package so we can avoid doing imports until\n"
     ]
    },
    {
     "name": "stdout",
     "output_type": "stream",
     "text": [
      "k-fold regression, independet variable: 60 PCs retained of ROIpred from conv_4\n"
     ]
    },
    {
     "name": "stderr",
     "output_type": "stream",
     "text": [
      "/Users/cmagri1/OneDrive - Johns Hopkins/git/EncodingModel_cm296/cv_regression.py:44: RuntimeWarning: invalid value encountered in true_divide\n",
      "  p_coef = numerator/denominator\n",
      "/Users/cmagri1/OneDrive - Johns Hopkins/git/EncodingModel_cm296/cv_regression.py:44: RuntimeWarning: invalid value encountered in true_divide\n",
      "  p_coef = numerator/denominator\n",
      "/Users/cmagri1/OneDrive - Johns Hopkins/git/EncodingModel_cm296/cv_regression.py:44: RuntimeWarning: invalid value encountered in true_divide\n",
      "  p_coef = numerator/denominator\n",
      "/Users/cmagri1/OneDrive - Johns Hopkins/git/EncodingModel_cm296/cv_regression.py:44: RuntimeWarning: invalid value encountered in true_divide\n",
      "  p_coef = numerator/denominator\n",
      "/Users/cmagri1/OneDrive - Johns Hopkins/git/EncodingModel_cm296/cv_regression.py:44: RuntimeWarning: invalid value encountered in true_divide\n",
      "  p_coef = numerator/denominator\n",
      "/Users/cmagri1/OneDrive - Johns Hopkins/git/EncodingModel_cm296/cv_regression.py:44: RuntimeWarning: invalid value encountered in true_divide\n",
      "  p_coef = numerator/denominator\n",
      "/Users/cmagri1/OneDrive - Johns Hopkins/git/EncodingModel_cm296/cv_regression.py:44: RuntimeWarning: invalid value encountered in true_divide\n",
      "  p_coef = numerator/denominator\n",
      "/Users/cmagri1/OneDrive - Johns Hopkins/git/EncodingModel_cm296/cv_regression.py:44: RuntimeWarning: invalid value encountered in true_divide\n",
      "  p_coef = numerator/denominator\n",
      "/Users/cmagri1/OneDrive - Johns Hopkins/git/EncodingModel_cm296/cv_regression.py:44: RuntimeWarning: invalid value encountered in true_divide\n",
      "  p_coef = numerator/denominator\n",
      "/Users/cmagri1/opt/anaconda3/lib/python3.7/site-packages/ipykernel_launcher.py:12: RuntimeWarning: Mean of empty slice\n",
      "  if sys.path[0] == '':\n",
      "/Users/cmagri1/opt/anaconda3/lib/python3.7/site-packages/ipykernel_launcher.py:3: RuntimeWarning: More than 20 figures have been opened. Figures created through the pyplot interface (`matplotlib.pyplot.figure`) are retained until explicitly closed and may consume too much memory. (To control this warning, see the rcParam `figure.max_open_warning`).\n",
      "  This is separate from the ipykernel package so we can avoid doing imports until\n"
     ]
    },
    {
     "name": "stdout",
     "output_type": "stream",
     "text": [
      "k-fold regression, independet variable: 70 PCs retained of ROIpred from conv_4\n"
     ]
    },
    {
     "name": "stderr",
     "output_type": "stream",
     "text": [
      "/Users/cmagri1/OneDrive - Johns Hopkins/git/EncodingModel_cm296/cv_regression.py:44: RuntimeWarning: invalid value encountered in true_divide\n",
      "  p_coef = numerator/denominator\n",
      "/Users/cmagri1/OneDrive - Johns Hopkins/git/EncodingModel_cm296/cv_regression.py:44: RuntimeWarning: invalid value encountered in true_divide\n",
      "  p_coef = numerator/denominator\n",
      "/Users/cmagri1/OneDrive - Johns Hopkins/git/EncodingModel_cm296/cv_regression.py:44: RuntimeWarning: invalid value encountered in true_divide\n",
      "  p_coef = numerator/denominator\n",
      "/Users/cmagri1/OneDrive - Johns Hopkins/git/EncodingModel_cm296/cv_regression.py:44: RuntimeWarning: invalid value encountered in true_divide\n",
      "  p_coef = numerator/denominator\n",
      "/Users/cmagri1/OneDrive - Johns Hopkins/git/EncodingModel_cm296/cv_regression.py:44: RuntimeWarning: invalid value encountered in true_divide\n",
      "  p_coef = numerator/denominator\n",
      "/Users/cmagri1/OneDrive - Johns Hopkins/git/EncodingModel_cm296/cv_regression.py:44: RuntimeWarning: invalid value encountered in true_divide\n",
      "  p_coef = numerator/denominator\n",
      "/Users/cmagri1/OneDrive - Johns Hopkins/git/EncodingModel_cm296/cv_regression.py:44: RuntimeWarning: invalid value encountered in true_divide\n",
      "  p_coef = numerator/denominator\n",
      "/Users/cmagri1/OneDrive - Johns Hopkins/git/EncodingModel_cm296/cv_regression.py:44: RuntimeWarning: invalid value encountered in true_divide\n",
      "  p_coef = numerator/denominator\n",
      "/Users/cmagri1/OneDrive - Johns Hopkins/git/EncodingModel_cm296/cv_regression.py:44: RuntimeWarning: invalid value encountered in true_divide\n",
      "  p_coef = numerator/denominator\n",
      "/Users/cmagri1/opt/anaconda3/lib/python3.7/site-packages/ipykernel_launcher.py:12: RuntimeWarning: Mean of empty slice\n",
      "  if sys.path[0] == '':\n",
      "/Users/cmagri1/opt/anaconda3/lib/python3.7/site-packages/ipykernel_launcher.py:3: RuntimeWarning: More than 20 figures have been opened. Figures created through the pyplot interface (`matplotlib.pyplot.figure`) are retained until explicitly closed and may consume too much memory. (To control this warning, see the rcParam `figure.max_open_warning`).\n",
      "  This is separate from the ipykernel package so we can avoid doing imports until\n"
     ]
    },
    {
     "name": "stdout",
     "output_type": "stream",
     "text": [
      "k-fold regression, independet variable: 80 PCs retained of ROIpred from conv_4\n"
     ]
    },
    {
     "name": "stderr",
     "output_type": "stream",
     "text": [
      "/Users/cmagri1/opt/anaconda3/lib/python3.7/site-packages/sklearn/linear_model/ridge.py:147: LinAlgWarning: Ill-conditioned matrix (rcond=9.51327e-17): result may not be accurate.\n",
      "  overwrite_a=True).T\n",
      "/Users/cmagri1/OneDrive - Johns Hopkins/git/EncodingModel_cm296/cv_regression.py:44: RuntimeWarning: invalid value encountered in true_divide\n",
      "  p_coef = numerator/denominator\n",
      "/Users/cmagri1/opt/anaconda3/lib/python3.7/site-packages/sklearn/linear_model/ridge.py:147: LinAlgWarning: Ill-conditioned matrix (rcond=9.86402e-17): result may not be accurate.\n",
      "  overwrite_a=True).T\n",
      "/Users/cmagri1/OneDrive - Johns Hopkins/git/EncodingModel_cm296/cv_regression.py:44: RuntimeWarning: invalid value encountered in true_divide\n",
      "  p_coef = numerator/denominator\n",
      "/Users/cmagri1/opt/anaconda3/lib/python3.7/site-packages/sklearn/linear_model/ridge.py:147: LinAlgWarning: Ill-conditioned matrix (rcond=9.87077e-17): result may not be accurate.\n",
      "  overwrite_a=True).T\n",
      "/Users/cmagri1/OneDrive - Johns Hopkins/git/EncodingModel_cm296/cv_regression.py:44: RuntimeWarning: invalid value encountered in true_divide\n",
      "  p_coef = numerator/denominator\n",
      "/Users/cmagri1/opt/anaconda3/lib/python3.7/site-packages/sklearn/linear_model/ridge.py:147: LinAlgWarning: Ill-conditioned matrix (rcond=1.03711e-16): result may not be accurate.\n",
      "  overwrite_a=True).T\n",
      "/Users/cmagri1/OneDrive - Johns Hopkins/git/EncodingModel_cm296/cv_regression.py:44: RuntimeWarning: invalid value encountered in true_divide\n",
      "  p_coef = numerator/denominator\n",
      "/Users/cmagri1/opt/anaconda3/lib/python3.7/site-packages/sklearn/linear_model/ridge.py:147: LinAlgWarning: Ill-conditioned matrix (rcond=1.00284e-16): result may not be accurate.\n",
      "  overwrite_a=True).T\n",
      "/Users/cmagri1/OneDrive - Johns Hopkins/git/EncodingModel_cm296/cv_regression.py:44: RuntimeWarning: invalid value encountered in true_divide\n",
      "  p_coef = numerator/denominator\n",
      "/Users/cmagri1/opt/anaconda3/lib/python3.7/site-packages/sklearn/linear_model/ridge.py:147: LinAlgWarning: Ill-conditioned matrix (rcond=9.97714e-17): result may not be accurate.\n",
      "  overwrite_a=True).T\n",
      "/Users/cmagri1/OneDrive - Johns Hopkins/git/EncodingModel_cm296/cv_regression.py:44: RuntimeWarning: invalid value encountered in true_divide\n",
      "  p_coef = numerator/denominator\n",
      "/Users/cmagri1/opt/anaconda3/lib/python3.7/site-packages/sklearn/linear_model/ridge.py:147: LinAlgWarning: Ill-conditioned matrix (rcond=1.00014e-16): result may not be accurate.\n",
      "  overwrite_a=True).T\n",
      "/Users/cmagri1/OneDrive - Johns Hopkins/git/EncodingModel_cm296/cv_regression.py:44: RuntimeWarning: invalid value encountered in true_divide\n",
      "  p_coef = numerator/denominator\n",
      "/Users/cmagri1/opt/anaconda3/lib/python3.7/site-packages/sklearn/linear_model/ridge.py:147: LinAlgWarning: Ill-conditioned matrix (rcond=9.64257e-17): result may not be accurate.\n",
      "  overwrite_a=True).T\n",
      "/Users/cmagri1/OneDrive - Johns Hopkins/git/EncodingModel_cm296/cv_regression.py:44: RuntimeWarning: invalid value encountered in true_divide\n",
      "  p_coef = numerator/denominator\n",
      "/Users/cmagri1/opt/anaconda3/lib/python3.7/site-packages/sklearn/linear_model/ridge.py:147: LinAlgWarning: Ill-conditioned matrix (rcond=9.93313e-17): result may not be accurate.\n",
      "  overwrite_a=True).T\n",
      "/Users/cmagri1/OneDrive - Johns Hopkins/git/EncodingModel_cm296/cv_regression.py:44: RuntimeWarning: invalid value encountered in true_divide\n",
      "  p_coef = numerator/denominator\n",
      "/Users/cmagri1/opt/anaconda3/lib/python3.7/site-packages/ipykernel_launcher.py:12: RuntimeWarning: Mean of empty slice\n",
      "  if sys.path[0] == '':\n",
      "/Users/cmagri1/opt/anaconda3/lib/python3.7/site-packages/ipykernel_launcher.py:3: RuntimeWarning: More than 20 figures have been opened. Figures created through the pyplot interface (`matplotlib.pyplot.figure`) are retained until explicitly closed and may consume too much memory. (To control this warning, see the rcParam `figure.max_open_warning`).\n",
      "  This is separate from the ipykernel package so we can avoid doing imports until\n"
     ]
    }
   ],
   "source": [
    "for ilayer in layer:\n",
    "    for ikeyword in keyword:        \n",
    "        if ikeyword is 'ROIpred':\n",
    "            #load ROIpred as predictor variable\n",
    "            predictor_variable = np.load(os.getcwd() + '/data/' +  \"ROIpred_Sub\" + str(Sub) + '_' + ROI + \"_\" + ilayer + '.npy')\n",
    "        elif ikeyword is 'DNNActvtn':\n",
    "            predictor_variable = pd.read_csv(os.getcwd() + '/data/' +  \"things_\" + ilayer + '.csv').iloc[:,1:].to_numpy()\n",
    "        \n",
    "        \n",
    "        for icomps in Keepncomps:\n",
    "            mean_r = {}\n",
    "            \n",
    "            pca = PCA(n_components=icomps)\n",
    "            PCs = pca.fit_transform(predictor_variable)\n",
    "            \n",
    "            mean_r = iter_cvregress(PCs,features,kf9,ikeyword,ilayer,icomps)\n",
    "            make_figure(mean_r,ikeyword,ilayer,icomps)"
   ]
  }
 ],
 "metadata": {
  "kernelspec": {
   "display_name": "Python 3",
   "language": "python",
   "name": "python3"
  },
  "language_info": {
   "codemirror_mode": {
    "name": "ipython",
    "version": 3
   },
   "file_extension": ".py",
   "mimetype": "text/x-python",
   "name": "python",
   "nbconvert_exporter": "python",
   "pygments_lexer": "ipython3",
   "version": "3.7.4"
  }
 },
 "nbformat": 4,
 "nbformat_minor": 4
}
