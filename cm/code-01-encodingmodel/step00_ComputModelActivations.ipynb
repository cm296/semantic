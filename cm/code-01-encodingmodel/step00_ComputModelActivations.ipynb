{
 "cells": [
  {
   "cell_type": "code",
   "execution_count": 16,
   "metadata": {},
   "outputs": [],
   "source": [
    "import os.path\n",
    "import sys\n",
    "sys.path.append('/Users/cmagri1/OneDrive - Johns Hopkins/git')\n",
    "from torch import nn\n",
    "import torch\n",
    "from torchvision.models.alexnet import alexnet\n",
    "from tqdm import tqdm\n",
    "\n",
    "from EncodingModel_cm296 import utils as emutils\n",
    "from EncodingModel_cm296 import feature_extractor as emfe\n",
    "\n",
    "import pandas as pd\n",
    "import numpy as np\n",
    "import csv\n",
    "\n",
    "from utilsCM import Subject\n",
    "from utilsCM import cv_regression #Predicting fMRI reponses with features (Alexnet activations) \n",
    "#cv_regression computes cross-validated ridge regression. cross-validation groupings were pre-set based\n",
    "#on fMRI design. 9-categories out, 9 folds. r is averaged over folds, weights are computed over all data\n"
   ]
  },
  {
   "cell_type": "code",
   "execution_count": 17,
   "metadata": {},
   "outputs": [],
   "source": [
    "# specify variables\n",
    "resolutionval = 227;\n",
    "layer = {'conv_1','conv_2','conv_3','conv_4','conv_5'};\n",
    "# print(model)\n",
    "\n",
    "\n",
    "#sepcify directory where images (for which we have fMRI data) are\n",
    "PathToImgs = 'data-object2vec/stimuli'\n",
    "# conditions = emutils.listdir('data-object2vec/stimuli')\n",
    "# keyword = 'object2vec'"
   ]
  },
  {
   "cell_type": "code",
   "execution_count": 18,
   "metadata": {},
   "outputs": [],
   "source": [
    "# extract fMRI data\n",
    "ROI = 'LOC'\n",
    "Sub = 1\n",
    "subject = Subject(Sub,[ROI])"
   ]
  },
  {
   "cell_type": "code",
   "execution_count": 19,
   "metadata": {},
   "outputs": [],
   "source": [
    "#Load word2sense\n",
    "#already preprocessed in MATLAB so that Wrd2Sns and THINGs overlap --> we have IMAGES, LABELS and SENSES\n",
    "pathtofile = '../Code-001/'\n",
    "Wrd2Sense = pd.read_csv(pathtofile + \"ThingsWrd2Sns.txt\", sep=\",\")\n",
    "ImgInfo = pd.read_csv(pathtofile + \"KeptTHINGSInfo.txt\", sep=\",\")\n",
    "pathtoTHINGS = '/Users/cmagri1/OneDrive - Johns Hopkins/Project-Word2Sense//THINGSdataset/Main/images'"
   ]
  },
  {
   "cell_type": "code",
   "execution_count": 20,
   "metadata": {},
   "outputs": [],
   "source": [
    "def object_by_feature(PathToImgs,keyword,ilayer,resolutionval):\n",
    "    datapath = 'data/'\n",
    "    if os.path.isfile(datapath+ keyword + '_' + ilayer + \".csv\"):\n",
    "        print('loading file with '+ keyword+ ' stimuli features for ' + ilayer)\n",
    "        features = pd.read_csv(datapath+ keyword + \"_\" + ilayer + \".csv\"  , sep=\",\", header=None, index_col=0)\n",
    "        condition_features = {}\n",
    "        for index, row in features.iterrows():\n",
    "            condition_features[index] = row \n",
    "    else:\n",
    "        print('Computing '+ keyword+ ' stimuli features for ' + ilayer)\n",
    "        model = emfe.AlexNet(ilayer); \n",
    "        \n",
    "        condition_features = emutils.compute_features(model, PathToImgs,resolutionval)\n",
    "        features = pd.DataFrame(condition_features).transpose().set_index(0)  \n",
    "        features.to_csv(datapath + keyword+ \"_\" + ilayer + \".csv\", index = True, header=False)\n",
    "#     layer_by_features[ilayer] = features; #create multistructure with all layers\n",
    "    return condition_features"
   ]
  },
  {
   "cell_type": "code",
   "execution_count": 23,
   "metadata": {},
   "outputs": [
    {
     "name": "stdout",
     "output_type": "stream",
     "text": [
      "Computing object2vec stimuli features for conv_3\n"
     ]
    },
    {
     "name": "stderr",
     "output_type": "stream",
     "text": [
      "100%|██████████| 81/81 [00:19<00:00,  4.25it/s]\n"
     ]
    },
    {
     "name": "stdout",
     "output_type": "stream",
     "text": [
      "loading file with things stimuli features for conv_3\n",
      "Computing ROI prediction for conv_3\n",
      "Computing object2vec stimuli features for conv_2\n"
     ]
    },
    {
     "name": "stderr",
     "output_type": "stream",
     "text": [
      "100%|██████████| 81/81 [00:16<00:00,  4.77it/s]\n"
     ]
    },
    {
     "name": "stdout",
     "output_type": "stream",
     "text": [
      "loading file with things stimuli features for conv_2\n",
      "Computing ROI prediction for conv_2\n",
      "loading file with object2vec stimuli features for conv_1\n",
      "loading file with things stimuli features for conv_1\n",
      "Computing ROI prediction for conv_1\n",
      "loading file with object2vec stimuli features for conv_5\n",
      "loading file with things stimuli features for conv_5\n",
      "Computing ROI prediction for conv_5\n",
      "Computing object2vec stimuli features for conv_4\n"
     ]
    },
    {
     "name": "stderr",
     "output_type": "stream",
     "text": [
      "100%|██████████| 81/81 [00:20<00:00,  3.93it/s]\n"
     ]
    },
    {
     "name": "stdout",
     "output_type": "stream",
     "text": [
      "loading file with things stimuli features for conv_4\n",
      "Computing ROI prediction for conv_4\n",
      "Done!\n"
     ]
    }
   ],
   "source": [
    "#Compute features of CNN\n",
    "for ilayer in layer:\n",
    "    #---------Object2Vect-----------------\n",
    "    keyword = 'object2vec'\n",
    "    object2vec_features = object_by_feature(PathToImgs,keyword,ilayer,resolutionval)\n",
    "    weights, r = cv_regression(object2vec_features, subject, l2=0)\n",
    "    \n",
    "    \n",
    "    #---------THINGS-----------------\n",
    "    keyword = 'things'\n",
    "    things_features = object_by_feature(pathtoTHINGS,keyword,ilayer,resolutionval)\n",
    "    things_features_df = pd.DataFrame(things_features).transpose()\n",
    "    \n",
    "    #---Compute Predicted ROI response to THINGS dataset\n",
    "    print(\"Computing ROI prediction for \" + ilayer)\n",
    "    ROIpred = {}\n",
    "    ROIpred = np.dot(things_features_df.iloc[:,:].to_numpy(),weights.transpose())\n",
    "    np.save(os.getcwd() + '/data/ROIpred_Sub' + str(Sub) + '_' + ROI + \"_\" + ilayer, ROIpred)\n",
    "\n",
    "print(\"Done!\")"
   ]
  },
  {
   "cell_type": "code",
   "execution_count": null,
   "metadata": {},
   "outputs": [],
   "source": []
  },
  {
   "cell_type": "code",
   "execution_count": null,
   "metadata": {},
   "outputs": [],
   "source": []
  }
 ],
 "metadata": {
  "kernelspec": {
   "display_name": "Python 3",
   "language": "python",
   "name": "python3"
  },
  "language_info": {
   "codemirror_mode": {
    "name": "ipython",
    "version": 3
   },
   "file_extension": ".py",
   "mimetype": "text/x-python",
   "name": "python",
   "nbconvert_exporter": "python",
   "pygments_lexer": "ipython3",
   "version": "3.7.4"
  }
 },
 "nbformat": 4,
 "nbformat_minor": 4
}
