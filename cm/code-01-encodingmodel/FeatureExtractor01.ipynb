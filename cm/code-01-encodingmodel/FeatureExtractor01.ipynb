{
 "cells": [
  {
   "cell_type": "markdown",
   "metadata": {},
   "source": [
    "# Extract features for object2vec stimulus set\n",
    "##package \"utilsCM\" slightly modified from \"utils\" written by Eric Elmolzino"
   ]
  },
  {
   "cell_type": "code",
   "execution_count": null,
   "metadata": {},
   "outputs": [],
   "source": [
    "from torch import nn\n",
    "import torch\n",
    "from torchvision.models.alexnet import alexnet\n",
    "from tqdm import tqdm"
   ]
  },
  {
   "cell_type": "code",
   "execution_count": null,
   "metadata": {},
   "outputs": [],
   "source": [
    "## Specify Alexnet model\n",
    "class AlexNet(nn.Module):\n",
    "    def __init__(self, feature_name):\n",
    "        super().__init__()\n",
    "        self.feature_name = feature_name\n",
    "        base = alexnet(pretrained=True)\n",
    "        self.conv_1 = base.features[:3]\n",
    "        self.conv_2 = base.features[3:6]\n",
    "        self.conv_3 = base.features[6:8]\n",
    "        self.conv_4 = base.features[8:10]\n",
    "        self.conv_5 = base.features[10:]\n",
    "        self.avgpool = base.avgpool\n",
    "        self.fc_1 = base.classifier[:3]\n",
    "        self.fc_2 = base.classifier[3:6]\n",
    "        self.fc_3 = base.classifier[6:]\n",
    "        self.eval()\n",
    "    def forward(self, stimuli):\n",
    "        x = self.conv_1(stimuli)\n",
    "        if 'conv_1' == self.feature_name: return x.view(x.shape[0], -1)\n",
    "        x = self.conv_2(x)\n",
    "        if 'conv_2' == self.feature_name: return x.view(x.shape[0], -1)\n",
    "        x = self.conv_3(x)\n",
    "        if 'conv_3' == self.feature_name: return x.view(x.shape[0], -1)\n",
    "        x = self.conv_4(x)\n",
    "        if 'conv_4' == self.feature_name: return x.view(x.shape[0], -1)\n",
    "        x = self.conv_5(x)\n",
    "        if 'conv_5' == self.feature_name: return x.view(x.shape[0], -1)\n",
    "        x = self.avgpool(x)\n",
    "        x = x.view(x.shape[0], -1)\n",
    "        if 'pool' == self.feature_name: return x\n",
    "        x = self.fc_1(x)\n",
    "        if 'fc_1' == self.feature_name: return x\n",
    "        x = self.fc_2(x)\n",
    "        if 'fc_2' == self.feature_name: return x\n",
    "        x = self.fc_3(x)\n",
    "        if 'fc_3' == self.feature_name: return x\n",
    "        return None "
   ]
  },
  {
   "cell_type": "code",
   "execution_count": 3,
   "metadata": {},
   "outputs": [
    {
     "name": "stderr",
     "output_type": "stream",
     "text": [
      "\r",
      "  0%|          | 0/81 [00:00<?, ?it/s]"
     ]
    },
    {
     "name": "stdout",
     "output_type": "stream",
     "text": [
      "Extracting stimuli features\n"
     ]
    },
    {
     "name": "stderr",
     "output_type": "stream",
     "text": [
      "100%|██████████| 81/81 [00:23<00:00,  3.41it/s]\n"
     ]
    }
   ],
   "source": [
    "from utilsCM import listdir, image_to_tensor\n",
    "\n",
    "# specify variables\n",
    "resolutionval = 227;\n",
    "layer = 'conv_5';\n",
    "model = AlexNet(layer);\n",
    "# print(model)\n",
    "\n",
    "#sepcify directory where images (for which we have fMRI data) are\n",
    "conditions = listdir('data-object2vec/stimuli')\n",
    "\n",
    "\n",
    "print('Extracting stimuli features')\n",
    "condition_features = {}\n",
    "for c in tqdm(conditions):\n",
    "    c_name = c.split('/')[-1]\n",
    "    stimuli = listdir(c)\n",
    "    #resize according to resolution and square the image\n",
    "    stimuli = [image_to_tensor(s, resolution=resolutionval) for s in stimuli]\n",
    "    stimuli = torch.stack(stimuli)\n",
    "    if torch.cuda.is_available():\n",
    "            stimuli = stimuli.cuda()\n",
    "    with torch.no_grad():\n",
    "        #average across the same category\n",
    "        feats = model(stimuli).mean(dim=0).cpu().numpy()\n",
    "    condition_features[c_name] = feats\n",
    "\n",
    "#checking dimensionality. For convolutional layers, output is maxpool\n",
    "#Example Conv1: 55 x 55 x 64\n",
    "# condition_features['airplane'].shape"
   ]
  },
  {
   "cell_type": "code",
   "execution_count": 6,
   "metadata": {},
   "outputs": [],
   "source": [
    "#extract fMRI data\n",
    "from utilsCM import Subject\n",
    "subject = Subject(1,['LOC'])\n",
    "# feat_extractor = AlexNetFC6()"
   ]
  },
  {
   "cell_type": "code",
   "execution_count": 7,
   "metadata": {},
   "outputs": [],
   "source": [
    "#Predicting fMRI reponses with features (Alexnet activations) \n",
    "#cv_regression computes cross-validated ridge regression. cross-validation groupings were pre-set based\n",
    "#on fMRI design. 9-categories out, 9 folds. r is averaged over folds, weights are computed over all data\n",
    "from utilsCM import cv_regression\n",
    "\n",
    "weights, r = cv_regression(condition_features, subject, l2=0)"
   ]
  },
  {
   "cell_type": "markdown",
   "metadata": {},
   "source": [
    "# Load Word2Sense, extract Alexnet features for those lables, use previously computed weights to compute predicted fMRI responses"
   ]
  },
  {
   "cell_type": "code",
   "execution_count": null,
   "metadata": {},
   "outputs": [],
   "source": [
    "#Load word2sense\n",
    "#already preprocessed in MATLAB so that Wrd2Sns and THINGs overlap --> we have IMAGES, LABELS and SENSES\n",
    "import pandas as pd\n",
    "\n",
    "pathtofile = '../Code-001/'\n",
    "Wrd2Sense = pd.read_csv(pathtofile + \"ThingsWrd2Sns.txt\", sep=\",\")\n",
    "ImgInfo = pd.read_csv(pathtofile + \"KeptTHINGSInfo.txt\", sep=\",\")"
   ]
  },
  {
   "cell_type": "code",
   "execution_count": null,
   "metadata": {},
   "outputs": [],
   "source": [
    "##Compute feature activations for THINGS dataset\n",
    "import os.path\n",
    "import csv\n",
    "import pandas as pd\n",
    "\n",
    "new_condition_features = {}\n",
    "\n",
    "if os.path.isfile(\"Things_\" + layer + \".csv\"):\n",
    "     b = pd.read_csv(\"Things_\" + layer + \".csv\", sep=\",\", header=0)\n",
    "else:\n",
    "    ## ImageFolder must contain subfolders of images:\n",
    "    image_dir = '/Users/cmagri1/OneDrive - Johns Hopkins/Project-Word2Sense//THINGSdataset/Main/images'\n",
    "    print('Extracting new stimuli features')\n",
    "    new_conditions = listdir(image_dir)\n",
    "    new_condition_features = {}\n",
    "    for c in tqdm(new_conditions):\n",
    "        c_name = c.split('/')[-1]\n",
    "        if (Wrd2Sense['item']==c_name).any(): ##if it's both in Word2Sense and Things\n",
    "            stimuli = listdir(c)\n",
    "            #resize according to resolution and square the image\n",
    "            stimuli = [image_to_tensor(s, resolution=resolutionval) for s in stimuli]\n",
    "            stimuli = torch.stack(stimuli)\n",
    "            if torch.cuda.is_available():\n",
    "                stimuli = stimuli.cuda()\n",
    "            with torch.no_grad():\n",
    "                #average across the same category\n",
    "                feats = model(stimuli).mean(dim=0).cpu().numpy()\n",
    "            new_condition_features[c_name] = feats\n",
    "    \n",
    "q = pd.DataFrame(new_condition_features).transpose()\n",
    "q.to_csv(os.getcwd() + \"/Things_\" + layer + \".csv\", index = True, header=False)"
   ]
  },
  {
   "cell_type": "code",
   "execution_count": null,
   "metadata": {},
   "outputs": [],
   "source": [
    "b = pd.read_csv(\"Things_\" + layer + \".csv\", sep=\",\",index_col = 0, header=None)"
   ]
  },
  {
   "cell_type": "code",
   "execution_count": null,
   "metadata": {},
   "outputs": [],
   "source": [
    "import numpy as np\n",
    "\n",
    "b[0:len(b)-1].to_numpy()\n",
    "# This will return dot product \n",
    "# Computing the predicted activation for all the THINGS dataset objects\n",
    "ROIpred = np.dot(b[0:len(b)-1].to_numpy(),weights.transpose()) "
   ]
  }
 ],
 "metadata": {
  "kernelspec": {
   "display_name": "Python 3",
   "language": "python",
   "name": "python3"
  },
  "language_info": {
   "codemirror_mode": {
    "name": "ipython",
    "version": 3
   },
   "file_extension": ".py",
   "mimetype": "text/x-python",
   "name": "python",
   "nbconvert_exporter": "python",
   "pygments_lexer": "ipython3",
   "version": "3.7.4"
  }
 },
 "nbformat": 4,
 "nbformat_minor": 2
}
