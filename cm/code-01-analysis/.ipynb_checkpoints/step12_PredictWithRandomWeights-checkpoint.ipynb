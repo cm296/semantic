{
 "cells": [
  {
   "cell_type": "code",
   "execution_count": 1,
   "metadata": {},
   "outputs": [],
   "source": [
    "import pandas as pd\n",
    "from sklearn.decomposition import PCA\n",
    "import os\n",
    "import utilsCM\n",
    "import numpy as np\n",
    "import runCV\n",
    "savepath = '../../../data-12/' #This needs to change based on step number!"
   ]
  },
  {
   "cell_type": "markdown",
   "metadata": {},
   "source": [
    "# Predicting using random weights"
   ]
  },
  {
   "cell_type": "markdown",
   "metadata": {},
   "source": [
    "### Determine parameters over which to do cross-validation"
   ]
  },
  {
   "cell_type": "code",
   "execution_count": 7,
   "metadata": {},
   "outputs": [],
   "source": [
    "# datapath = '../../../data-00/'\n",
    "keyword = {'DNNActvtn','ROIpred'}\n",
    "# layer =  {'conv_1','conv_5','fc_3'}\n",
    "# Sub = [1,2,3,4]\n",
    "# ROI = {'EVC','ObjectROI'}\n",
    "# Keepncomps = list(range(2,42,2))\n",
    "\n",
    "pretrained_val = True\n",
    "# RandomWs = True\n",
    "\n",
    "# Ypredict = 'Word2Sense' #Word2Vec or Word2Sense"
   ]
  },
  {
   "cell_type": "code",
   "execution_count": 3,
   "metadata": {},
   "outputs": [],
   "source": []
  },
  {
   "cell_type": "code",
   "execution_count": 4,
   "metadata": {},
   "outputs": [
    {
     "name": "stdout",
     "output_type": "stream",
     "text": [
      "k-fold regression, independet variable: 2 PCs retained of ROIpred from ObjectROI\n",
      "k-fold regression, independet variable: 4 PCs retained of ROIpred from ObjectROI\n",
      "k-fold regression, independet variable: 6 PCs retained of ROIpred from ObjectROI\n",
      "k-fold regression, independet variable: 8 PCs retained of ROIpred from ObjectROI\n",
      "k-fold regression, independet variable: 10 PCs retained of ROIpred from ObjectROI\n",
      "k-fold regression, independet variable: 12 PCs retained of ROIpred from ObjectROI\n",
      "k-fold regression, independet variable: 14 PCs retained of ROIpred from ObjectROI\n",
      "k-fold regression, independet variable: 16 PCs retained of ROIpred from ObjectROI\n",
      "k-fold regression, independet variable: 18 PCs retained of ROIpred from ObjectROI\n",
      "k-fold regression, independet variable: 20 PCs retained of ROIpred from ObjectROI\n",
      "k-fold regression, independet variable: 22 PCs retained of ROIpred from ObjectROI\n",
      "k-fold regression, independet variable: 24 PCs retained of ROIpred from ObjectROI\n",
      "k-fold regression, independet variable: 26 PCs retained of ROIpred from ObjectROI\n",
      "k-fold regression, independet variable: 28 PCs retained of ROIpred from ObjectROI\n",
      "k-fold regression, independet variable: 30 PCs retained of ROIpred from ObjectROI\n",
      "k-fold regression, independet variable: 32 PCs retained of ROIpred from ObjectROI\n",
      "k-fold regression, independet variable: 34 PCs retained of ROIpred from ObjectROI\n",
      "k-fold regression, independet variable: 36 PCs retained of ROIpred from ObjectROI\n",
      "k-fold regression, independet variable: 38 PCs retained of ROIpred from ObjectROI\n",
      "k-fold regression, independet variable: 40 PCs retained of ROIpred from ObjectROI\n",
      "k-fold regression, independet variable: 2 PCs retained of ROIpred from EVC\n",
      "k-fold regression, independet variable: 4 PCs retained of ROIpred from EVC\n",
      "k-fold regression, independet variable: 6 PCs retained of ROIpred from EVC\n",
      "k-fold regression, independet variable: 8 PCs retained of ROIpred from EVC\n",
      "k-fold regression, independet variable: 10 PCs retained of ROIpred from EVC\n",
      "k-fold regression, independet variable: 12 PCs retained of ROIpred from EVC\n",
      "k-fold regression, independet variable: 14 PCs retained of ROIpred from EVC\n",
      "k-fold regression, independet variable: 16 PCs retained of ROIpred from EVC\n",
      "k-fold regression, independet variable: 18 PCs retained of ROIpred from EVC\n",
      "k-fold regression, independet variable: 20 PCs retained of ROIpred from EVC\n",
      "k-fold regression, independet variable: 22 PCs retained of ROIpred from EVC\n",
      "k-fold regression, independet variable: 24 PCs retained of ROIpred from EVC\n",
      "k-fold regression, independet variable: 26 PCs retained of ROIpred from EVC\n",
      "k-fold regression, independet variable: 28 PCs retained of ROIpred from EVC\n",
      "k-fold regression, independet variable: 30 PCs retained of ROIpred from EVC\n",
      "k-fold regression, independet variable: 32 PCs retained of ROIpred from EVC\n",
      "k-fold regression, independet variable: 34 PCs retained of ROIpred from EVC\n",
      "k-fold regression, independet variable: 36 PCs retained of ROIpred from EVC\n",
      "k-fold regression, independet variable: 38 PCs retained of ROIpred from EVC\n",
      "k-fold regression, independet variable: 40 PCs retained of ROIpred from EVC\n",
      "k-fold regression, independet variable: 2 PCs retained of ROIpred from ObjectROI\n",
      "k-fold regression, independet variable: 4 PCs retained of ROIpred from ObjectROI\n",
      "k-fold regression, independet variable: 6 PCs retained of ROIpred from ObjectROI\n",
      "k-fold regression, independet variable: 8 PCs retained of ROIpred from ObjectROI\n",
      "k-fold regression, independet variable: 10 PCs retained of ROIpred from ObjectROI\n",
      "k-fold regression, independet variable: 12 PCs retained of ROIpred from ObjectROI\n",
      "k-fold regression, independet variable: 14 PCs retained of ROIpred from ObjectROI\n",
      "k-fold regression, independet variable: 16 PCs retained of ROIpred from ObjectROI\n",
      "k-fold regression, independet variable: 18 PCs retained of ROIpred from ObjectROI\n",
      "k-fold regression, independet variable: 20 PCs retained of ROIpred from ObjectROI\n",
      "k-fold regression, independet variable: 22 PCs retained of ROIpred from ObjectROI\n",
      "k-fold regression, independet variable: 24 PCs retained of ROIpred from ObjectROI\n",
      "k-fold regression, independet variable: 26 PCs retained of ROIpred from ObjectROI\n",
      "k-fold regression, independet variable: 28 PCs retained of ROIpred from ObjectROI\n",
      "k-fold regression, independet variable: 30 PCs retained of ROIpred from ObjectROI\n",
      "k-fold regression, independet variable: 32 PCs retained of ROIpred from ObjectROI\n",
      "k-fold regression, independet variable: 34 PCs retained of ROIpred from ObjectROI\n",
      "k-fold regression, independet variable: 36 PCs retained of ROIpred from ObjectROI\n",
      "k-fold regression, independet variable: 38 PCs retained of ROIpred from ObjectROI\n",
      "k-fold regression, independet variable: 40 PCs retained of ROIpred from ObjectROI\n",
      "k-fold regression, independet variable: 2 PCs retained of ROIpred from EVC\n",
      "k-fold regression, independet variable: 4 PCs retained of ROIpred from EVC\n",
      "k-fold regression, independet variable: 6 PCs retained of ROIpred from EVC\n",
      "k-fold regression, independet variable: 8 PCs retained of ROIpred from EVC\n",
      "k-fold regression, independet variable: 10 PCs retained of ROIpred from EVC\n",
      "k-fold regression, independet variable: 12 PCs retained of ROIpred from EVC\n",
      "k-fold regression, independet variable: 14 PCs retained of ROIpred from EVC\n",
      "k-fold regression, independet variable: 16 PCs retained of ROIpred from EVC\n",
      "k-fold regression, independet variable: 18 PCs retained of ROIpred from EVC\n",
      "k-fold regression, independet variable: 20 PCs retained of ROIpred from EVC\n",
      "k-fold regression, independet variable: 22 PCs retained of ROIpred from EVC\n",
      "k-fold regression, independet variable: 24 PCs retained of ROIpred from EVC\n",
      "k-fold regression, independet variable: 26 PCs retained of ROIpred from EVC\n",
      "k-fold regression, independet variable: 28 PCs retained of ROIpred from EVC\n",
      "k-fold regression, independet variable: 30 PCs retained of ROIpred from EVC\n",
      "k-fold regression, independet variable: 32 PCs retained of ROIpred from EVC\n",
      "k-fold regression, independet variable: 34 PCs retained of ROIpred from EVC\n",
      "k-fold regression, independet variable: 36 PCs retained of ROIpred from EVC\n",
      "k-fold regression, independet variable: 38 PCs retained of ROIpred from EVC\n",
      "k-fold regression, independet variable: 40 PCs retained of ROIpred from EVC\n",
      "k-fold regression, independet variable: 2 PCs retained of ROIpred from ObjectROI\n",
      "k-fold regression, independet variable: 4 PCs retained of ROIpred from ObjectROI\n",
      "k-fold regression, independet variable: 6 PCs retained of ROIpred from ObjectROI\n",
      "k-fold regression, independet variable: 8 PCs retained of ROIpred from ObjectROI\n",
      "k-fold regression, independet variable: 10 PCs retained of ROIpred from ObjectROI\n",
      "k-fold regression, independet variable: 12 PCs retained of ROIpred from ObjectROI\n",
      "k-fold regression, independet variable: 14 PCs retained of ROIpred from ObjectROI\n",
      "k-fold regression, independet variable: 16 PCs retained of ROIpred from ObjectROI\n",
      "k-fold regression, independet variable: 18 PCs retained of ROIpred from ObjectROI\n",
      "k-fold regression, independet variable: 20 PCs retained of ROIpred from ObjectROI\n",
      "k-fold regression, independet variable: 22 PCs retained of ROIpred from ObjectROI\n",
      "k-fold regression, independet variable: 24 PCs retained of ROIpred from ObjectROI\n",
      "k-fold regression, independet variable: 26 PCs retained of ROIpred from ObjectROI\n",
      "k-fold regression, independet variable: 28 PCs retained of ROIpred from ObjectROI\n",
      "k-fold regression, independet variable: 30 PCs retained of ROIpred from ObjectROI\n",
      "k-fold regression, independet variable: 32 PCs retained of ROIpred from ObjectROI\n",
      "k-fold regression, independet variable: 34 PCs retained of ROIpred from ObjectROI\n",
      "k-fold regression, independet variable: 36 PCs retained of ROIpred from ObjectROI\n",
      "k-fold regression, independet variable: 38 PCs retained of ROIpred from ObjectROI\n",
      "k-fold regression, independet variable: 40 PCs retained of ROIpred from ObjectROI\n",
      "k-fold regression, independet variable: 2 PCs retained of ROIpred from EVC\n",
      "k-fold regression, independet variable: 4 PCs retained of ROIpred from EVC\n",
      "k-fold regression, independet variable: 6 PCs retained of ROIpred from EVC\n",
      "k-fold regression, independet variable: 8 PCs retained of ROIpred from EVC\n",
      "k-fold regression, independet variable: 10 PCs retained of ROIpred from EVC\n",
      "k-fold regression, independet variable: 12 PCs retained of ROIpred from EVC\n",
      "k-fold regression, independet variable: 14 PCs retained of ROIpred from EVC\n",
      "k-fold regression, independet variable: 16 PCs retained of ROIpred from EVC\n",
      "k-fold regression, independet variable: 18 PCs retained of ROIpred from EVC\n",
      "k-fold regression, independet variable: 20 PCs retained of ROIpred from EVC\n",
      "k-fold regression, independet variable: 22 PCs retained of ROIpred from EVC\n",
      "k-fold regression, independet variable: 24 PCs retained of ROIpred from EVC\n",
      "k-fold regression, independet variable: 26 PCs retained of ROIpred from EVC\n",
      "k-fold regression, independet variable: 28 PCs retained of ROIpred from EVC\n",
      "k-fold regression, independet variable: 30 PCs retained of ROIpred from EVC\n",
      "k-fold regression, independet variable: 32 PCs retained of ROIpred from EVC\n",
      "k-fold regression, independet variable: 34 PCs retained of ROIpred from EVC\n",
      "k-fold regression, independet variable: 36 PCs retained of ROIpred from EVC\n",
      "k-fold regression, independet variable: 38 PCs retained of ROIpred from EVC\n",
      "k-fold regression, independet variable: 40 PCs retained of ROIpred from EVC\n"
     ]
    }
   ],
   "source": [
    "\n",
    "runCV.runCV_execute(pretrained_val,savepath,Ypredict='Word2Sense',RandomWs= False)\n"
   ]
  },
  {
   "cell_type": "code",
   "execution_count": 5,
   "metadata": {},
   "outputs": [],
   "source": [
    "from  matplotlib import pyplot\n",
    "import seaborn as sns\n",
    "from pandas import DataFrame as pddf\n",
    "\n",
    "datapath = '../../../data-12/'\n",
    "figurepath = '../../../figures-12/'\n",
    "\n",
    "# pretrained_vec = [True, False]\n"
   ]
  },
  {
   "cell_type": "code",
   "execution_count": 6,
   "metadata": {},
   "outputs": [],
   "source": [
    "myDict_median,myDict_max,myDict_count,myDict_mean = runCV.buildDict(datapath,figurepath,Ypredict='Word2Vec',layer={'conv_5'})\n",
    "\n"
   ]
  },
  {
   "cell_type": "code",
   "execution_count": null,
   "metadata": {},
   "outputs": [],
   "source": [
    "len(myDict_count['Metric'])"
   ]
  },
  {
   "cell_type": "code",
   "execution_count": null,
   "metadata": {},
   "outputs": [],
   "source": [
    "len(myDict_count['ObjectROI'])"
   ]
  },
  {
   "cell_type": "code",
   "execution_count": null,
   "metadata": {},
   "outputs": [],
   "source": [
    "len(myDict_count['DNNActvtn'])"
   ]
  },
  {
   "cell_type": "code",
   "execution_count": null,
   "metadata": {},
   "outputs": [],
   "source": [
    "myDict_count.items()"
   ]
  },
  {
   "cell_type": "code",
   "execution_count": null,
   "metadata": {},
   "outputs": [],
   "source": [
    "df_count = pddf.from_dict(myDict_count).set_index('PCs')\n",
    "df_mean = pddf.from_dict(myDict_mean).set_index('PCs')\n",
    "df_max = pddf.from_dict(myDict_max).set_index('PCs')\n",
    "df_median = pddf.from_dict(myDict_median).set_index('PCs')"
   ]
  },
  {
   "cell_type": "code",
   "execution_count": null,
   "metadata": {},
   "outputs": [],
   "source": [
    "allvalues = pd.concat([df_count, df_mean,df_max,df_median], axis=0)"
   ]
  },
  {
   "cell_type": "code",
   "execution_count": null,
   "metadata": {},
   "outputs": [],
   "source": [
    "import matplotlib.pyplot as plt\n",
    "\n",
    "sns.lineplot(data= allvalues[allvalues['Metric'] == 'mean'].iloc[:,0:5]).set_title('Mean')\n",
    "plt.savefig(figurepath + \"Mean.png\")"
   ]
  },
  {
   "cell_type": "code",
   "execution_count": null,
   "metadata": {},
   "outputs": [],
   "source": [
    "sns.lineplot(data= allvalues[allvalues['Metric'] == 'max'].iloc[:,0:5]).set_title('Max')\n",
    "plt.savefig(figurepath + \"Max.png\")"
   ]
  },
  {
   "cell_type": "code",
   "execution_count": null,
   "metadata": {},
   "outputs": [],
   "source": [
    "sns.lineplot(data= allvalues[allvalues['Metric'] == 'count'].iloc[:,0:5]).set_title('Count')\n",
    "plt.savefig(figurepath + \"Count.png\")"
   ]
  },
  {
   "cell_type": "code",
   "execution_count": null,
   "metadata": {},
   "outputs": [],
   "source": [
    "sns.lineplot(data= allvalues[allvalues['Metric'] == 'median'].iloc[:,0:5]).set_title('Median')\n",
    "plt.savefig(figurepath + \"Median.png\")"
   ]
  },
  {
   "cell_type": "code",
   "execution_count": null,
   "metadata": {},
   "outputs": [],
   "source": []
  }
 ],
 "metadata": {
  "kernelspec": {
   "display_name": "Python 3",
   "language": "python",
   "name": "python3"
  },
  "language_info": {
   "codemirror_mode": {
    "name": "ipython",
    "version": 3
   },
   "file_extension": ".py",
   "mimetype": "text/x-python",
   "name": "python",
   "nbconvert_exporter": "python",
   "pygments_lexer": "ipython3",
   "version": "3.7.4"
  }
 },
 "nbformat": 4,
 "nbformat_minor": 4
}
