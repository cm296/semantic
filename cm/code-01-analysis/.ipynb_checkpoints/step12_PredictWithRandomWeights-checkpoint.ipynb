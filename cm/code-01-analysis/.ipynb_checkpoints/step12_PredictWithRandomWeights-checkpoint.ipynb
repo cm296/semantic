{
 "cells": [
  {
   "cell_type": "code",
   "execution_count": 1,
   "metadata": {},
   "outputs": [],
   "source": [
    "import pandas as pd\n",
    "from sklearn.decomposition import PCA\n",
    "import os\n",
    "import utilsCM\n",
    "import numpy as np\n",
    "\n",
    "savepath = '../../../data-12/' #This needs to change based on step number!"
   ]
  },
  {
   "cell_type": "markdown",
   "metadata": {},
   "source": [
    "# Predicting using random weights"
   ]
  },
  {
   "cell_type": "markdown",
   "metadata": {},
   "source": [
    "### Determine parameters over which to do cross-validation"
   ]
  },
  {
   "cell_type": "code",
   "execution_count": 2,
   "metadata": {},
   "outputs": [],
   "source": [
    "# datapath = '../../../data-00/'\n",
    "# keyword = {'DNNActvtn','ROIpred'}\n",
    "# layer =  {'conv_1','conv_5','fc_3'}\n",
    "# Sub = [1,2,3,4]\n",
    "# ROI = {'EVC','ObjectROI'}\n",
    "# Keepncomps = list(range(2,42,2))\n",
    "\n",
    "pretrained_val = True\n",
    "# RandomWs = True\n",
    "\n",
    "Ypredict = 'Word2Sense' #Word2Vec or Word2Sense"
   ]
  },
  {
   "cell_type": "code",
   "execution_count": 3,
   "metadata": {},
   "outputs": [],
   "source": [
    "import runCV"
   ]
  },
  {
   "cell_type": "code",
   "execution_count": 4,
   "metadata": {},
   "outputs": [
    {
     "name": "stdout",
     "output_type": "stream",
     "text": [
      "[0.         0.         0.         0.         0.         0.\n",
      " 0.         0.         0.         0.         0.         0.\n",
      " 0.         0.00490558 0.         0.         0.         0.\n",
      " 0.         0.         0.         0.         0.         0.\n",
      " 0.         0.         0.         0.         0.         0.\n",
      " 0.         0.         0.         0.         0.         0.\n",
      " 0.         0.         0.         0.         0.00996156 0.\n",
      " 0.         0.         0.         0.         0.         0.\n",
      " 0.         0.         0.         0.         0.         0.\n",
      " 0.         0.         0.         0.         0.         0.\n",
      " 0.         0.         0.         0.         0.         0.\n",
      " 0.         0.         0.         0.         0.         0.\n",
      " 0.         0.         0.         0.         0.         0.\n",
      " 0.         0.         0.         0.         0.         0.\n",
      " 0.         0.         0.         0.         0.         0.\n",
      " 0.         0.         0.         0.         0.0093917  0.\n",
      " 0.         0.         0.         0.         0.         0.\n",
      " 0.00312322 0.         0.         0.         0.         0.\n",
      " 0.00489997 0.         0.         0.         0.         0.\n",
      " 0.         0.         0.         0.         0.         0.\n",
      " 0.         0.         0.         0.         0.        ]\n",
      "k-fold regression, independet variable: 5 PCs retained of ROIpred from EVC\n"
     ]
    },
    {
     "data": {
      "text/plain": [
       "array([ 0.1011315 ,  0.07282341, -0.01312406,  0.07568423, -0.01457289,\n",
       "        0.04054099,  0.03268946, -0.07455099,  0.06569787, -0.06120204,\n",
       "       -0.01559462, -0.00095455,  0.03904845,  0.12602566, -0.02192787,\n",
       "        0.0847851 , -0.02460919,  0.0587564 , -0.03943074,  0.02680212,\n",
       "        0.04169838, -0.07910043,  0.0815021 , -0.04487195,  0.06239748,\n",
       "        0.03104907,  0.06347917,  0.04578593, -0.02892473,  0.03004897,\n",
       "       -0.15496   ,  0.02485647, -0.07697995,  0.11587074, -0.08269289,\n",
       "       -0.19267233, -0.03780733, -0.03594439, -0.05965558,  0.04767063,\n",
       "        0.07453789,  0.14363662,  0.0160373 , -0.06095694,  0.09444845,\n",
       "        0.01689442,  0.05077703,  0.05650634,  0.0720149 ,  0.18246056,\n",
       "        0.08464925, -0.05866013,  0.08952193, -0.10082458,  0.12702434,\n",
       "       -0.01719834, -0.00906094, -0.0018248 ,  0.04915528, -0.01856579,\n",
       "        0.01059555,  0.15341378, -0.04037225, -0.04017898, -0.08023205,\n",
       "       -0.01072626,  0.00839839,  0.05169881,  0.01856213, -0.04364441,\n",
       "        0.09125214, -0.01908808, -0.09554806,  0.10886333,  0.0790937 ,\n",
       "        0.01806054,  0.04984586, -0.12215514,  0.03889468,  0.10600343,\n",
       "       -0.15655373,  0.0549409 ,  0.0598623 ,  0.05331441, -0.09500593,\n",
       "       -0.13037259, -0.05838473, -0.08958572,  0.11522319, -0.16807625,\n",
       "        0.16439153, -0.0339144 ,  0.05678824, -0.10248818,  0.05883704,\n",
       "        0.03133954,  0.00350447,  0.02709548, -0.06264649, -0.05746585,\n",
       "        0.07346852,  0.0600889 ,  0.00363563, -0.04266318, -0.05959936,\n",
       "       -0.05140068,  0.04969041,  0.07372816,  0.02890253,  0.02531293,\n",
       "        0.12128537, -0.10177357, -0.01691436,  0.01704138,  0.04349609,\n",
       "        0.05653352,  0.02917853, -0.18034364, -0.07550182, -0.01950234,\n",
       "       -0.07175107,  0.07975955, -0.01833351, -0.06576329,  0.0418416 ])"
      ]
     },
     "execution_count": 4,
     "metadata": {},
     "output_type": "execute_result"
    }
   ],
   "source": [
    "# runCV.runCV_execute(pretrained_val,savepath,Ypredict, RandomWs= True)\n",
    "runCV.runCV_execute(pretrained_val,savepath,Ypredict, RandomWs= True)"
   ]
  },
  {
   "cell_type": "code",
   "execution_count": 5,
   "metadata": {},
   "outputs": [
    {
     "ename": "NameError",
     "evalue": "name 'p' is not defined",
     "output_type": "error",
     "traceback": [
      "\u001b[0;31m---------------------------------------------------------------------------\u001b[0m",
      "\u001b[0;31mNameError\u001b[0m                                 Traceback (most recent call last)",
      "\u001b[0;32m<ipython-input-5-1611f00151ff>\u001b[0m in \u001b[0;36m<module>\u001b[0;34m\u001b[0m\n\u001b[0;32m----> 1\u001b[0;31m \u001b[0mp\u001b[0m\u001b[0;34m.\u001b[0m\u001b[0mshape\u001b[0m\u001b[0;34m\u001b[0m\u001b[0;34m\u001b[0m\u001b[0m\n\u001b[0m",
      "\u001b[0;31mNameError\u001b[0m: name 'p' is not defined"
     ]
    }
   ],
   "source": [
    "p.shape"
   ]
  },
  {
   "cell_type": "code",
   "execution_count": null,
   "metadata": {},
   "outputs": [],
   "source": [
    "from sklearn.model_selection import KFold\n",
    "\n",
    "kf = KFold(n_splits = 9)\n",
    "l2 = 0.0\n",
    "\n",
    "for train_index, test_index in kf.split(p):\n",
    "        train_features = p[train_index,]\n",
    "        test_features = p[test_index,]"
   ]
  },
  {
   "cell_type": "code",
   "execution_count": null,
   "metadata": {},
   "outputs": [],
   "source": [
    "train_features"
   ]
  },
  {
   "cell_type": "code",
   "execution_count": null,
   "metadata": {},
   "outputs": [],
   "source": [
    "train_index"
   ]
  },
  {
   "cell_type": "code",
   "execution_count": null,
   "metadata": {},
   "outputs": [],
   "source": []
  }
 ],
 "metadata": {
  "kernelspec": {
   "display_name": "Python 3",
   "language": "python",
   "name": "python3"
  },
  "language_info": {
   "codemirror_mode": {
    "name": "ipython",
    "version": 3
   },
   "file_extension": ".py",
   "mimetype": "text/x-python",
   "name": "python",
   "nbconvert_exporter": "python",
   "pygments_lexer": "ipython3",
   "version": "3.7.4"
  }
 },
 "nbformat": 4,
 "nbformat_minor": 4
}
