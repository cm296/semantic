{
 "cells": [
  {
   "cell_type": "code",
   "execution_count": 1,
   "metadata": {},
   "outputs": [],
   "source": [
    "import pandas as pd\n",
    "import numpy as np\n",
    "import utilsCM\n",
    "\n",
    "pathtofile = '../code-00-preprocessdataset/'\n",
    "features = pd.read_csv(pathtofile + \"ThingsWrd2Sns.txt\", sep=\",\")\n",
    "features = features.values[:,1:features.shape[1]-1].astype(np.float)\n",
    "\n",
    "tresh_bonf = utilsCM.p2r(.05/features.shape[1], 1470)"
   ]
  },
  {
   "cell_type": "code",
   "execution_count": 2,
   "metadata": {},
   "outputs": [],
   "source": [
    "# Keepncomps = [10,20,30,40,50,60,70,80]\n",
    "Keepncomps = [40]\n",
    "\n",
    "# keyword = {'ROIpred','DNNActvtn'}\n",
    "keyword = {'ROIpred'}\n",
    "\n",
    "# layer =  {'conv_1','conv_5'}\n",
    "layer =  {'conv_5'}\n",
    "\n",
    "# ROI = {'EVC','LOC','PFS','OPA','PPA','RSC','FFA','OFA','STS','EBA'}\n",
    "ROI = {'EVC','PPA','LOC'}\n",
    "# ROI = {'LOC'}\n",
    "\n",
    "Sub = [1]"
   ]
  },
  {
   "cell_type": "code",
   "execution_count": 3,
   "metadata": {},
   "outputs": [
    {
     "name": "stderr",
     "output_type": "stream",
     "text": [
      "/Users/cmagri1/opt/anaconda3/lib/python3.7/site-packages/ipykernel_launcher.py:29: RuntimeWarning: invalid value encountered in greater\n",
      "/Users/cmagri1/opt/anaconda3/lib/python3.7/site-packages/ipykernel_launcher.py:29: RuntimeWarning: invalid value encountered in greater\n",
      "/Users/cmagri1/opt/anaconda3/lib/python3.7/site-packages/ipykernel_launcher.py:29: RuntimeWarning: invalid value encountered in greater\n"
     ]
    }
   ],
   "source": [
    "##Showing histograms for senze above threshold\n",
    "import os\n",
    "\n",
    "myDict = {}\n",
    "\n",
    "for ilayer in layer:\n",
    "    \n",
    "    for ikeyword in keyword:        \n",
    "        \n",
    "        for icomps in Keepncomps:\n",
    "            thisPrediction = []\n",
    "            \n",
    "            if ikeyword is 'DNNActvtn':\n",
    "                filename = 'PredictSENSES_' + ikeyword + '_'+ ilayer + '_'+ str(icomps) +'PCs'\n",
    "                thisPrediction = np.load(os.getcwd() + '/data-01/' + filename + '.npy')\n",
    "                pred_thresh = thisPrediction[thisPrediction>tresh_bonf]\n",
    "                utilsCM.make_figure(pred_thresh,ikeyword,ilayer,icomps,figure_size=(50,20),figure_path = 'figures-02/',font_size=40)\n",
    "#                 myDict.update(pred_thresh.shape[0])\n",
    "                if ikeyword not in myDict:\n",
    "                    myDict[ikeyword] = []\n",
    "                myDict[ikeyword].append(pred_thresh.shape[0])\n",
    "            \n",
    "            elif ikeyword is 'ROIpred':\n",
    "                \n",
    "                for iROI in ROI:\n",
    "                    thisPrediction = []\n",
    "                    filename = 'PredictSENSES_' + ikeyword + '_' +iROI + '_'+ ilayer + '_'+ str(icomps) +'PCs'\n",
    "                    thisPrediction = np.load(os.getcwd() + '/data-01/' + filename + '.npy')\n",
    "                    pred_thresh = thisPrediction[thisPrediction>tresh_bonf]\n",
    "                    utilsCM.make_figure(pred_thresh,ikeyword,ilayer,icomps,iROI,figure_size=(50,20),figure_path = 'figures-02/',font_size=40)\n",
    "                    if iROI not in myDict:\n",
    "                        myDict[iROI] = []\n",
    "                    myDict[iROI].append(pred_thresh.shape[0])\n",
    "\n"
   ]
  }
 ],
 "metadata": {
  "kernelspec": {
   "display_name": "Python 3",
   "language": "python",
   "name": "python3"
  },
  "language_info": {
   "codemirror_mode": {
    "name": "ipython",
    "version": 3
   },
   "file_extension": ".py",
   "mimetype": "text/x-python",
   "name": "python",
   "nbconvert_exporter": "python",
   "pygments_lexer": "ipython3",
   "version": "3.7.4"
  }
 },
 "nbformat": 4,
 "nbformat_minor": 4
}
