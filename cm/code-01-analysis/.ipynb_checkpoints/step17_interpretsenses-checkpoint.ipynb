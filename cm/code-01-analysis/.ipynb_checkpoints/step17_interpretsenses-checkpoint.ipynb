{
 "cells": [
  {
   "cell_type": "code",
   "execution_count": 20,
   "metadata": {},
   "outputs": [],
   "source": [
    "import numpy as np\n",
    "import pandas as pd\n",
    "import utilsCM\n",
    "import matplotlib.pyplot as plt"
   ]
  },
  {
   "cell_type": "code",
   "execution_count": 2,
   "metadata": {},
   "outputs": [],
   "source": [
    "icomps = 16\n",
    "Ypredict = 'Word2Sense'\n",
    "\n",
    "datapath = '../../../data-16/'\n",
    "savepath = '../../../data-16/'"
   ]
  },
  {
   "cell_type": "code",
   "execution_count": 3,
   "metadata": {},
   "outputs": [],
   "source": [
    "keyword = 'ROIpred'\n",
    "layer =  'conv_5'\n",
    "ROI = {'ObjectROI','SceneROI'}"
   ]
  },
  {
   "cell_type": "code",
   "execution_count": 4,
   "metadata": {},
   "outputs": [],
   "source": [
    "if Ypredict is 'Word2Vec':\n",
    "    ### Load Word2Vec subset\n",
    "    filename = 'ThingsWrd2Vec_subset.txt'\n",
    "    filepath = '../../../data-10/'\n",
    "    Wrd2Vec = pd.read_csv(filepath + filename,sep=',',index_col = 0)\n",
    "    Y_embeddings = Wrd2Vec.values[:,:].astype(np.float)\n",
    "elif Ypredict is 'Word2Sense':\n",
    "    ### Load Word2Sense subset\n",
    "    pathtofile = '../../../data-07/'\n",
    "    Y_embeddings_csv = pd.read_csv(pathtofile + \"ThingsWrd2Sns_subset.txt\", sep=\",\",index_col = 0)\n",
    "    Y_embeddings = Y_embeddings_csv.values[:,:].astype(np.float)"
   ]
  },
  {
   "cell_type": "code",
   "execution_count": 5,
   "metadata": {},
   "outputs": [],
   "source": [
    "#Only the subset\n",
    "WrdThingspath = '../../../data-04/'\n",
    "nsample = 12\n",
    "WrdThingsInfo = pd.read_csv(WrdThingspath + 'KeptTHINGSInfo_n' + str(nsample) +'.csv',sep=',',index_col = 0)\n",
    "\n",
    "\n",
    "##reset the index\n",
    "Y_embeddings_csv = Y_embeddings_csv.set_index(WrdThingsInfo.Word)"
   ]
  },
  {
   "cell_type": "code",
   "execution_count": 6,
   "metadata": {},
   "outputs": [],
   "source": [
    "import csv\n",
    "\n",
    "##Showing histograms for senses above threshold\n",
    "myDict = {}\n",
    "\n",
    "filename_Object = 'Predict' + Ypredict + '_' + keyword + '_' + 'ObjectROI' + '_'+ layer + '_'+ str(icomps) +'PCs'\n",
    "filename_Scene = 'Predict' + Ypredict + '_' + keyword + '_' + 'SceneROI' + '_'+ layer + '_'+ str(icomps) +'PCs'\n",
    "\n",
    "thisPrediction_Ob = np.load(datapath + filename_Object + '.npy')\n",
    "thisPrediction_Sc = np.load(datapath + filename_Scene + '.npy')"
   ]
  },
  {
   "cell_type": "code",
   "execution_count": 14,
   "metadata": {},
   "outputs": [],
   "source": [
    "tresh_bonf = utilsCM.p2r(.05/Y_embeddings.shape[1], Y_embeddings.shape[0])\n",
    "thisPrediction_Ob[thisPrediction_Ob<tresh_bonf] = 0\n",
    "thisPrediction_Sc[thisPrediction_Sc<tresh_bonf] = 0"
   ]
  },
  {
   "cell_type": "code",
   "execution_count": 18,
   "metadata": {},
   "outputs": [
    {
     "data": {
      "text/plain": [
       "array([-2.19746513e-01, -2.15029205e-01, -2.08852070e-01, -2.05713560e-01,\n",
       "       -2.05492166e-01, -1.98078993e-01, -1.97107738e-01, -1.95190272e-01,\n",
       "       -1.93456570e-01, -9.78387733e-02, -7.00037502e-02, -3.82962031e-02,\n",
       "       -3.42872899e-02, -3.15870026e-02, -3.09177465e-02, -2.87036065e-02,\n",
       "       -2.61094673e-02, -2.40519259e-02, -2.33898267e-02, -2.27542339e-02,\n",
       "       -2.18651440e-02, -1.96994552e-02, -1.89235004e-02, -1.87323829e-02,\n",
       "       -1.80696891e-02, -1.77857205e-02, -1.64220447e-02, -1.21209305e-02,\n",
       "       -1.16837806e-02, -1.14285701e-02, -1.03756559e-02, -8.56071985e-03,\n",
       "       -5.71690893e-03, -7.26356137e-04, -1.46454263e-05,  0.00000000e+00,\n",
       "        0.00000000e+00,  0.00000000e+00,  0.00000000e+00,  0.00000000e+00,\n",
       "        0.00000000e+00,  0.00000000e+00,  0.00000000e+00,  0.00000000e+00,\n",
       "        0.00000000e+00,  0.00000000e+00,  0.00000000e+00,  0.00000000e+00,\n",
       "        0.00000000e+00,  0.00000000e+00,  0.00000000e+00,  0.00000000e+00,\n",
       "        0.00000000e+00,  0.00000000e+00,  0.00000000e+00,  0.00000000e+00,\n",
       "        0.00000000e+00,  0.00000000e+00,  0.00000000e+00,  0.00000000e+00,\n",
       "        0.00000000e+00,  0.00000000e+00,  0.00000000e+00,  0.00000000e+00,\n",
       "        0.00000000e+00,  0.00000000e+00,  0.00000000e+00,  0.00000000e+00,\n",
       "        0.00000000e+00,  0.00000000e+00,  0.00000000e+00,  0.00000000e+00,\n",
       "        0.00000000e+00,  0.00000000e+00,  0.00000000e+00,  0.00000000e+00,\n",
       "        0.00000000e+00,  0.00000000e+00,  0.00000000e+00,  0.00000000e+00,\n",
       "        0.00000000e+00,  0.00000000e+00,  0.00000000e+00,  0.00000000e+00,\n",
       "        0.00000000e+00,  0.00000000e+00,  0.00000000e+00,  0.00000000e+00,\n",
       "        0.00000000e+00,  0.00000000e+00,  0.00000000e+00,  0.00000000e+00,\n",
       "        0.00000000e+00,  0.00000000e+00,  0.00000000e+00,  9.72019808e-04,\n",
       "        1.68155677e-03,  6.93684462e-03,  9.08847341e-03,  1.19378409e-02,\n",
       "        1.52725440e-02,  1.72176461e-02,  1.82067076e-02,  2.23068255e-02,\n",
       "        2.67676888e-02,  2.94371141e-02,  3.03059928e-02,  3.17447696e-02,\n",
       "        3.26050115e-02,  3.64528764e-02,  4.00846025e-02,  4.51372424e-02,\n",
       "        4.70844703e-02,  4.84524923e-02,  4.99818107e-02,  6.02754694e-02,\n",
       "        6.30908661e-02,  7.61397453e-02,  1.04554450e-01,  1.96071144e-01,\n",
       "        2.00264194e-01,  2.05052949e-01,  2.32666324e-01,  2.56409219e-01,\n",
       "        2.57799057e-01])"
      ]
     },
     "execution_count": 18,
     "metadata": {},
     "output_type": "execute_result"
    }
   ],
   "source": [
    "np.sort(thisPrediction_Ob - thisPrediction_Sc)"
   ]
  },
  {
   "cell_type": "code",
   "execution_count": 26,
   "metadata": {},
   "outputs": [
    {
     "data": {
      "text/plain": [
       "<Figure size 432x288 with 0 Axes>"
      ]
     },
     "metadata": {},
     "output_type": "display_data"
    }
   ],
   "source": [
    "data = np.sort(thisPrediction_Ob - thisPrediction_Sc)\n",
    "X = np.arange(125)\n",
    "fig = plt.figure()"
   ]
  },
  {
   "cell_type": "code",
   "execution_count": 29,
   "metadata": {},
   "outputs": [
    {
     "data": {
      "text/plain": [
       "<BarContainer object of 125 artists>"
      ]
     },
     "execution_count": 29,
     "metadata": {},
     "output_type": "execute_result"
    },
    {
     "data": {
      "image/png": "[encoded data removed]",
      "text/plain": [
       "<Figure size 720x360 with 1 Axes>"
      ]
     },
     "metadata": {
      "needs_background": "light"
     },
     "output_type": "display_data"
    }
   ],
   "source": [
    "fig = plt.figure(figsize = (10, 5)) \n",
    "  \n",
    "# creating the bar plot \n",
    "plt.bar(X, data, color ='maroon',  \n",
    "        width = 0.5) \n",
    "plt.title(\"Object ROI Senses - Scene ROI Senses (sorted) \") "
   ]
  },
  {
   "cell_type": "code",
   "execution_count": null,
   "metadata": {},
   "outputs": [],
   "source": []
  }
 ],
 "metadata": {
  "kernelspec": {
   "display_name": "Python 3",
   "language": "python",
   "name": "python3"
  },
  "language_info": {
   "codemirror_mode": {
    "name": "ipython",
    "version": 3
   },
   "file_extension": ".py",
   "mimetype": "text/x-python",
   "name": "python",
   "nbconvert_exporter": "python",
   "pygments_lexer": "ipython3",
   "version": "3.7.9"
  }
 },
 "nbformat": 4,
 "nbformat_minor": 4
}
