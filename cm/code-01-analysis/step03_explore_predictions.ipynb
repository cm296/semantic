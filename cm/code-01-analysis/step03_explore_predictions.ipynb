{
 "cells": [
  {
   "cell_type": "code",
   "execution_count": null,
   "metadata": {},
   "outputs": [],
   "source": [
    "# %% p2r\n",
    "# %\n",
    "# % Correlation coefficient from p-value (one-tailed)\n",
    "# % \n",
    "# %% Syntax\n",
    "# % \n",
    "# % [r] = p2r(p, n)\n",
    "# % \n",
    "# %% Description\n",
    "# % \n",
    "# % Returns  orrelation coefficients for a given p value and sample size\n",
    "# %\n",
    "# %% Example\n",
    "# %\n",
    "# %   [r] = p2r(p, n)\n",
    "# % \n",
    "# % Michael F. Bonner | University of Pennsylvania | <http://www.michaelfbonner.com michaelfbonner.com> \n",
    "# from scipy import stats\n",
    "\n",
    "# def p2r(p, n):\n",
    "#     t = stats.t.ppf(1-p, n-2);\n",
    "#     r = (t**2/((t**2)+(n-2))) ** 0.5;\n",
    "#     return r"
   ]
  },
  {
   "cell_type": "code",
   "execution_count": null,
   "metadata": {},
   "outputs": [],
   "source": [
    "# import matplotlib\n",
    "# import matplotlib.pyplot as plt\n",
    "# import seaborn as sns\n",
    "\n",
    "# def make_figure(mean_r,keyword,layer,icomps,iROI = []) :\n",
    "#     figurepath = '/figures-04/'\n",
    "#     if iROI:\n",
    "#         title = 'PredictSENSES ' + keyword + ' ' + iROI + ' ' + layer + ' '+ str(icomps) +'PCs'\n",
    "#         filename = 'PredictSENSES_' + keyword + '_' +iROI + '_'+ layer + '_'+ str(icomps) +'PCs.png'\n",
    "#     else:\n",
    "#         title = 'PredictSENSES ' + keyword + ' ' + layer + ' '+ str(icomps) +'PCs'\n",
    "#         filename = 'PredictSENSES_' + keyword + '_'+ layer + '_'+ str(icomps) +'PCs.png'\n",
    "        \n",
    "#     plt.figure(figsize=(50,20))\n",
    "#     # Set the font dictionaries (for plot title and axis titles)\n",
    "#     title_font = {'fontname':'Arial', 'size':'28', 'color':'black', 'weight':'normal',\n",
    "#   'verticalalignment':'bottom'} # Bottom vertical alignment for more space\n",
    "#     axis_font = {'fontname':'Arial', 'size':'25'}\n",
    "#     sns.set()\n",
    "# #     n= len(~np.isnan(mean_r))-1\n",
    "#     mean_r_nonan = mean_r[~np.isnan(mean_r)]\n",
    "#     n= len(mean_r_nonan)\n",
    "        \n",
    "#     ax = plt.subplot() # Defines ax variable by creating an empty plot\n",
    "    \n",
    "#     # Set the tick labels font\n",
    "#     for label in (ax.get_xticklabels() + ax.get_yticklabels()):\n",
    "#         label.set_fontname('Arial')\n",
    "#         label.set_fontsize(40)\n",
    "    \n",
    "#     plt.xlabel('Sense', **axis_font)\n",
    "#     plt.ylabel('PredictionAccuracy', **axis_font)\n",
    "    \n",
    "#     plt.title(title, **title_font)\n",
    "    \n",
    "# #     print('sorted mean_r_nonan = ' + np.sort(mean_r_nonan))\n",
    "#     #Plot the Image!\n",
    "#     # plt.bar(range(0,n), np.sort(mean_r[0:n]), color = 'darkred')\n",
    "#     plt.bar(range(0,n), np.sort(mean_r_nonan)[::-1], color = 'darkred')  \n",
    "    \n",
    "#     #ylim\n",
    "#     plt.ylim(-0.2, 0.6) \n",
    "    \n",
    "#     #save figure\n",
    "#     plt.savefig(os.getcwd() + figurepath + filename)\n",
    "#     sns.reset_defaults()\n",
    "#     plt.close()"
   ]
  },
  {
   "cell_type": "code",
   "execution_count": 10,
   "metadata": {},
   "outputs": [],
   "source": [
    "import pandas as pd\n",
    "import numpy as np\n",
    "import utilsCM\n",
    "\n",
    "pathtofile = '../Code-001/'\n",
    "features = pd.read_csv(pathtofile + \"ThingsWrd2Sns.txt\", sep=\",\")\n",
    "features = features.values[:,1:features.shape[1]-1].astype(np.float)\n",
    "\n",
    "tresh_bonf = utilsCM.p2r(.05/features.shape[1], 1470)"
   ]
  },
  {
   "cell_type": "code",
   "execution_count": 11,
   "metadata": {},
   "outputs": [
    {
     "data": {
      "text/plain": [
       "0.10628341796239223"
      ]
     },
     "execution_count": 11,
     "metadata": {},
     "output_type": "execute_result"
    }
   ],
   "source": [
    "tresh_bonf"
   ]
  },
  {
   "cell_type": "code",
   "execution_count": 14,
   "metadata": {},
   "outputs": [],
   "source": [
    "# Keepncomps = [10,20,30,40,50,60,70,80]\n",
    "Keepncomps = [40]\n",
    "\n",
    "# keyword = {'ROIpred','DNNActvtn'}\n",
    "keyword = {'ROIpred'}\n",
    "\n",
    "# layer =  {'conv_1','conv_5'}\n",
    "layer =  {'conv_5'}\n",
    "\n",
    "# ROI = {'EVC','LOC','PFS','OPA','PPA','RSC','FFA','OFA','STS','EBA'}\n",
    "ROI = {'EVC','PPA','LOC'}\n",
    "# ROI = {'LOC'}\n",
    "\n",
    "Sub = [1]"
   ]
  },
  {
   "cell_type": "code",
   "execution_count": 15,
   "metadata": {},
   "outputs": [
    {
     "name": "stderr",
     "output_type": "stream",
     "text": [
      "/Users/cmagri1/opt/anaconda3/lib/python3.7/site-packages/ipykernel_launcher.py:29: RuntimeWarning: invalid value encountered in greater\n",
      "/Users/cmagri1/opt/anaconda3/lib/python3.7/site-packages/ipykernel_launcher.py:29: RuntimeWarning: invalid value encountered in greater\n",
      "/Users/cmagri1/opt/anaconda3/lib/python3.7/site-packages/ipykernel_launcher.py:29: RuntimeWarning: invalid value encountered in greater\n"
     ]
    }
   ],
   "source": [
    "##Showing histograms for senze above threshold\n",
    "import os\n",
    "\n",
    "myDict = {}\n",
    "\n",
    "for ilayer in layer:\n",
    "    \n",
    "    for ikeyword in keyword:        \n",
    "        \n",
    "        for icomps in Keepncomps:\n",
    "            thisPrediction = []\n",
    "            \n",
    "            if ikeyword is 'DNNActvtn':\n",
    "                filename = 'PredictSENSES_' + ikeyword + '_'+ ilayer + '_'+ str(icomps) +'PCs'\n",
    "                thisPrediction = np.load(os.getcwd() + '/data-01/' + filename + '.npy')\n",
    "                pred_thresh = thisPrediction[thisPrediction>tresh_bonf]\n",
    "                utilsCM.make_figure(pred_thresh,ikeyword,ilayer,icomps,figure_size=(50,20),figure_path = 'figures-02/',font_size=40)\n",
    "#                 myDict.update(pred_thresh.shape[0])\n",
    "                if ikeyword not in myDict:\n",
    "                    myDict[ikeyword] = []\n",
    "                myDict[ikeyword].append(pred_thresh.shape[0])\n",
    "            \n",
    "            elif ikeyword is 'ROIpred':\n",
    "                \n",
    "                for iROI in ROI:\n",
    "                    thisPrediction = []\n",
    "                    filename = 'PredictSENSES_' + ikeyword + '_' +iROI + '_'+ ilayer + '_'+ str(icomps) +'PCs'\n",
    "                    thisPrediction = np.load(os.getcwd() + '/data-01/' + filename + '.npy')\n",
    "                    pred_thresh = thisPrediction[thisPrediction>tresh_bonf]\n",
    "                    utilsCM.make_figure(pred_thresh,ikeyword,ilayer,icomps,iROI,figure_size=(50,20),figure_path = 'figures-02/',font_size=40)\n",
    "                    if iROI not in myDict:\n",
    "                        myDict[iROI] = []\n",
    "                    myDict[iROI].append(pred_thresh.shape[0])\n",
    "\n"
   ]
  },
  {
   "cell_type": "code",
   "execution_count": null,
   "metadata": {},
   "outputs": [],
   "source": [
    "myDict['PCs'] = []\n",
    "for i in range(10, 90,10):\n",
    "    myDict['PCs'].append(i)\n",
    "myDict"
   ]
  },
  {
   "cell_type": "code",
   "execution_count": null,
   "metadata": {},
   "outputs": [],
   "source": [
    "from pandas import DataFrame as pddf\n",
    "df = pddf.from_dict(myDict).set_index('PCs')"
   ]
  },
  {
   "cell_type": "code",
   "execution_count": null,
   "metadata": {},
   "outputs": [],
   "source": [
    "from  matplotlib import pyplot\n",
    "import seaborn\n",
    "\n",
    "sns.lineplot(data=df)"
   ]
  }
 ],
 "metadata": {
  "kernelspec": {
   "display_name": "Python 3",
   "language": "python",
   "name": "python3"
  },
  "language_info": {
   "codemirror_mode": {
    "name": "ipython",
    "version": 3
   },
   "file_extension": ".py",
   "mimetype": "text/x-python",
   "name": "python",
   "nbconvert_exporter": "python",
   "pygments_lexer": "ipython3",
   "version": "3.7.4"
  }
 },
 "nbformat": 4,
 "nbformat_minor": 4
}
