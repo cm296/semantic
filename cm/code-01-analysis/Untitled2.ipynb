{
 "cells": [
  {
   "cell_type": "code",
   "execution_count": 1,
   "metadata": {},
   "outputs": [
    {
     "ename": "SyntaxError",
     "evalue": "invalid syntax (<ipython-input-1-72b46d28adf5>, line 1)",
     "output_type": "error",
     "traceback": [
      "\u001b[0;36m  File \u001b[0;32m\"<ipython-input-1-72b46d28adf5>\"\u001b[0;36m, line \u001b[0;32m1\u001b[0m\n\u001b[0;31m    function findPivotPoint(arr):\u001b[0m\n\u001b[0m                          ^\u001b[0m\n\u001b[0;31mSyntaxError\u001b[0m\u001b[0;31m:\u001b[0m invalid syntax\n"
     ]
    }
   ],
   "source": [
    "function findPivotPoint(arr):\n",
    "    begin = 0\n",
    "    end = arr.length - 1\n",
    "\n",
    "    while (begin <= end):\n",
    "        mid = begin + floor((end - begin)/2)\n",
    "        if (mid == 0 OR arr[mid] < arr[mid-1]):\n",
    "            return mid\n",
    "        if (arr[mid] > arr[0]):\n",
    "            begin = mid + 1\n",
    "        else:\n",
    "            end = mid - 1\n",
    "\n",
    "    return 0"
   ]
  },
  {
   "cell_type": "code",
   "execution_count": 16,
   "metadata": {},
   "outputs": [],
   "source": [
    "def shifted_arr_search(shiftArr, num):\n",
    "    pivot = findPivot(shiftArr , num)\n",
    "  #once founds the pivot, look for index\n",
    "    if pivot == 0 or num < shiftArr[0]:\n",
    "        index = lookBinarySearch(shiftArr, pivot,len(shiftArr)-1, num )\n",
    "    else:\n",
    "        index = lookBinarySearch(shiftArr, 0, pivot-1, num )     \n",
    "    return index # your code goes here\n",
    "\n",
    "\n",
    "def findPivot(arr , num):\n",
    "    begin = 0\n",
    "    end = len(arr) - 1  \n",
    "    while begin <= end:\n",
    "        mid = begin + (end-begin)//2)\n",
    "        if  arr[mid] < arr[mid-1] or mid == 0: \n",
    "            break\n",
    "        if arr[mid] > arr[0]:\n",
    "            begin = mid + 1\n",
    "        else:\n",
    "            end = mid - 1\n",
    "    return mid\n",
    "\n",
    "def lookBinarySearch(arr, begin,end,num):\n",
    "    while begin<=end:\n",
    "        mid = begin + (end-begin)//2\n",
    "        if arr[mid] == num:\n",
    "            break\n",
    "        elif arr[mid] < num:\n",
    "            begin = mid + 1\n",
    "        else:\n",
    "            end = mid -1\n",
    "    return mid"
   ]
  },
  {
   "cell_type": "code",
   "execution_count": 17,
   "metadata": {},
   "outputs": [
    {
     "data": {
      "text/plain": [
       "0"
      ]
     },
     "execution_count": 17,
     "metadata": {},
     "output_type": "execute_result"
    }
   ],
   "source": [
    "shifted_arr_search([2], 2)"
   ]
  },
  {
   "cell_type": "code",
   "execution_count": null,
   "metadata": {},
   "outputs": [],
   "source": []
  }
 ],
 "metadata": {
  "kernelspec": {
   "display_name": "Python 3",
   "language": "python",
   "name": "python3"
  },
  "language_info": {
   "codemirror_mode": {
    "name": "ipython",
    "version": 3
   },
   "file_extension": ".py",
   "mimetype": "text/x-python",
   "name": "python",
   "nbconvert_exporter": "python",
   "pygments_lexer": "ipython3",
   "version": "3.7.4"
  }
 },
 "nbformat": 4,
 "nbformat_minor": 4
}
