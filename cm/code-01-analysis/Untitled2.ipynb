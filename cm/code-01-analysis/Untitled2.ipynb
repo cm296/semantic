{
 "cells": [
  {
   "cell_type": "code",
   "execution_count": 1,
   "metadata": {},
   "outputs": [],
   "source": [
    "from curvaturemodel import curvature as curv \n",
    "import pandas as pd\n",
    "import os\n",
    "import sys\n",
    "sys.path.append('/Users/cmagri1/OneDrive - Johns Hopkins/git')\n",
    "from EncodingModel_cm296 import utils as emutils\n"
   ]
  },
  {
   "cell_type": "code",
   "execution_count": 2,
   "metadata": {},
   "outputs": [],
   "source": [
    "#where to get the images from\n",
    "PathToImgs = 'data-object2vec/stimuli'\n",
    "\n",
    "#where to load word2sense\n",
    "pathtoW2S = '../code-00-preprocessdataset/'\n",
    "Wrd2Sense = pd.read_csv(pathtoW2S + \"ThingsWrd2Sns.txt\", sep=\",\")\n",
    "WordInf = pd.read_csv(pathtoW2S + \"KeptTHINGSInfo.txt\", sep=\",\")['Word'].to_numpy()\n",
    "# .Word.to_numpy()\n",
    "# WordInf= ImgInfo.Word.to_numpy() ##to find the words that are images in THINGS dataset\n",
    "\n",
    "\n",
    "pathtoTHINGS = '../../../../THINGSdataset/Main/images'\n",
    "savepath = '../../../data-00/'\n",
    "pretrainedModel = False"
   ]
  },
  {
   "cell_type": "code",
   "execution_count": 4,
   "metadata": {},
   "outputs": [],
   "source": [
    "model = curv.CurvatureModel()"
   ]
  },
  {
   "cell_type": "code",
   "execution_count": 40,
   "metadata": {},
   "outputs": [],
   "source": [
    "from torchvision.transforms import functional as transforms\n",
    "from PIL import Image\n",
    "import torch\n",
    "\n",
    "image = Image.open(os.getcwd() + '/alpaca_02s.jpg')\n",
    "image = transforms.to_grayscale(image)\n",
    "image = transforms.resize(image, (96, 96))    # Or whatever resolution you want\n",
    "image = transforms.to_tensor(image)\n",
    "image = transforms.normalize(image, mean=(0.5,), std=(0.5,))\n",
    "with torch.no_grad():\n",
    "    features = model(image.unsqueeze(dim=0)).squeeze(dim=0)"
   ]
  },
  {
   "cell_type": "code",
   "execution_count": 41,
   "metadata": {},
   "outputs": [
    {
     "data": {
      "text/plain": [
       "torch.Size([320, 96, 96])"
      ]
     },
     "execution_count": 41,
     "metadata": {},
     "output_type": "execute_result"
    }
   ],
   "source": [
    "features.squeeze(dim=0).shape"
   ]
  },
  {
   "cell_type": "code",
   "execution_count": 42,
   "metadata": {},
   "outputs": [
    {
     "data": {
      "text/plain": [
       "torch.Size([1, 320, 96, 96])"
      ]
     },
     "execution_count": 42,
     "metadata": {},
     "output_type": "execute_result"
    }
   ],
   "source": [
    "features.shape"
   ]
  },
  {
   "cell_type": "code",
   "execution_count": 43,
   "metadata": {},
   "outputs": [
    {
     "data": {
      "text/plain": [
       "torch.Size([1, 1, 96, 96])"
      ]
     },
     "execution_count": 43,
     "metadata": {},
     "output_type": "execute_result"
    }
   ],
   "source": [
    "image.unsqueeze(dim=0).shape"
   ]
  },
  {
   "cell_type": "code",
   "execution_count": 44,
   "metadata": {},
   "outputs": [
    {
     "data": {
      "text/plain": [
       "torch.Size([1, 96, 96])"
      ]
     },
     "execution_count": 44,
     "metadata": {},
     "output_type": "execute_result"
    }
   ],
   "source": [
    "image.shape"
   ]
  },
  {
   "cell_type": "code",
   "execution_count": null,
   "metadata": {},
   "outputs": [],
   "source": []
  }
 ],
 "metadata": {
  "kernelspec": {
   "display_name": "Python 3",
   "language": "python",
   "name": "python3"
  },
  "language_info": {
   "codemirror_mode": {
    "name": "ipython",
    "version": 3
   },
   "file_extension": ".py",
   "mimetype": "text/x-python",
   "name": "python",
   "nbconvert_exporter": "python",
   "pygments_lexer": "ipython3",
   "version": "3.7.4"
  }
 },
 "nbformat": 4,
 "nbformat_minor": 4
}
