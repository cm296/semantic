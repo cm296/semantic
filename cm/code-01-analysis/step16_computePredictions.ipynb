{
 "cells": [
  {
   "cell_type": "code",
   "execution_count": 2,
   "metadata": {},
   "outputs": [],
   "source": [
    "import os\n",
    "import utilsCM\n",
    "import numpy as np\n",
    "import pandas as pd\n",
    "import matplotlib.pyplot as plt\n",
    "import runCV\n"
   ]
  },
  {
   "cell_type": "code",
   "execution_count": 3,
   "metadata": {},
   "outputs": [],
   "source": [
    "WIpath = '../../../data-04/'\n",
    "nsample = 12\n",
    "WrdThingsInfo = pd.read_csv(WIpath + 'KeptTHINGSInfo_n' + str(nsample) +'.csv',sep=',',index_col = 0)"
   ]
  },
  {
   "cell_type": "code",
   "execution_count": 4,
   "metadata": {},
   "outputs": [],
   "source": [
    "import numpy as np\n",
    "Ypredict = 'Word2Sense'\n",
    "\n",
    "if Ypredict is 'Word2Vec':\n",
    "    ### Load Word2Vec subset\n",
    "    filename = 'ThingsWrd2Vec_subset.txt'\n",
    "    filepath = '../../../data-10/'\n",
    "    Wrd2Vec = pd.read_csv(filepath + filename,sep=',',index_col = 0)\n",
    "    Y_embeddings = Wrd2Vec.values[:,:].astype(np.float)\n",
    "elif Ypredict is 'Word2Sense':\n",
    "    ### Load Word2Sense subset\n",
    "    pathtofile = '../../../data-07/'\n",
    "    Y_embeddings = pd.read_csv(pathtofile + \"ThingsWrd2Sns_subset.txt\", sep=\",\",index_col = 0)\n",
    "    Y_embeddings = Y_embeddings.values[:,:].astype(np.float)"
   ]
  },
  {
   "cell_type": "code",
   "execution_count": 8,
   "metadata": {},
   "outputs": [],
   "source": [
    "def runCV_execute(pretrained_val,savepath,Ypredict='Word2Sense',keyword={'DNNActvtn','ROIpred'},datapath='../../../data-00/',layer={'conv_1','conv_5','fc_3'},ROI={'EVC','ObjectROI'},Sub=[1,2,3,4],Keepncomps=list(range(2,42,2))):\n",
    "    \n",
    "    ### Subset of things info\n",
    "    \n",
    "    WIpath = '../../../data-04/'\n",
    "    nsample = 12\n",
    "    WrdThingsInfo = pd.read_csv(WIpath + 'KeptTHINGSInfo_n' + str(nsample) +'.csv',sep=',',index_col = 0)\n",
    "    \n",
    "\n",
    "    if Ypredict is 'Word2Vec':\n",
    "        ### Load Word2Vec subset\n",
    "        filename = 'ThingsWrd2Vec_subset.txt'\n",
    "        filepath = '../../../data-10/'\n",
    "        Wrd2Vec = pd.read_csv(filepath + filename,sep=',',index_col = 0)\n",
    "        Y_embeddings_subset = Wrd2Vec.values[:,:].astype(np.float)\n",
    "    elif Ypredict is 'Word2Sense':\n",
    "        ### Load Word2Sense subset\n",
    "        pathtofile = '../../../data-07/'\n",
    "        Y_embeddings_subset = pd.read_csv(pathtofile + \"ThingsWrd2Sns_subset.txt\", sep=\",\",index_col = 0)\n",
    "        Y_embeddings_subset = Y_embeddings_subset.values[:,:].astype(np.float)\n",
    "\n",
    "    for ikeyword in keyword:\n",
    "        for ilayer in layer:\n",
    "            if ikeyword is 'ROIpred':\n",
    "                for iROI in ROI: \n",
    "                    savefigname = 'Predict' + Ypredict + '_' + ikeyword + '_' +iROI + '_'+ ilayer\n",
    "                    for iSub in Sub:\n",
    "                        Subfile = datapath +  \"ROIpred_Sub\" + str(iSub) + '_' + iROI + \"_\" + ilayer \n",
    "                        if not pretrained_val:\n",
    "                            Subfile = Subfile + '_untrained'\n",
    "                        thisSub = np.load(Subfile + '.npy')\n",
    "                        if iSub is 1:\n",
    "                            predictor_variable_sub = thisSub\n",
    "                        else:\n",
    "                            predictor_variable_sub = np.append( predictor_variable_sub , thisSub, axis = 1)\n",
    "\n",
    "\n",
    "                    runCV.iterOverPCs(Keepncomps,pretrained_val,savepath,predictor_variable_sub,Y_embeddings_subset,ikeyword,ilayer,Ypredict,iROI)\n",
    "\n",
    "            elif ikeyword is 'DNNActvtn':\n",
    "\n",
    "                predictor_variable_file = datapath +  \"things_\" + ilayer \n",
    "                if not pretrained_val:\n",
    "                    predictor_variable_file = predictor_variable_file + '_untrained'\n",
    "\n",
    "                \n",
    "                predictor_variable_sub = pd.read_csv(predictor_variable_file + '.csv', header=None, index_col=0).iloc[:,:].to_numpy()            \n",
    "                predictor_variable_sub = predictor_variable_sub[WrdThingsInfo['old_index']]\n",
    "\n",
    "\n",
    "                runCV.iterOverPCs(Keepncomps,pretrained_val,savepath,predictor_variable_sub,Y_embeddings_subset,ikeyword,ilayer,Ypredict)"
   ]
  },
  {
   "cell_type": "code",
   "execution_count": 9,
   "metadata": {},
   "outputs": [],
   "source": [
    "Ypredict = 'Word2Sense'\n",
    "keyword = {'ROIpred'}\n",
    "layer =  {'conv_5'}\n",
    "Sub = [1,2,3,4]\n",
    "ROI = {'EVC','ObjectROI','SceneROI'}\n",
    "Keepncomps = list(range(2,42,2))\n",
    "\n",
    "pretrained_val = True\n",
    "datapath='../../../data-14/'\n",
    "savepath = '../../../data-16/' "
   ]
  },
  {
   "cell_type": "code",
   "execution_count": 10,
   "metadata": {},
   "outputs": [
    {
     "name": "stdout",
     "output_type": "stream",
     "text": [
      "PredictWord2Sense_ROIpred_ObjectROI_conv_5_2PCs\n",
      "PredictWord2Sense_ROIpred_ObjectROI_conv_5_4PCs\n",
      "PredictWord2Sense_ROIpred_ObjectROI_conv_5_6PCs\n",
      "PredictWord2Sense_ROIpred_ObjectROI_conv_5_8PCs\n",
      "PredictWord2Sense_ROIpred_ObjectROI_conv_5_10PCs\n",
      "PredictWord2Sense_ROIpred_ObjectROI_conv_5_12PCs\n",
      "PredictWord2Sense_ROIpred_ObjectROI_conv_5_14PCs\n",
      "PredictWord2Sense_ROIpred_ObjectROI_conv_5_16PCs\n",
      "PredictWord2Sense_ROIpred_ObjectROI_conv_5_18PCs\n",
      "PredictWord2Sense_ROIpred_ObjectROI_conv_5_20PCs\n",
      "PredictWord2Sense_ROIpred_ObjectROI_conv_5_22PCs\n",
      "PredictWord2Sense_ROIpred_ObjectROI_conv_5_24PCs\n",
      "PredictWord2Sense_ROIpred_ObjectROI_conv_5_26PCs\n",
      "PredictWord2Sense_ROIpred_ObjectROI_conv_5_28PCs\n",
      "PredictWord2Sense_ROIpred_ObjectROI_conv_5_30PCs\n",
      "PredictWord2Sense_ROIpred_ObjectROI_conv_5_32PCs\n",
      "PredictWord2Sense_ROIpred_ObjectROI_conv_5_34PCs\n",
      "PredictWord2Sense_ROIpred_ObjectROI_conv_5_36PCs\n",
      "PredictWord2Sense_ROIpred_ObjectROI_conv_5_38PCs\n",
      "PredictWord2Sense_ROIpred_ObjectROI_conv_5_40PCs\n",
      "PredictWord2Sense_ROIpred_EVC_conv_5_2PCs\n",
      "PredictWord2Sense_ROIpred_EVC_conv_5_4PCs\n",
      "PredictWord2Sense_ROIpred_EVC_conv_5_6PCs\n",
      "PredictWord2Sense_ROIpred_EVC_conv_5_8PCs\n",
      "PredictWord2Sense_ROIpred_EVC_conv_5_10PCs\n",
      "PredictWord2Sense_ROIpred_EVC_conv_5_12PCs\n",
      "PredictWord2Sense_ROIpred_EVC_conv_5_14PCs\n",
      "PredictWord2Sense_ROIpred_EVC_conv_5_16PCs\n",
      "PredictWord2Sense_ROIpred_EVC_conv_5_18PCs\n",
      "PredictWord2Sense_ROIpred_EVC_conv_5_20PCs\n",
      "PredictWord2Sense_ROIpred_EVC_conv_5_22PCs\n",
      "PredictWord2Sense_ROIpred_EVC_conv_5_24PCs\n",
      "PredictWord2Sense_ROIpred_EVC_conv_5_26PCs\n",
      "PredictWord2Sense_ROIpred_EVC_conv_5_28PCs\n",
      "PredictWord2Sense_ROIpred_EVC_conv_5_30PCs\n",
      "PredictWord2Sense_ROIpred_EVC_conv_5_32PCs\n",
      "PredictWord2Sense_ROIpred_EVC_conv_5_34PCs\n",
      "PredictWord2Sense_ROIpred_EVC_conv_5_36PCs\n",
      "PredictWord2Sense_ROIpred_EVC_conv_5_38PCs\n",
      "PredictWord2Sense_ROIpred_EVC_conv_5_40PCs\n",
      "PredictWord2Sense_ROIpred_SceneROI_conv_5_2PCs\n",
      "PredictWord2Sense_ROIpred_SceneROI_conv_5_4PCs\n",
      "PredictWord2Sense_ROIpred_SceneROI_conv_5_6PCs\n",
      "PredictWord2Sense_ROIpred_SceneROI_conv_5_8PCs\n",
      "PredictWord2Sense_ROIpred_SceneROI_conv_5_10PCs\n",
      "PredictWord2Sense_ROIpred_SceneROI_conv_5_12PCs\n",
      "PredictWord2Sense_ROIpred_SceneROI_conv_5_14PCs\n",
      "PredictWord2Sense_ROIpred_SceneROI_conv_5_16PCs\n",
      "PredictWord2Sense_ROIpred_SceneROI_conv_5_18PCs\n",
      "PredictWord2Sense_ROIpred_SceneROI_conv_5_20PCs\n",
      "PredictWord2Sense_ROIpred_SceneROI_conv_5_22PCs\n",
      "PredictWord2Sense_ROIpred_SceneROI_conv_5_24PCs\n",
      "PredictWord2Sense_ROIpred_SceneROI_conv_5_26PCs\n",
      "PredictWord2Sense_ROIpred_SceneROI_conv_5_28PCs\n",
      "PredictWord2Sense_ROIpred_SceneROI_conv_5_30PCs\n",
      "PredictWord2Sense_ROIpred_SceneROI_conv_5_32PCs\n",
      "PredictWord2Sense_ROIpred_SceneROI_conv_5_34PCs\n",
      "PredictWord2Sense_ROIpred_SceneROI_conv_5_36PCs\n",
      "PredictWord2Sense_ROIpred_SceneROI_conv_5_38PCs\n",
      "PredictWord2Sense_ROIpred_SceneROI_conv_5_40PCs\n"
     ]
    }
   ],
   "source": [
    "\n",
    "runCV_execute(pretrained_val,savepath,Ypredict='Word2Sense',datapath=datapath,keyword=keyword,ROI=ROI,Sub=Sub,layer=layer,Keepncomps=Keepncomps)\n",
    "\n"
   ]
  },
  {
   "cell_type": "code",
   "execution_count": 11,
   "metadata": {},
   "outputs": [],
   "source": [
    "def buildDict(datapath,figurepath,Ypredict='Word2Sense',setbonf = True, keyword={'ROIpred','DNNActvtn'},layer={'conv_5'},ROI={'EVC','ObjectROI'},Sub=[1,2,3,4],Keepncomps=list(range(2,42,2)),pretrained_val = True,RandomWs=False):\n",
    "    if Ypredict is 'Word2Sense':\n",
    "        ### Load Word2Vec subset\n",
    "        filename = 'ThingsWrd2Vec_subset.txt'\n",
    "        filepath = '../../../data-10/'\n",
    "        Wrd2Vec = pd.read_csv(filepath + filename,sep=',',index_col = 0)\n",
    "        Y_embeddings_subset = Wrd2Vec.values[:,:].astype(np.float)\n",
    "        Y_embeddings_subset\n",
    "    elif Ypredict is 'Word2Vec':\n",
    "        ### Load Word2Sense subset\n",
    "        pathtofile = '../../../data-07/'\n",
    "        Y_embeddings_subset = pd.read_csv(pathtofile + \"ThingsWrd2Sns_subset.txt\", sep=\",\",index_col = 0)\n",
    "\n",
    "    if setbonf:\n",
    "        tresh_bonf = utilsCM.p2r(.05/Y_embeddings_subset.shape[1], Y_embeddings_subset.shape[0])\n",
    "    else:\n",
    "        tresh_bonf = 0\n",
    "\n",
    "    myDict_count = {}\n",
    "    myDict_mean = {}\n",
    "    myDict_max = {}\n",
    "    myDict_median = {}\n",
    "\n",
    "    RandomWs_val = RandomWs\n",
    "\n",
    "    for ilayer in layer:\n",
    "        for ikeyword in keyword:            \n",
    "            for icomps in Keepncomps:\n",
    "                thisPrediction = []               \n",
    "                if ikeyword is 'DNNActvtn':\n",
    "                    filename = 'Predict' + Ypredict + '_' + ikeyword + '_'+ ilayer + '_'+ str(icomps) +'PCs'\n",
    "                    DictKey = ikeyword\n",
    "                    filename, DictKey = runCV.completeName(pretrained_val,filename,DictKey)\n",
    "                    myDict_count,myDict_mean,myDict_max,myDict_median = runCV.buldDict_execute(datapath,DictKey,filename,tresh_bonf,myDict_count,myDict_mean,myDict_max,myDict_median)  \n",
    "                    \n",
    "                elif ikeyword is 'ROIpred':  \n",
    "                    # for RandomWs_val in RandomWs:  \n",
    "\n",
    "                    for iROI in ROI:\n",
    "                        filename = 'Predict' + Ypredict + '_' + ikeyword + '_' +iROI + '_'+ ilayer + '_'+ str(icomps) +'PCs'\n",
    "                        DictKey = iROI\n",
    "                        filename, DictKey = runCV.completeName(pretrained_val,filename,DictKey,RandomWs_val)\n",
    "                        myDict_count,myDict_mean,myDict_max,myDict_median = runCV.buldDict_execute(datapath,DictKey,filename,tresh_bonf,myDict_count,myDict_mean,myDict_max,myDict_median)\n",
    "        \n",
    "    myDict_count['PCs'] = []\n",
    "    myDict_mean['PCs'] = []\n",
    "    myDict_max['PCs'] = []\n",
    "    myDict_median['PCs'] = []\n",
    "    myDict_count['Metric'] = []\n",
    "    myDict_mean['Metric'] = []\n",
    "    myDict_max['Metric'] = []\n",
    "    myDict_median['Metric'] = []\n",
    "    for i in Keepncomps:\n",
    "        myDict_count['PCs'].append(i)\n",
    "        myDict_mean['PCs'].append(i)\n",
    "        myDict_max['PCs'].append(i)\n",
    "        myDict_median['PCs'].append(i)\n",
    "        myDict_count['Metric'].append('count')\n",
    "        myDict_mean['Metric'].append('mean')\n",
    "        myDict_max['Metric'].append('max')\n",
    "        myDict_median['Metric'].append('median')\n",
    "\n",
    "    return myDict_median,myDict_max,myDict_count,myDict_mean"
   ]
  },
  {
   "cell_type": "code",
   "execution_count": 12,
   "metadata": {},
   "outputs": [],
   "source": [
    "from  matplotlib import pyplot\n",
    "import seaborn as sns\n",
    "from pandas import DataFrame as pddf\n",
    "\n",
    "datapath = '../../../data-16/'\n",
    "figurepath = '../../../figures-16/'\n",
    "\n",
    "keyword={'ROIpred'}\n",
    "# pretrained_vec = [True, False]\n",
    "layer={'conv_5'}"
   ]
  },
  {
   "cell_type": "code",
   "execution_count": 13,
   "metadata": {},
   "outputs": [],
   "source": [
    "myDict_median,myDict_max,myDict_count,myDict_mean = buildDict(datapath,figurepath,setbonf = True,Ypredict='Word2Sense',keyword=keyword,ROI = ROI,layer=layer,Keepncomps=Keepncomps)\n"
   ]
  },
  {
   "cell_type": "code",
   "execution_count": 14,
   "metadata": {},
   "outputs": [],
   "source": [
    "df_count = pddf.from_dict(myDict_count).set_index('PCs')\n",
    "df_mean = pddf.from_dict(myDict_mean).set_index('PCs')\n",
    "df_max = pddf.from_dict(myDict_max).set_index('PCs')\n",
    "df_median = pddf.from_dict(myDict_median).set_index('PCs')"
   ]
  },
  {
   "cell_type": "code",
   "execution_count": 15,
   "metadata": {},
   "outputs": [],
   "source": [
    "allvalues = pd.concat([df_count, df_mean,df_max,df_median], axis=0)"
   ]
  },
  {
   "cell_type": "code",
   "execution_count": 16,
   "metadata": {},
   "outputs": [
    {
     "data": {
      "image/png": "[encoded data removed]",
      "text/plain": [
       "<Figure size 432x288 with 1 Axes>"
      ]
     },
     "metadata": {
      "needs_background": "light"
     },
     "output_type": "display_data"
    }
   ],
   "source": [
    "import matplotlib.pyplot as plt\n",
    "\n",
    "sns.lineplot(data= allvalues[allvalues['Metric'] == 'mean'].iloc[:,0:4]).set_title('Mean')\n",
    "plt.savefig(figurepath + \"Mean.png\")"
   ]
  },
  {
   "cell_type": "code",
   "execution_count": 17,
   "metadata": {},
   "outputs": [
    {
     "data": {
      "image/png": "[encoded data removed]",
      "text/plain": [
       "<Figure size 432x288 with 1 Axes>"
      ]
     },
     "metadata": {
      "needs_background": "light"
     },
     "output_type": "display_data"
    }
   ],
   "source": [
    "sns.lineplot(data= allvalues[allvalues['Metric'] == 'max'].iloc[:,0:4]).set_title('Max')\n",
    "plt.savefig(figurepath + \"Max.png\")"
   ]
  },
  {
   "cell_type": "code",
   "execution_count": 18,
   "metadata": {},
   "outputs": [
    {
     "data": {
      "image/png": "[encoded data removed]",
      "text/plain": [
       "<Figure size 432x288 with 1 Axes>"
      ]
     },
     "metadata": {
      "needs_background": "light"
     },
     "output_type": "display_data"
    }
   ],
   "source": [
    "sns.lineplot(data= allvalues[allvalues['Metric'] == 'count'].iloc[:,0:4]).set_title('Count')\n",
    "plt.savefig(figurepath + \"Count.png\")"
   ]
  },
  {
   "cell_type": "code",
   "execution_count": 19,
   "metadata": {},
   "outputs": [],
   "source": [
    "icomps = 16\n",
    "Ypredict = 'Word2Sense'\n",
    "\n",
    "datapath = '../../../data-16/'\n",
    "savepath = '../../../data-16/'"
   ]
  },
  {
   "cell_type": "code",
   "execution_count": 20,
   "metadata": {},
   "outputs": [],
   "source": [
    "if Ypredict is 'Word2Vec':\n",
    "    ### Load Word2Vec subset\n",
    "    filename = 'ThingsWrd2Vec_subset.txt'\n",
    "    filepath = '../../../data-10/'\n",
    "    Wrd2Vec = pd.read_csv(filepath + filename,sep=',',index_col = 0)\n",
    "    Y_embeddings = Wrd2Vec.values[:,:].astype(np.float)\n",
    "elif Ypredict is 'Word2Sense':\n",
    "    ### Load Word2Sense subset\n",
    "    pathtofile = '../../../data-07/'\n",
    "    Y_embeddings_csv = pd.read_csv(pathtofile + \"ThingsWrd2Sns_subset.txt\", sep=\",\",index_col = 0)\n",
    "    Y_embeddings = Y_embeddings_csv.values[:,:].astype(np.float)"
   ]
  },
  {
   "cell_type": "code",
   "execution_count": 21,
   "metadata": {},
   "outputs": [],
   "source": [
    "#Only the subset\n",
    "WrdThingspath = '../../../data-04/'\n",
    "nsample = 12\n",
    "WrdThingsInfo = pd.read_csv(WrdThingspath + 'KeptTHINGSInfo_n' + str(nsample) +'.csv',sep=',',index_col = 0)\n",
    "\n",
    "\n",
    "##reset the index\n",
    "Y_embeddings_csv = Y_embeddings_csv.set_index(WrdThingsInfo.Word)"
   ]
  },
  {
   "cell_type": "code",
   "execution_count": 22,
   "metadata": {},
   "outputs": [],
   "source": [
    "import csv\n",
    "\n",
    "##Showing histograms for senses above threshold\n",
    "myDict = {}\n",
    "\n",
    "for ilayer in layer:\n",
    "    \n",
    "    for ikeyword in keyword:        \n",
    "        thisPrediction = []\n",
    "        if ikeyword is 'ROIpred':\n",
    "            for iROI in ROI:\n",
    "                thisPrediction = []\n",
    "                if not pretrained_val:\n",
    "                    filename = 'Predict' + Ypredict + '_' + ikeyword + '_' +iROI + '_'+ ilayer + '_'+ str(icomps) +'PCs_untrained'\n",
    "                    csvfilename = savepath + ikeyword + \"_\" + iROI +'_' + ilayer + '_'+ str(icomps) +'PCs_untrained.csv'\n",
    "                else:\n",
    "                    filename = 'Predict' + Ypredict + '_' + ikeyword + '_' +iROI + '_'+ ilayer + '_'+ str(icomps) +'PCs'\n",
    "                    csvfilename = savepath + ikeyword + \"_\" + iROI +'_' + ilayer + '_'+ str(icomps) +'PCs.csv'\n",
    "\n",
    "                    \n",
    "                thisPrediction = np.load(datapath + filename + '.npy')\n",
    "                    \n",
    "                sortedIndeces = np.argsort(thisPrediction)[::-1][0:9] #first 10 senses indeces, from highest to least hgih\n",
    "                Subset_W2S = Y_embeddings_csv.iloc[:,sortedIndeces]#eliminate rows of zeros\n",
    "                WeightedWords_rows = (Subset_W2S != 0).any(axis=1)\n",
    "                new_W2S = Y_embeddings_csv.loc[WeightedWords_rows] #takes them off from dataset\n",
    "\n",
    "                listOfWeights = []\n",
    "                count = 0\n",
    "                for i in sortedIndeces:\n",
    "                    count += 1\n",
    "                    listOfWeights.append(\"Top \"+ str(count) + \" Sense \" + str(i))\n",
    "                    listOfWeights.append(new_W2S.iloc[:,i].sort_values(0)[::-1][0:9])\n",
    "                                    \n",
    "                with open(csvfilename, 'w', newline='') as csvfile:\n",
    "                    wr = csv.writer(csvfile, quoting=csv.QUOTE_ALL)\n",
    "                    wr.writerow(listOfWeights)\n"
   ]
  },
  {
   "cell_type": "code",
   "execution_count": 23,
   "metadata": {},
   "outputs": [
    {
     "data": {
      "text/plain": [
       "array([120,  84,  60,  37,  55, 106,  43,   3,  12])"
      ]
     },
     "execution_count": 23,
     "metadata": {},
     "output_type": "execute_result"
    }
   ],
   "source": [
    "sortedIndeces"
   ]
  },
  {
   "cell_type": "code",
   "execution_count": null,
   "metadata": {},
   "outputs": [],
   "source": []
  },
  {
   "cell_type": "code",
   "execution_count": null,
   "metadata": {},
   "outputs": [],
   "source": []
  },
  {
   "cell_type": "code",
   "execution_count": null,
   "metadata": {},
   "outputs": [],
   "source": []
  },
  {
   "cell_type": "code",
   "execution_count": null,
   "metadata": {},
   "outputs": [],
   "source": []
  },
  {
   "cell_type": "code",
   "execution_count": null,
   "metadata": {},
   "outputs": [],
   "source": []
  },
  {
   "cell_type": "code",
   "execution_count": null,
   "metadata": {},
   "outputs": [],
   "source": []
  },
  {
   "cell_type": "code",
   "execution_count": null,
   "metadata": {},
   "outputs": [],
   "source": []
  },
  {
   "cell_type": "code",
   "execution_count": null,
   "metadata": {},
   "outputs": [],
   "source": []
  },
  {
   "cell_type": "code",
   "execution_count": null,
   "metadata": {},
   "outputs": [],
   "source": []
  },
  {
   "cell_type": "code",
   "execution_count": null,
   "metadata": {},
   "outputs": [],
   "source": []
  },
  {
   "cell_type": "code",
   "execution_count": null,
   "metadata": {},
   "outputs": [],
   "source": []
  },
  {
   "cell_type": "code",
   "execution_count": null,
   "metadata": {},
   "outputs": [],
   "source": []
  },
  {
   "cell_type": "code",
   "execution_count": null,
   "metadata": {},
   "outputs": [],
   "source": []
  },
  {
   "cell_type": "code",
   "execution_count": null,
   "metadata": {},
   "outputs": [],
   "source": []
  },
  {
   "cell_type": "code",
   "execution_count": null,
   "metadata": {},
   "outputs": [],
   "source": []
  },
  {
   "cell_type": "code",
   "execution_count": null,
   "metadata": {},
   "outputs": [],
   "source": []
  },
  {
   "cell_type": "code",
   "execution_count": null,
   "metadata": {},
   "outputs": [],
   "source": []
  },
  {
   "cell_type": "code",
   "execution_count": null,
   "metadata": {},
   "outputs": [],
   "source": []
  },
  {
   "cell_type": "code",
   "execution_count": null,
   "metadata": {},
   "outputs": [],
   "source": []
  },
  {
   "cell_type": "code",
   "execution_count": null,
   "metadata": {},
   "outputs": [],
   "source": []
  },
  {
   "cell_type": "code",
   "execution_count": null,
   "metadata": {},
   "outputs": [],
   "source": []
  },
  {
   "cell_type": "code",
   "execution_count": null,
   "metadata": {},
   "outputs": [],
   "source": []
  },
  {
   "cell_type": "code",
   "execution_count": null,
   "metadata": {},
   "outputs": [],
   "source": []
  }
 ],
 "metadata": {
  "kernelspec": {
   "display_name": "Python 3",
   "language": "python",
   "name": "python3"
  },
  "language_info": {
   "codemirror_mode": {
    "name": "ipython",
    "version": 3
   },
   "file_extension": ".py",
   "mimetype": "text/x-python",
   "name": "python",
   "nbconvert_exporter": "python",
   "pygments_lexer": "ipython3",
   "version": "3.7.9"
  }
 },
 "nbformat": 4,
 "nbformat_minor": 4
}
