{
 "cells": [
  {
   "cell_type": "code",
   "execution_count": 1,
   "metadata": {},
   "outputs": [],
   "source": [
    "import os\n",
    "import matplotlib.pyplot as plt\n",
    "import numpy as np\n",
    "import pandas as pd\n",
    "import utilsCM\n",
    "\n"
   ]
  },
  {
   "cell_type": "code",
   "execution_count": 7,
   "metadata": {},
   "outputs": [],
   "source": [
    "#Load word2sense\n",
    "#already preprocessed in MATLAB so that Wrd2Sns and THINGs overlap --> we have IMAGES, LABELS and SENSES\n",
    "pathtofile = '../code-00-preprocessdataset/'\n",
    "W2S = pd.read_csv(pathtofile + \"ThingsWrd2Sns.txt\", sep=\",\")\n",
    "Y_embeddings = W2S.values[:,1:W2S.shape[1]-1].astype(np.float)\n",
    "\n",
    "tresh_bonf = utilsCM.p2r(.05/Y_embeddings.shape[1], 1470)"
   ]
  },
  {
   "cell_type": "code",
   "execution_count": 3,
   "metadata": {},
   "outputs": [],
   "source": [
    "# keyword = {'ROIpred'}\n",
    "keyword = {'DNNActvtn'}\n",
    "\n",
    "layer =  {'conv_5'}\n",
    "\n",
    "ROI = {'PPA'}\n",
    "\n",
    "# Sub = [1,2,3,4]\n",
    "Sub = [1]\n",
    "\n",
    "#how many components to keep?\n",
    "Keepncomps = [80]\n",
    "pretrained_val = True\n",
    "\n",
    "datapath = '../../../data-00/'\n",
    "savepath = '../../../data-01/'"
   ]
  },
  {
   "cell_type": "code",
   "execution_count": 4,
   "metadata": {},
   "outputs": [
    {
     "name": "stderr",
     "output_type": "stream",
     "text": [
      "/Users/cmagri1/opt/anaconda3/lib/python3.7/site-packages/ipykernel_launcher.py:17: RuntimeWarning: invalid value encountered in greater\n"
     ]
    }
   ],
   "source": [
    "##Showing histograms for senses above threshold\n",
    "myDict = {}\n",
    "\n",
    "for ilayer in layer:\n",
    "    \n",
    "    for ikeyword in keyword:        \n",
    "        \n",
    "        for icomps in Keepncomps:\n",
    "            thisPrediction = []\n",
    "            \n",
    "            if ikeyword is 'DNNActvtn':\n",
    "                if not pretrained_val:\n",
    "                    filename = 'PredictSENSES_' + ikeyword + '_'+ ilayer + '_'+ str(icomps) +'PCs_untrained'\n",
    "                else:\n",
    "                    filename = 'PredictSENSES_' + ikeyword + '_'+ ilayer + '_'+ str(icomps) +'PCs'\n",
    "                thisPrediction = np.load('../../../data-01/' + filename + '.npy')\n",
    "                pred_thresh = thisPrediction[thisPrediction>tresh_bonf]\n",
    "\n",
    "            \n",
    "            \n",
    "            elif ikeyword is 'ROIpred':\n",
    "                \n",
    "                for iROI in ROI:\n",
    "                    thisPrediction = []\n",
    "                    if not pretrained_val:\n",
    "                        filename = 'PredictSENSES_' + ikeyword + '_' +iROI + '_'+ ilayer + '_'+ str(icomps) +'PCs_untrained'\n",
    "                    else:\n",
    "                        filename = 'PredictSENSES_' + ikeyword + '_' +iROI + '_'+ ilayer + '_'+ str(icomps) +'PCs'\n",
    "                    \n",
    "                    thisPrediction = np.load(savepath + filename + '.npy')\n",
    "                    pred_thresh = thisPrediction[thisPrediction>tresh_bonf]\n",
    "\n"
   ]
  },
  {
   "cell_type": "code",
   "execution_count": 54,
   "metadata": {},
   "outputs": [],
   "source": [
    "# thisPrediction>tresh_bonf\n",
    "\n",
    "sortedIndeces = np.argsort(thisPrediction)[::-1][0:10] #first 10 senses"
   ]
  },
  {
   "cell_type": "code",
   "execution_count": 57,
   "metadata": {},
   "outputs": [
    {
     "name": "stdout",
     "output_type": "stream",
     "text": [
      "item\n",
      "aardvark      True\n",
      "abacus       False\n",
      "accordion    False\n",
      "acorn         True\n",
      "airbag       False\n",
      "             ...  \n",
      "yoke          True\n",
      "yolk          True\n",
      "zebra         True\n",
      "zipper        True\n",
      "zucchini      True\n",
      "Length: 1470, dtype: bool\n"
     ]
    }
   ],
   "source": [
    "W2S = pd.read_csv(pathtofile + \"ThingsWrd2Sns.txt\", sep=\",\").set_index('item').drop(labels='sense2251', axis=1)\n",
    "Subset_W2S = W2S.iloc[:,sortedIndeces]\n",
    "\n",
    "WeightedWords = (Subset_W2S != 0).any(axis=1)\n",
    "print(WeightedWords)\n"
   ]
  },
  {
   "cell_type": "code",
   "execution_count": null,
   "metadata": {},
   "outputs": [],
   "source": []
  }
 ],
 "metadata": {
  "kernelspec": {
   "display_name": "Python 3",
   "language": "python",
   "name": "python3"
  },
  "language_info": {
   "codemirror_mode": {
    "name": "ipython",
    "version": 3
   },
   "file_extension": ".py",
   "mimetype": "text/x-python",
   "name": "python",
   "nbconvert_exporter": "python",
   "pygments_lexer": "ipython3",
   "version": "3.7.4"
  }
 },
 "nbformat": 4,
 "nbformat_minor": 4
}
