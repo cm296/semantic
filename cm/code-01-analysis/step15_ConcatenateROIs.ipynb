{
 "cells": [
  {
   "cell_type": "code",
   "execution_count": 1,
   "metadata": {},
   "outputs": [],
   "source": [
    "import os\n",
    "import matplotlib.pyplot as plt\n",
    "import numpy as np\n",
    "import pandas as pd\n",
    "import utilsCM\n",
    "\n",
    "from tqdm import tqdm"
   ]
  },
  {
   "cell_type": "code",
   "execution_count": 2,
   "metadata": {},
   "outputs": [],
   "source": [
    "import numpy as np\n",
    "Ypredict = 'Word2Sense'\n",
    "\n",
    "if Ypredict is 'Word2Vec':\n",
    "    ### Load Word2Vec subset\n",
    "    filename = 'ThingsWrd2Vec_subset.txt'\n",
    "    filepath = '../../../data-10/'\n",
    "    Wrd2Vec = pd.read_csv(filepath + filename,sep=',',index_col = 0)\n",
    "    Y_embeddings = Wrd2Vec.values[:,:].astype(np.float)\n",
    "elif Ypredict is 'Word2Sense':\n",
    "    ### Load Word2Sense subset\n",
    "    pathtofile = '../../../data-07/'\n",
    "    Y_embeddings = pd.read_csv(pathtofile + \"ThingsWrd2Sns_subset.txt\", sep=\",\",index_col = 0)\n",
    "    Y_embeddings = Y_embeddings.values[:,:].astype(np.float)"
   ]
  },
  {
   "cell_type": "code",
   "execution_count": 6,
   "metadata": {},
   "outputs": [],
   "source": [
    "layer =  {'conv_5'}\n",
    "\n",
    "Sub = [1,2,3,4]\n",
    "\n",
    "\n",
    "pretrained_val = True\n",
    "\n",
    "datapath = '../../../data-14/'\n",
    "savepath = '../../../data-15/'"
   ]
  },
  {
   "cell_type": "code",
   "execution_count": 4,
   "metadata": {},
   "outputs": [],
   "source": [
    "#make object selective ROIs by adding together LOC and PFS\n",
    "objectROI = {'LOC','PFS'}\n",
    "for ilayer in layer:\n",
    "    for iSub in Sub:        \n",
    "            \n",
    "        if not pretrained_val:\n",
    "            filename = datapath +  \"ROIpred_Sub\" + str(iSub) + '_ObjectROI_' + ilayer + '_untrained.npy'\n",
    "        else:\n",
    "            filename = datapath +  \"ROIpred_Sub\" + str(iSub) + '_ObjectROI_' + ilayer + '.npy'\n",
    "\n",
    "        if not os.path.isfile(filename): #if it's not there\n",
    "            predictor_variable = {}\n",
    "            for iROI in objectROI:\n",
    "                if not pretrained_val:\n",
    "                    thisROI = np.load(datapath +  \"ROIpred_Sub\" + str(iSub) + '_' + iROI + \"_\" + ilayer + '_untrained.npy')\n",
    "                else:\n",
    "                    thisROI = np.load(datapath +  \"ROIpred_Sub\" + str(iSub) + '_' + iROI + \"_\" + ilayer + '.npy')\n",
    "            \n",
    "                #load ROIpred as predictor variable\n",
    "                if len(predictor_variable) is 0:\n",
    "                    predictor_variable = thisROI\n",
    "                else:\n",
    "                    predictor_variable = np.append( predictor_variable , thisROI, axis = 1)    \n",
    "            np.save(filename,predictor_variable)\n",
    "  "
   ]
  },
  {
   "cell_type": "code",
   "execution_count": 8,
   "metadata": {},
   "outputs": [],
   "source": [
    "#make object selective ROIs by adding together LOC and PFS\n",
    "objectROI = {'LOC','PFS'}\n",
    "for ilayer in layer:\n",
    "    for iSub in Sub:        \n",
    "            \n",
    "        filename = datapath +  \"ROIpred_Sub\" + str(iSub) + '_ObjectROI_' + ilayer + '_covMatching.npy'\n",
    "       \n",
    "        if not os.path.isfile(filename): #if it's not there\n",
    "            predictor_variable = {}\n",
    "            for iROI in objectROI:\n",
    "                thisROI = np.load(datapath +  \"ROIpred_Sub\" + str(iSub) + '_' + iROI + \"_\" + ilayer + '_covMatching.npy')\n",
    "            \n",
    "                #load ROIpred as predictor variable\n",
    "                if len(predictor_variable) is 0:\n",
    "                    predictor_variable = thisROI\n",
    "                else:\n",
    "                    predictor_variable = np.append( predictor_variable , thisROI, axis = 1)    \n",
    "            np.save(filename,predictor_variable)\n",
    "  "
   ]
  },
  {
   "cell_type": "code",
   "execution_count": 7,
   "metadata": {},
   "outputs": [],
   "source": [
    "#make scene selective ROIs by adding together OPA and OPA\n",
    "objectROI = {'PPA','OPA'}\n",
    "for ilayer in layer:\n",
    "    for iSub in Sub:        \n",
    "            \n",
    "        if not pretrained_val:\n",
    "            filename = datapath +  \"ROIpred_Sub\" + str(iSub) + '_SceneROI_' + ilayer + '_untrained.npy'\n",
    "        else:\n",
    "            filename = datapath +  \"ROIpred_Sub\" + str(iSub) + '_SceneROI_' + ilayer + '.npy'\n",
    "\n",
    "        if not os.path.isfile(filename): #if it's not there\n",
    "            predictor_variable = {}\n",
    "            for iROI in objectROI:\n",
    "                if not pretrained_val:\n",
    "                    thisROI = np.load(datapath +  \"ROIpred_Sub\" + str(iSub) + '_' + iROI + \"_\" + ilayer + '_untrained.npy')\n",
    "                else:\n",
    "                    thisROI = np.load(datapath +  \"ROIpred_Sub\" + str(iSub) + '_' + iROI + \"_\" + ilayer + '.npy')\n",
    "            \n",
    "                #load ROIpred as predictor variable\n",
    "                if len(predictor_variable) is 0:\n",
    "                    predictor_variable = thisROI\n",
    "                else:\n",
    "                    predictor_variable = np.append( predictor_variable , thisROI, axis = 1)    \n",
    "            np.save(filename,predictor_variable)\n",
    "  "
   ]
  },
  {
   "cell_type": "code",
   "execution_count": 10,
   "metadata": {},
   "outputs": [],
   "source": [
    "#make object selective ROIs by adding together LOC and PFS\n",
    "objectROI = {'PPA','OPA'}\n",
    "for ilayer in layer:\n",
    "    for iSub in Sub:        \n",
    "            \n",
    "        filename = datapath +  \"ROIpred_Sub\" + str(iSub) + '_SceneROI_' + ilayer + '_covMatching.npy'\n",
    "       \n",
    "        if not os.path.isfile(filename): #if it's not there\n",
    "            predictor_variable = {}\n",
    "            for iROI in objectROI:\n",
    "                thisROI = np.load(datapath +  \"ROIpred_Sub\" + str(iSub) + '_' + iROI + \"_\" + ilayer + '_covMatching.npy')\n",
    "            \n",
    "                #load ROIpred as predictor variable\n",
    "                if len(predictor_variable) is 0:\n",
    "                    predictor_variable = thisROI\n",
    "                else:\n",
    "                    predictor_variable = np.append( predictor_variable , thisROI, axis = 1)    \n",
    "            np.save(filename,predictor_variable)\n",
    "  "
   ]
  },
  {
   "cell_type": "code",
   "execution_count": null,
   "metadata": {},
   "outputs": [],
   "source": []
  },
  {
   "cell_type": "code",
   "execution_count": null,
   "metadata": {},
   "outputs": [],
   "source": []
  }
 ],
 "metadata": {
  "kernelspec": {
   "display_name": "Python 3",
   "language": "python",
   "name": "python3"
  },
  "language_info": {
   "codemirror_mode": {
    "name": "ipython",
    "version": 3
   },
   "file_extension": ".py",
   "mimetype": "text/x-python",
   "name": "python",
   "nbconvert_exporter": "python",
   "pygments_lexer": "ipython3",
   "version": "3.7.9"
  }
 },
 "nbformat": 4,
 "nbformat_minor": 4
}
