{
 "cells": [
  {
   "cell_type": "code",
   "execution_count": 1,
   "metadata": {},
   "outputs": [],
   "source": [
    "import os\n",
    "# import sys\n",
    "# sys.path.append('/Users/cmagri1/OneDrive - Johns Hopkins/git')\n",
    "# from EncodingModel_cm296 import utils as emutils\n",
    "# from EncodingModel_cm296 import cv_regression as cv\n",
    "\n",
    "# from EncodingModel_cm296 import feature_extractor as emfe\n",
    "# from DataVisualizations_cm296 import scatterplots as emscatter\n",
    "# from DataVisualizations_cm296 import utils as dvutils\n",
    "import matplotlib.pyplot as plt\n",
    "import numpy as np\n",
    "import pandas as pd\n",
    "import utilsCM\n",
    "\n",
    "\n",
    "from tqdm import tqdm"
   ]
  },
  {
   "cell_type": "code",
   "execution_count": 2,
   "metadata": {},
   "outputs": [],
   "source": [
    "#Load word2sense\n",
    "#already preprocessed in MATLAB so that Wrd2Sns and THINGs overlap --> we have IMAGES, LABELS and SENSES\n",
    "pathtofile = '../Code-001/'\n",
    "Y_embeddings = pd.read_csv(pathtofile + \"ThingsWrd2Sns.txt\", sep=\",\")\n",
    "Y_embeddings = Y_embeddings.values[:,1:Y_embeddings.shape[1]-1].astype(np.float)"
   ]
  },
  {
   "cell_type": "code",
   "execution_count": 34,
   "metadata": {},
   "outputs": [],
   "source": [
    "keyword = {'ROIpred'}\n",
    "# keyword = {'DNNActvtn'}\n",
    "\n",
    "# layer =  {'conv_1', 'conv_2','conv_3','conv_4','conv_5'}\n",
    "layer =  {'conv_5'}\n",
    "\n",
    "# ROI = {'EVC','LOC','PFS','OPA','PPA','RSC','FFA','OFA','STS','EBA'}\n",
    "ROI = {'EVC','LOC','PPA'}\n",
    "# ROI = {'EVC','PPA'}\n",
    "\n",
    "Sub = [1,2,3,4]\n",
    "\n",
    "#how many components to keep?\n",
    "Keepncomps = [40]\n",
    "# Keepncomps = [10,40,80]\n",
    "\n",
    "# kf = KFold(n_splits = 9)\n"
   ]
  },
  {
   "cell_type": "code",
   "execution_count": 35,
   "metadata": {},
   "outputs": [
    {
     "name": "stdout",
     "output_type": "stream",
     "text": [
      "k-fold regression, independet variable: 40 PCs retained of ROIpred from LOC\n"
     ]
    },
    {
     "name": "stderr",
     "output_type": "stream",
     "text": [
      "/Users/cmagri1/OneDrive - Johns Hopkins/Project-Word2Sense/Code-Python/utilsCM.py:132: RuntimeWarning: invalid value encountered in true_divide\n",
      "  zs = lambda v: (v - v.mean(0)) / v.std(0)\n",
      "/Users/cmagri1/OneDrive - Johns Hopkins/Project-Word2Sense/Code-Python/utilsCM.py:132: RuntimeWarning: invalid value encountered in true_divide\n",
      "  zs = lambda v: (v - v.mean(0)) / v.std(0)\n",
      "/Users/cmagri1/OneDrive - Johns Hopkins/Project-Word2Sense/Code-Python/utilsCM.py:132: RuntimeWarning: invalid value encountered in true_divide\n",
      "  zs = lambda v: (v - v.mean(0)) / v.std(0)\n",
      "/Users/cmagri1/OneDrive - Johns Hopkins/Project-Word2Sense/Code-Python/utilsCM.py:132: RuntimeWarning: invalid value encountered in true_divide\n",
      "  zs = lambda v: (v - v.mean(0)) / v.std(0)\n",
      "/Users/cmagri1/OneDrive - Johns Hopkins/Project-Word2Sense/Code-Python/utilsCM.py:132: RuntimeWarning: invalid value encountered in true_divide\n",
      "  zs = lambda v: (v - v.mean(0)) / v.std(0)\n",
      "/Users/cmagri1/OneDrive - Johns Hopkins/Project-Word2Sense/Code-Python/utilsCM.py:132: RuntimeWarning: invalid value encountered in true_divide\n",
      "  zs = lambda v: (v - v.mean(0)) / v.std(0)\n",
      "/Users/cmagri1/OneDrive - Johns Hopkins/Project-Word2Sense/Code-Python/utilsCM.py:132: RuntimeWarning: invalid value encountered in true_divide\n",
      "  zs = lambda v: (v - v.mean(0)) / v.std(0)\n",
      "/Users/cmagri1/OneDrive - Johns Hopkins/Project-Word2Sense/Code-Python/utilsCM.py:132: RuntimeWarning: invalid value encountered in true_divide\n",
      "  zs = lambda v: (v - v.mean(0)) / v.std(0)\n",
      "/Users/cmagri1/OneDrive - Johns Hopkins/Project-Word2Sense/Code-Python/utilsCM.py:132: RuntimeWarning: invalid value encountered in true_divide\n",
      "  zs = lambda v: (v - v.mean(0)) / v.std(0)\n",
      "/Users/cmagri1/OneDrive - Johns Hopkins/Project-Word2Sense/Code-Python/utilsCM.py:171: RuntimeWarning: Mean of empty slice\n",
      "  mean_r = np.nanmean(rs, axis=0) #TO handle Nans, since the feature space is so sparse\n"
     ]
    },
    {
     "name": "stdout",
     "output_type": "stream",
     "text": [
      "k-fold regression, independet variable: 40 PCs retained of ROIpred from EVC\n"
     ]
    },
    {
     "name": "stderr",
     "output_type": "stream",
     "text": [
      "/Users/cmagri1/OneDrive - Johns Hopkins/Project-Word2Sense/Code-Python/utilsCM.py:132: RuntimeWarning: invalid value encountered in true_divide\n",
      "  zs = lambda v: (v - v.mean(0)) / v.std(0)\n",
      "/Users/cmagri1/OneDrive - Johns Hopkins/Project-Word2Sense/Code-Python/utilsCM.py:132: RuntimeWarning: invalid value encountered in true_divide\n",
      "  zs = lambda v: (v - v.mean(0)) / v.std(0)\n",
      "/Users/cmagri1/OneDrive - Johns Hopkins/Project-Word2Sense/Code-Python/utilsCM.py:132: RuntimeWarning: invalid value encountered in true_divide\n",
      "  zs = lambda v: (v - v.mean(0)) / v.std(0)\n",
      "/Users/cmagri1/OneDrive - Johns Hopkins/Project-Word2Sense/Code-Python/utilsCM.py:132: RuntimeWarning: invalid value encountered in true_divide\n",
      "  zs = lambda v: (v - v.mean(0)) / v.std(0)\n",
      "/Users/cmagri1/OneDrive - Johns Hopkins/Project-Word2Sense/Code-Python/utilsCM.py:132: RuntimeWarning: invalid value encountered in true_divide\n",
      "  zs = lambda v: (v - v.mean(0)) / v.std(0)\n",
      "/Users/cmagri1/OneDrive - Johns Hopkins/Project-Word2Sense/Code-Python/utilsCM.py:132: RuntimeWarning: invalid value encountered in true_divide\n",
      "  zs = lambda v: (v - v.mean(0)) / v.std(0)\n",
      "/Users/cmagri1/OneDrive - Johns Hopkins/Project-Word2Sense/Code-Python/utilsCM.py:132: RuntimeWarning: invalid value encountered in true_divide\n",
      "  zs = lambda v: (v - v.mean(0)) / v.std(0)\n",
      "/Users/cmagri1/OneDrive - Johns Hopkins/Project-Word2Sense/Code-Python/utilsCM.py:132: RuntimeWarning: invalid value encountered in true_divide\n",
      "  zs = lambda v: (v - v.mean(0)) / v.std(0)\n",
      "/Users/cmagri1/OneDrive - Johns Hopkins/Project-Word2Sense/Code-Python/utilsCM.py:132: RuntimeWarning: invalid value encountered in true_divide\n",
      "  zs = lambda v: (v - v.mean(0)) / v.std(0)\n",
      "/Users/cmagri1/OneDrive - Johns Hopkins/Project-Word2Sense/Code-Python/utilsCM.py:171: RuntimeWarning: Mean of empty slice\n",
      "  mean_r = np.nanmean(rs, axis=0) #TO handle Nans, since the feature space is so sparse\n"
     ]
    },
    {
     "name": "stdout",
     "output_type": "stream",
     "text": [
      "k-fold regression, independet variable: 40 PCs retained of ROIpred from PPA\n"
     ]
    },
    {
     "name": "stderr",
     "output_type": "stream",
     "text": [
      "/Users/cmagri1/OneDrive - Johns Hopkins/Project-Word2Sense/Code-Python/utilsCM.py:132: RuntimeWarning: invalid value encountered in true_divide\n",
      "  zs = lambda v: (v - v.mean(0)) / v.std(0)\n",
      "/Users/cmagri1/OneDrive - Johns Hopkins/Project-Word2Sense/Code-Python/utilsCM.py:132: RuntimeWarning: invalid value encountered in true_divide\n",
      "  zs = lambda v: (v - v.mean(0)) / v.std(0)\n",
      "/Users/cmagri1/OneDrive - Johns Hopkins/Project-Word2Sense/Code-Python/utilsCM.py:132: RuntimeWarning: invalid value encountered in true_divide\n",
      "  zs = lambda v: (v - v.mean(0)) / v.std(0)\n",
      "/Users/cmagri1/OneDrive - Johns Hopkins/Project-Word2Sense/Code-Python/utilsCM.py:132: RuntimeWarning: invalid value encountered in true_divide\n",
      "  zs = lambda v: (v - v.mean(0)) / v.std(0)\n",
      "/Users/cmagri1/OneDrive - Johns Hopkins/Project-Word2Sense/Code-Python/utilsCM.py:132: RuntimeWarning: invalid value encountered in true_divide\n",
      "  zs = lambda v: (v - v.mean(0)) / v.std(0)\n",
      "/Users/cmagri1/OneDrive - Johns Hopkins/Project-Word2Sense/Code-Python/utilsCM.py:132: RuntimeWarning: invalid value encountered in true_divide\n",
      "  zs = lambda v: (v - v.mean(0)) / v.std(0)\n",
      "/Users/cmagri1/OneDrive - Johns Hopkins/Project-Word2Sense/Code-Python/utilsCM.py:132: RuntimeWarning: invalid value encountered in true_divide\n",
      "  zs = lambda v: (v - v.mean(0)) / v.std(0)\n",
      "/Users/cmagri1/OneDrive - Johns Hopkins/Project-Word2Sense/Code-Python/utilsCM.py:132: RuntimeWarning: invalid value encountered in true_divide\n",
      "  zs = lambda v: (v - v.mean(0)) / v.std(0)\n",
      "/Users/cmagri1/OneDrive - Johns Hopkins/Project-Word2Sense/Code-Python/utilsCM.py:132: RuntimeWarning: invalid value encountered in true_divide\n",
      "  zs = lambda v: (v - v.mean(0)) / v.std(0)\n",
      "/Users/cmagri1/OneDrive - Johns Hopkins/Project-Word2Sense/Code-Python/utilsCM.py:171: RuntimeWarning: Mean of empty slice\n",
      "  mean_r = np.nanmean(rs, axis=0) #TO handle Nans, since the feature space is so sparse\n"
     ]
    }
   ],
   "source": [
    "for ilayer in layer:\n",
    "    for ikeyword in keyword:\n",
    "        \n",
    "        if ikeyword is 'ROIpred':\n",
    "            \n",
    "            for iROI in ROI:\n",
    "                \n",
    "                predictor_variable = {}\n",
    "                for iSub in Sub:\n",
    "                    thisSub = np.load(os.getcwd() + '/data-00/' +  \"ROIpred_Sub\" + str(iSub) + '_' + iROI + \"_\" + ilayer + '.npy')\n",
    "                    #load ROIpred as predictor variable\n",
    "                    if iSub is 1:\n",
    "                        predictor_variable = thisSub\n",
    "                    else:\n",
    "                        predictor_variable = np.append( predictor_variable , thisSub, axis = 1)\n",
    "\n",
    "                for icomps in Keepncomps:\n",
    "                    mean_r = {}\n",
    "                    mean_r = utilsCM.iter_cvregress(predictor_variable,Y_embeddings,ikeyword,ilayer,icomps,iROI,datapath='data-01/')\n",
    "#                     utilsCM.make_figure(mean_r,ikeyword,ilayer,icomps,iROI, figurepath = 'figures-01/')\n",
    "#                     print(mean_r)\n",
    "        \n",
    "        \n",
    "        elif ikeyword is 'DNNActvtn':\n",
    "            predictor_variable = pd.read_csv(os.getcwd() + '/data-00/' +  \"things_\" + ilayer + '.csv', header=None, index_col=0).iloc[:,:].to_numpy()\n",
    "            for icomps in Keepncomps:\n",
    "                mean_r = {}\n",
    "                mean_r = utilsCM.iter_cvregress(predictor_variable,Y_embeddings,ikeyword,ilayer,icomps,datapath='data-01/')\n",
    "#                 utilsCM.make_figure(mean_r,ikeyword,ilayer,icomps, figurepath = 'figures-01/')"
   ]
  },
  {
   "cell_type": "code",
   "execution_count": 36,
   "metadata": {},
   "outputs": [],
   "source": [
    "filename_PPA = 'PredictSENSES_' + 'ROIpred' + '_'+ 'PPA'+'_'+ ilayer+ '_'+ str(icomps) +'PCs'\n",
    "thisPrediction_PPA = np.load(os.getcwd() + '/data-01/' + filename_PPA + '.npy')\n",
    "\n",
    "filename_EVC = 'PredictSENSES_' + 'ROIpred' + '_'+ 'EVC'+'_'+ ilayer + '_'+ str(icomps) +'PCs'\n",
    "thisPrediction_EVC = np.load(os.getcwd() + '/data-01/' + filename_EVC + '.npy')\n",
    "\n",
    "filename_LOC = 'PredictSENSES_' + 'ROIpred' + '_'+ 'LOC'+'_'+ ilayer + '_'+ str(icomps) +'PCs'\n",
    "thisPrediction_LOC = np.load(os.getcwd() + '/data-01/' + filename_LOC + '.npy')\n",
    "\n",
    "# filename_DNN = 'PredictSENSES_' + 'DNNActvtn' +'_'+ ilayer + '_'+ str(icomps) +'PCs'\n",
    "# thisPrediction_DNN = np.load(os.getcwd() + '/data-01/' + filename_DNN + '.npy')"
   ]
  },
  {
   "cell_type": "code",
   "execution_count": 37,
   "metadata": {},
   "outputs": [
    {
     "data": {
      "text/plain": [
       "array([0.16496019, 0.10114301, 0.12379206, ..., 0.12305212, 0.03688815,\n",
       "       0.09418609])"
      ]
     },
     "execution_count": 37,
     "metadata": {},
     "output_type": "execute_result"
    }
   ],
   "source": [
    "thisPrediction_PPA"
   ]
  },
  {
   "cell_type": "code",
   "execution_count": 38,
   "metadata": {},
   "outputs": [
    {
     "data": {
      "text/plain": [
       "array([0.1727825 , 0.15557366, 0.11384222, ..., 0.12834745, 0.06006222,\n",
       "       0.09842186])"
      ]
     },
     "execution_count": 38,
     "metadata": {},
     "output_type": "execute_result"
    }
   ],
   "source": [
    "thisPrediction_EVC"
   ]
  },
  {
   "cell_type": "code",
   "execution_count": 39,
   "metadata": {},
   "outputs": [
    {
     "data": {
      "text/plain": [
       "array([0.17595037, 0.15143328, 0.09116192, ..., 0.15350086, 0.09900339,\n",
       "       0.08840063])"
      ]
     },
     "execution_count": 39,
     "metadata": {},
     "output_type": "execute_result"
    }
   ],
   "source": [
    "thisPrediction_LOC"
   ]
  },
  {
   "cell_type": "code",
   "execution_count": null,
   "metadata": {},
   "outputs": [],
   "source": [
    "thisPrediction_DNN"
   ]
  },
  {
   "cell_type": "code",
   "execution_count": null,
   "metadata": {},
   "outputs": [],
   "source": [
    "thisPrediction_PPA == thisPrediction_LOC"
   ]
  },
  {
   "cell_type": "code",
   "execution_count": null,
   "metadata": {},
   "outputs": [],
   "source": [
    "np.float64(thisPrediction_PPA[0])"
   ]
  },
  {
   "cell_type": "code",
   "execution_count": null,
   "metadata": {},
   "outputs": [],
   "source": [
    "np.float64(thisPrediction_LOC[0])"
   ]
  },
  {
   "cell_type": "code",
   "execution_count": null,
   "metadata": {},
   "outputs": [],
   "source": [
    "np.float64(thisPrediction_EVC[0])"
   ]
  },
  {
   "cell_type": "code",
   "execution_count": null,
   "metadata": {},
   "outputs": [],
   "source": [
    "from sklearn.linear_model import Ridge\n",
    "import numpy as np\n",
    "\n",
    "def regression_iter(x_train, y_train, x_test, y_test, l2=0.0, validate=True):\n",
    "    regr = Ridge(alpha=l2, fit_intercept=False)\n",
    "    regr.fit(x_train, y_train)\n",
    "    weights = regr.coef_\n",
    "#     print(weights[0,0:3])\n",
    "    if validate:\n",
    "        y_pred = regr.predict(x_test)\n",
    "        print('shape ypred ' , y_pred.shape)\n",
    "        print('shape ypred transpose' , y_pred.transpose().shape)\n",
    "#         print('shape ytest ' , y_test.shape)\n",
    "        r = correlation_iter(y_test, y_pred)\n",
    "#         print(r)\n",
    "        return weights,r\n",
    "    else:\n",
    "        return weights\n",
    "    \n",
    "def correlation_iter(a, b):\n",
    "    zs = lambda v: (v - v.mean(0)) / v.std(0)\n",
    "    r = (zs(a) * zs(b)).mean(axis = 0)\n",
    "\n",
    "    return r\n",
    "\n",
    "\n",
    "# def correlation_iter_nonzero(a, b):\n",
    "    \n",
    "#     ##Of denominator is zero, approximate it to adjust division\n",
    "#     a_std = a.std(0)\n",
    "#     a_std[a_std==0] = 1e-6;\n",
    "    \n",
    "#     b_std = b.std(0)\n",
    "#     b_std[b_std==0] = 1e-6;\n",
    "    \n",
    "#     zs_a =  (a - a.mean(0)) / a_std\n",
    "#     zs_b =  (b - b.mean(0)) / b_std\n",
    "    \n",
    "#     r = (zs_a * zs_b).mean(axis = 0)\n",
    "    \n",
    "# #     print('at least one aSTD is zero: ', (a_std==0).any() ) \n",
    "\n",
    "# #     print('at least one bSTD is zero: ', (b_std==0).any())  \n",
    "    \n",
    "# #     print('Correlation: ', r)\n",
    "#     return r"
   ]
  }
 ],
 "metadata": {
  "kernelspec": {
   "display_name": "Python 3",
   "language": "python",
   "name": "python3"
  },
  "language_info": {
   "codemirror_mode": {
    "name": "ipython",
    "version": 3
   },
   "file_extension": ".py",
   "mimetype": "text/x-python",
   "name": "python",
   "nbconvert_exporter": "python",
   "pygments_lexer": "ipython3",
   "version": "3.7.4"
  }
 },
 "nbformat": 4,
 "nbformat_minor": 4
}
