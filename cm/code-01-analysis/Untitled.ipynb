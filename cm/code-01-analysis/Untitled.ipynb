{
 "cells": [
  {
   "cell_type": "code",
   "execution_count": null,
   "metadata": {},
   "outputs": [],
   "source": [
    "##Showing histograms for senses above threshold\n",
    "myDict = {}\n",
    "\n",
    "for ilayer in layer:\n",
    "    \n",
    "    for ikeyword in keyword:        \n",
    "        \n",
    "        for icomps in Keepncomps:\n",
    "            thisPrediction = []\n",
    "            \n",
    "            if ikeyword is 'DNNActvtn':\n",
    "                if not pretrained_val:\n",
    "                    filename = 'PredictSENSES_' + ikeyword + '_'+ ilayer + '_'+ str(icomps) +'PCs_untrained'\n",
    "                else:\n",
    "                    filename = 'PredictSENSES_' + ikeyword + '_'+ ilayer + '_'+ str(icomps) +'PCs'\n",
    "            thisPrediction = np.load('../../../data-01/' + filename + '.npy')\n",
    "            \n",
    "            \n",
    "            elif ikeyword is 'ROIpred':\n",
    "                \n",
    "                for iROI in ROI:\n",
    "                    thisPrediction = []\n",
    "                    if not pretrained_val:\n",
    "                        filename = 'PredictSENSES_' + ikeyword + '_' +iROI + '_'+ ilayer + '_'+ str(icomps) +'PCs_untrained'\n",
    "                    else:\n",
    "                        filename = 'PredictSENSES_' + ikeyword + '_' +iROI + '_'+ ilayer + '_'+ str(icomps) +'PCs'\n",
    "\n",
    " \n",
    "\n"
   ]
  }
 ],
 "metadata": {
  "kernelspec": {
   "display_name": "Python 3",
   "language": "python",
   "name": "python3"
  },
  "language_info": {
   "codemirror_mode": {
    "name": "ipython",
    "version": 3
   },
   "file_extension": ".py",
   "mimetype": "text/x-python",
   "name": "python",
   "nbconvert_exporter": "python",
   "pygments_lexer": "ipython3",
   "version": "3.7.4"
  }
 },
 "nbformat": 4,
 "nbformat_minor": 4
}
