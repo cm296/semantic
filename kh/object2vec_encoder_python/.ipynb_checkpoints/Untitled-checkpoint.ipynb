{
 "cells": [
  {
   "cell_type": "code",
   "execution_count": null,
   "metadata": {},
   "outputs": [],
   "source": [
    "import os\n",
    "import utils as ut\n",
    "import torch\n",
    "import numpy as np"
   ]
  },
  {
   "cell_type": "code",
   "execution_count": null,
   "metadata": {},
   "outputs": [],
   "source": [
    "class AlexNetConv5(nn.Module):\n",
    "    def __init__(self):\n",
    "        super().__init__()\n",
    "\n",
    "        base = alexnet(pretrained=True)\n",
    "        self.conv = base.features\n",
    "        self.conv1 = base.features[:2]\n",
    "        self.avgpool = base.avgpool\n",
    "        \n",
    "        self.eval()\n",
    "\n",
    "    def forward(self, stimuli):\n",
    "        x = self.conv(stimuli) #shape: [stim, 256, 7, 7] / mean test set r = 0.7297\n",
    "#         x = self.conv1(x) #shape: [stim, 256, 6, 6]\n",
    "#         x = self.avgpool(x) #shape: [stim, 256, 6, 6]\n",
    "        x = x.view(x.size(0), -1) #shape: [stim, 12544] / mean test set r =  0.7218\n",
    "        #x = self.fc_6(x) #shape: [stim, 4096] / mean test set r = 0.7142\n",
    "        return x"
   ]
  },
  {
   "cell_type": "code",
   "execution_count": null,
   "metadata": {},
   "outputs": [],
   "source": [
    "img = ut.image_to_tensor('../../../aardvark_01b.jpg',resolution = 227)\n",
    "img = img.unsqueeze(0) \n",
    "model = AlexNetConv5()"
   ]
  },
  {
   "cell_type": "code",
   "execution_count": null,
   "metadata": {},
   "outputs": [],
   "source": [
    "with torch.no_grad():\n",
    "    feats = model(img).cpu().numpy()"
   ]
  },
  {
   "cell_type": "code",
   "execution_count": null,
   "metadata": {},
   "outputs": [],
   "source": [
    "feats.shape"
   ]
  },
  {
   "cell_type": "code",
   "execution_count": null,
   "metadata": {},
   "outputs": [],
   "source": [
    "AlexNetConv5()"
   ]
  },
  {
   "cell_type": "code",
   "execution_count": null,
   "metadata": {},
   "outputs": [],
   "source": [
    "class AlexNet_cm(nn.Module):\n",
    "    def __init__(self, feature_name, pretrained_val = True):\n",
    "        super().__init__()\n",
    "        self.feature_name = feature_name\n",
    "        base = alexnet(pretrained=pretrained_val)\n",
    "        self.conv_1 = base.features[:3]\n",
    "        self.conv_2 = base.features[3:6]\n",
    "        self.conv_3 = base.features[6:8]\n",
    "        self.conv_4 = base.features[8:10]\n",
    "        self.conv_5 = base.features[10:]\n",
    "        self.avgpool = base.avgpool\n",
    "        self.fc_1 = base.classifier[:3]\n",
    "        self.fc_2 = base.classifier[3:6]\n",
    "        self.fc_3 = base.classifier[6:]\n",
    "        self.eval()\n",
    "    def forward(self, stimuli):\n",
    "        x = self.conv_1(stimuli)\n",
    "        if 'conv_1' == self.feature_name: return x.view(x.shape[0], -1)\n",
    "        x = self.conv_2(x)\n",
    "        if 'conv_2' == self.feature_name: return x.view(x.shape[0], -1)\n",
    "        x = self.conv_3(x)\n",
    "        if 'conv_3' == self.feature_name: return x.view(x.shape[0], -1)\n",
    "        x = self.conv_4(x)\n",
    "        if 'conv_4' == self.feature_name: return x.view(x.shape[0], -1)\n",
    "        x = self.conv_5(x)\n",
    "        if 'conv_5' == self.feature_name: return x.view(x.shape[0], -1)\n",
    "        x = self.avgpool(x)\n",
    "        x = x.view(x.shape[0], -1)\n",
    "        if 'pool' == self.feature_name: return x\n",
    "        x = self.fc_1(x)\n",
    "        if 'fc_1' == self.feature_name: return x\n",
    "        x = self.fc_2(x)\n",
    "        if 'fc_2' == self.feature_name: return x\n",
    "        x = self.fc_3(x)\n",
    "        if 'fc_3' == self.feature_name: return x\n",
    "        return None "
   ]
  },
  {
   "cell_type": "code",
   "execution_count": null,
   "metadata": {},
   "outputs": [],
   "source": [
    "img = ut.image_to_tensor('../../../aardvark_01b.jpg',resolution = 227)\n",
    "img = img.unsqueeze(0) "
   ]
  },
  {
   "cell_type": "code",
   "execution_count": null,
   "metadata": {},
   "outputs": [],
   "source": [
    "model_cm = AlexNet_cm('conv_5')"
   ]
  },
  {
   "cell_type": "code",
   "execution_count": null,
   "metadata": {},
   "outputs": [],
   "source": [
    "with torch.no_grad():\n",
    "    feats = model_cm(img).cpu().numpy()"
   ]
  },
  {
   "cell_type": "code",
   "execution_count": null,
   "metadata": {},
   "outputs": [],
   "source": [
    "feats.shape"
   ]
  },
  {
   "cell_type": "code",
   "execution_count": null,
   "metadata": {},
   "outputs": [],
   "source": []
  }
 ],
 "metadata": {
  "kernelspec": {
   "display_name": "Python 3",
   "language": "python",
   "name": "python3"
  },
  "language_info": {
   "codemirror_mode": {
    "name": "ipython",
    "version": 3
   },
   "file_extension": ".py",
   "mimetype": "text/x-python",
   "name": "python",
   "nbconvert_exporter": "python",
   "pygments_lexer": "ipython3",
   "version": "3.7.4"
  }
 },
 "nbformat": 4,
 "nbformat_minor": 4
}
