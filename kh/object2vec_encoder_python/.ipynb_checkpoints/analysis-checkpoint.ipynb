{
 "cells": [
  {
   "cell_type": "code",
   "execution_count": 3,
   "metadata": {},
   "outputs": [],
   "source": [
    "# Import libraries\n",
    "import os, sys\n",
    "from glob import glob\n",
    "from utils import stack_features, word2sense, regression, cv_regression_w2s, image_to_tensor, Subject\n",
    "import numpy as np"
   ]
  },
  {
   "cell_type": "code",
   "execution_count": 6,
   "metadata": {},
   "outputs": [
    {
     "name": "stderr",
     "output_type": "stream",
     "text": [
      "/home/chan21/projects/semanticdimensionality/kh/object2vec_encoder_python/utils.py:230: RuntimeWarning: invalid value encountered in true_divide\n",
      "  zs = lambda v: (v - v.mean(0)) / v.std(0)\n",
      "/home/chan21/projects/semanticdimensionality/kh/object2vec_encoder_python/utils.py:230: RuntimeWarning: invalid value encountered in true_divide\n",
      "  zs = lambda v: (v - v.mean(0)) / v.std(0)\n",
      "/home/chan21/projects/semanticdimensionality/kh/object2vec_encoder_python/utils.py:230: RuntimeWarning: invalid value encountered in true_divide\n",
      "  zs = lambda v: (v - v.mean(0)) / v.std(0)\n",
      "/home/chan21/projects/semanticdimensionality/kh/object2vec_encoder_python/utils.py:230: RuntimeWarning: invalid value encountered in true_divide\n",
      "  zs = lambda v: (v - v.mean(0)) / v.std(0)\n",
      "/home/chan21/projects/semanticdimensionality/kh/object2vec_encoder_python/utils.py:230: RuntimeWarning: invalid value encountered in true_divide\n",
      "  zs = lambda v: (v - v.mean(0)) / v.std(0)\n",
      "/home/chan21/projects/semanticdimensionality/kh/object2vec_encoder_python/utils.py:230: RuntimeWarning: invalid value encountered in true_divide\n",
      "  zs = lambda v: (v - v.mean(0)) / v.std(0)\n",
      "/home/chan21/projects/semanticdimensionality/kh/object2vec_encoder_python/utils.py:230: RuntimeWarning: invalid value encountered in true_divide\n",
      "  zs = lambda v: (v - v.mean(0)) / v.std(0)\n",
      "/home/chan21/projects/semanticdimensionality/kh/object2vec_encoder_python/utils.py:230: RuntimeWarning: invalid value encountered in true_divide\n",
      "  zs = lambda v: (v - v.mean(0)) / v.std(0)\n",
      "/home/chan21/projects/semanticdimensionality/kh/object2vec_encoder_python/utils.py:230: RuntimeWarning: invalid value encountered in true_divide\n",
      "  zs = lambda v: (v - v.mean(0)) / v.std(0)\n",
      "/home/chan21/projects/semanticdimensionality/kh/object2vec_encoder_python/utils.py:53: RuntimeWarning: Mean of empty slice\n",
      "  mean_r = np.nanmean(rs, axis=0) # mean across k folds\n",
      "/home/chan21/projects/semanticdimensionality/kh/object2vec_encoder_python/utils.py:230: RuntimeWarning: invalid value encountered in true_divide\n",
      "  zs = lambda v: (v - v.mean(0)) / v.std(0)\n",
      "/home/chan21/projects/semanticdimensionality/kh/object2vec_encoder_python/utils.py:230: RuntimeWarning: invalid value encountered in true_divide\n",
      "  zs = lambda v: (v - v.mean(0)) / v.std(0)\n",
      "/home/chan21/projects/semanticdimensionality/kh/object2vec_encoder_python/utils.py:230: RuntimeWarning: invalid value encountered in true_divide\n",
      "  zs = lambda v: (v - v.mean(0)) / v.std(0)\n",
      "/home/chan21/projects/semanticdimensionality/kh/object2vec_encoder_python/utils.py:230: RuntimeWarning: invalid value encountered in true_divide\n",
      "  zs = lambda v: (v - v.mean(0)) / v.std(0)\n",
      "/home/chan21/projects/semanticdimensionality/kh/object2vec_encoder_python/utils.py:230: RuntimeWarning: invalid value encountered in true_divide\n",
      "  zs = lambda v: (v - v.mean(0)) / v.std(0)\n",
      "/home/chan21/projects/semanticdimensionality/kh/object2vec_encoder_python/utils.py:230: RuntimeWarning: invalid value encountered in true_divide\n",
      "  zs = lambda v: (v - v.mean(0)) / v.std(0)\n",
      "/home/chan21/projects/semanticdimensionality/kh/object2vec_encoder_python/utils.py:230: RuntimeWarning: invalid value encountered in true_divide\n",
      "  zs = lambda v: (v - v.mean(0)) / v.std(0)\n",
      "/home/chan21/projects/semanticdimensionality/kh/object2vec_encoder_python/utils.py:230: RuntimeWarning: invalid value encountered in true_divide\n",
      "  zs = lambda v: (v - v.mean(0)) / v.std(0)\n",
      "/home/chan21/projects/semanticdimensionality/kh/object2vec_encoder_python/utils.py:230: RuntimeWarning: invalid value encountered in true_divide\n",
      "  zs = lambda v: (v - v.mean(0)) / v.std(0)\n",
      "/home/chan21/projects/semanticdimensionality/kh/object2vec_encoder_python/utils.py:53: RuntimeWarning: Mean of empty slice\n",
      "  mean_r = np.nanmean(rs, axis=0) # mean across k folds\n",
      "/home/chan21/projects/semanticdimensionality/kh/object2vec_encoder_python/utils.py:230: RuntimeWarning: invalid value encountered in true_divide\n",
      "  zs = lambda v: (v - v.mean(0)) / v.std(0)\n",
      "/home/chan21/projects/semanticdimensionality/kh/object2vec_encoder_python/utils.py:230: RuntimeWarning: invalid value encountered in true_divide\n",
      "  zs = lambda v: (v - v.mean(0)) / v.std(0)\n",
      "/home/chan21/projects/semanticdimensionality/kh/object2vec_encoder_python/utils.py:230: RuntimeWarning: invalid value encountered in true_divide\n",
      "  zs = lambda v: (v - v.mean(0)) / v.std(0)\n",
      "/home/chan21/projects/semanticdimensionality/kh/object2vec_encoder_python/utils.py:230: RuntimeWarning: invalid value encountered in true_divide\n",
      "  zs = lambda v: (v - v.mean(0)) / v.std(0)\n",
      "/home/chan21/projects/semanticdimensionality/kh/object2vec_encoder_python/utils.py:230: RuntimeWarning: invalid value encountered in true_divide\n",
      "  zs = lambda v: (v - v.mean(0)) / v.std(0)\n",
      "/home/chan21/projects/semanticdimensionality/kh/object2vec_encoder_python/utils.py:230: RuntimeWarning: invalid value encountered in true_divide\n",
      "  zs = lambda v: (v - v.mean(0)) / v.std(0)\n",
      "/home/chan21/projects/semanticdimensionality/kh/object2vec_encoder_python/utils.py:230: RuntimeWarning: invalid value encountered in true_divide\n",
      "  zs = lambda v: (v - v.mean(0)) / v.std(0)\n",
      "/home/chan21/projects/semanticdimensionality/kh/object2vec_encoder_python/utils.py:230: RuntimeWarning: invalid value encountered in true_divide\n",
      "  zs = lambda v: (v - v.mean(0)) / v.std(0)\n"
     ]
    },
    {
     "name": "stdout",
     "output_type": "stream",
     "text": [
      "[[-0.07362888 -0.10809692  0.03960174 ...  0.1055311  -0.03186558\n",
      "   0.02904531]\n",
      " [-0.08535314  0.00229703  0.00798342 ...  0.17592739 -0.0558146\n",
      "   0.04170269]\n",
      " [-0.02161939 -0.06379507 -0.00327384 ...  0.08902096 -0.01169642\n",
      "  -0.03241714]]\n"
     ]
    },
    {
     "name": "stderr",
     "output_type": "stream",
     "text": [
      "/home/chan21/projects/semanticdimensionality/kh/object2vec_encoder_python/utils.py:230: RuntimeWarning: invalid value encountered in true_divide\n",
      "  zs = lambda v: (v - v.mean(0)) / v.std(0)\n",
      "/home/chan21/projects/semanticdimensionality/kh/object2vec_encoder_python/utils.py:53: RuntimeWarning: Mean of empty slice\n",
      "  mean_r = np.nanmean(rs, axis=0) # mean across k folds\n"
     ]
    }
   ],
   "source": [
    "# Stack data\n",
    "rois = ['LOC', 'PPA', 'EVC']\n",
    "layers = ['conv5', 'fc6']\n",
    "\n",
    "roi_mean = []\n",
    "for roi in rois:\n",
    "    fmri_path = \"predicted_\" + roi + \"_\" + layer\n",
    "    fmri_path = os.path.join(os.getcwd(), fmri_path) \n",
    "    voxel_regressor = stack_features(fmri_path, fmri=True)\n",
    "\n",
    "    cnn_path = os.path.join('features_' + layer + '.pth')\n",
    "    cnn_regressor = stack_features(cnn_path, fmri=False)\n",
    "\n",
    "    # Run cv regression for w2s prediction\n",
    "    w2s_file = \"ThingsWrd2Sns.txt\"\n",
    "    _, w2s_embeddings = word2sense(w2s_file)\n",
    "\n",
    "    voxel_mean_r = cv_regression_w2s(voxel_regressor, w2s_embeddings, fit=None, k=9, l2=0.0, pc=10)\n",
    "    #cnn_mean_r = cv_regression_w2s(cnn_regressor, w2s_embeddings, fit=None, k=9, l2=0.0, pc=10)\n",
    "    roi_mean.append(voxel_mean_r)\n",
    "\n",
    "print(np.diff(np.array(roi_mean)))"
   ]
  },
  {
   "cell_type": "code",
   "execution_count": 16,
   "metadata": {},
   "outputs": [
    {
     "name": "stdout",
     "output_type": "stream",
     "text": [
      "(3, 2250)\n",
      "[0.19455688 0.12092801 0.01283108 ... 0.05358288 0.0217173  0.05076261]\n",
      "[0.15132378 0.06597064 0.06826767 ... 0.12650547 0.07069087 0.11239356]\n",
      "[0.13627015 0.11465077 0.05085569 ... 0.10847946 0.09678303 0.06436589]\n",
      "[ 0.0432331   0.05495737 -0.05543659 ... -0.07292259 -0.04897357\n",
      " -0.06163095]\n",
      "[ 0.01505363 -0.04868012  0.01741198 ...  0.01802601 -0.02609216\n",
      "  0.04802767]\n",
      "[ 0.05828673  0.00627724 -0.03802461 ... -0.05489658 -0.07506573\n",
      " -0.01360328]\n",
      "0.00048174771977799706\n",
      "0.005097691757124868\n",
      "0.0055794394769028656\n"
     ]
    }
   ],
   "source": [
    "print(np.array(roi_mean).shape)\n",
    "roi_mean = np.array(roi_mean)\n",
    "print(roi_mean[0, :])\n",
    "print(roi_mean[1, :])\n",
    "print(roi_mean[2, :])\n",
    "print(np.subtract(roi_mean[0, :], roi_mean[1, :]))\n",
    "print(np.subtract(roi_mean[1, :], roi_mean[2, :]))\n",
    "print(np.subtract(roi_mean[0, :], roi_mean[2, :]))\n",
    "\n",
    "print(np.nanmean(np.subtract(roi_mean[0, :], roi_mean[1, :])))\n",
    "print(np.nanmean(np.subtract(roi_mean[1, :], roi_mean[2, :])))\n",
    "print(np.nanmean(np.subtract(roi_mean[0, :], roi_mean[2, :])))\n"
   ]
  },
  {
   "cell_type": "code",
   "execution_count": null,
   "metadata": {},
   "outputs": [],
   "source": []
  }
 ],
 "metadata": {
  "kernelspec": {
   "display_name": "firstEnv",
   "language": "python",
   "name": "firstenv"
  },
  "language_info": {
   "codemirror_mode": {
    "name": "ipython",
    "version": 3
   },
   "file_extension": ".py",
   "mimetype": "text/x-python",
   "name": "python",
   "nbconvert_exporter": "python",
   "pygments_lexer": "ipython3",
   "version": "3.8.5"
  }
 },
 "nbformat": 4,
 "nbformat_minor": 4
}
