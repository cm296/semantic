{
 "cells": [
  {
   "cell_type": "code",
   "execution_count": 9,
   "metadata": {},
   "outputs": [],
   "source": [
    "import os\n",
    "import utils as ut\n",
    "import torch\n",
    "import numpy as np\n",
    "from torch import nn\n",
    "from torchvision.models.alexnet import alexnet\n"
   ]
  },
  {
   "cell_type": "code",
   "execution_count": 10,
   "metadata": {},
   "outputs": [],
   "source": [
    "class AlexNetConv5(nn.Module):\n",
    "    def __init__(self):\n",
    "        super().__init__()\n",
    "\n",
    "        base = alexnet(pretrained=True)\n",
    "        self.conv = base.features\n",
    "        self.conv1 = base.features[:2]\n",
    "        self.avgpool = base.avgpool\n",
    "        \n",
    "        self.eval()\n",
    "\n",
    "    def forward(self, stimuli):\n",
    "        x = self.conv(stimuli) #shape: [stim, 256, 7, 7] / mean test set r = 0.7297\n",
    "#         x = self.conv1(x) #shape: [stim, 256, 6, 6]\n",
    "#         x = self.avgpool(x) #shape: [stim, 256, 6, 6]\n",
    "        x = x.view(x.size(0), -1) #shape: [stim, 12544] / mean test set r =  0.7218\n",
    "        #x = self.fc_6(x) #shape: [stim, 4096] / mean test set r = 0.7142\n",
    "        return x"
   ]
  },
  {
   "cell_type": "code",
   "execution_count": 20,
   "metadata": {},
   "outputs": [],
   "source": [
    "img = ut.image_to_tensor('../../../aardvark_01b.jpg',resolution = 227)\n",
    "img = img.unsqueeze(0) \n",
    "model = AlexNetConv5()"
   ]
  },
  {
   "cell_type": "code",
   "execution_count": 21,
   "metadata": {},
   "outputs": [],
   "source": [
    "with torch.no_grad():\n",
    "    feats = model(img).cpu().numpy()"
   ]
  },
  {
   "cell_type": "code",
   "execution_count": 22,
   "metadata": {},
   "outputs": [
    {
     "data": {
      "text/plain": [
       "(1, 9216)"
      ]
     },
     "execution_count": 22,
     "metadata": {},
     "output_type": "execute_result"
    }
   ],
   "source": [
    "feats.shape"
   ]
  },
  {
   "cell_type": "code",
   "execution_count": 23,
   "metadata": {},
   "outputs": [
    {
     "data": {
      "text/plain": [
       "AlexNetConv5(\n",
       "  (conv): Sequential(\n",
       "    (0): Conv2d(3, 64, kernel_size=(11, 11), stride=(4, 4), padding=(2, 2))\n",
       "    (1): ReLU(inplace=True)\n",
       "    (2): MaxPool2d(kernel_size=3, stride=2, padding=0, dilation=1, ceil_mode=False)\n",
       "    (3): Conv2d(64, 192, kernel_size=(5, 5), stride=(1, 1), padding=(2, 2))\n",
       "    (4): ReLU(inplace=True)\n",
       "    (5): MaxPool2d(kernel_size=3, stride=2, padding=0, dilation=1, ceil_mode=False)\n",
       "    (6): Conv2d(192, 384, kernel_size=(3, 3), stride=(1, 1), padding=(1, 1))\n",
       "    (7): ReLU(inplace=True)\n",
       "    (8): Conv2d(384, 256, kernel_size=(3, 3), stride=(1, 1), padding=(1, 1))\n",
       "    (9): ReLU(inplace=True)\n",
       "    (10): Conv2d(256, 256, kernel_size=(3, 3), stride=(1, 1), padding=(1, 1))\n",
       "    (11): ReLU(inplace=True)\n",
       "    (12): MaxPool2d(kernel_size=3, stride=2, padding=0, dilation=1, ceil_mode=False)\n",
       "  )\n",
       "  (conv1): Sequential(\n",
       "    (0): Conv2d(3, 64, kernel_size=(11, 11), stride=(4, 4), padding=(2, 2))\n",
       "    (1): ReLU(inplace=True)\n",
       "  )\n",
       "  (avgpool): AdaptiveAvgPool2d(output_size=(6, 6))\n",
       ")"
      ]
     },
     "execution_count": 23,
     "metadata": {},
     "output_type": "execute_result"
    }
   ],
   "source": [
    "AlexNetConv5()"
   ]
  },
  {
   "cell_type": "code",
   "execution_count": 24,
   "metadata": {},
   "outputs": [],
   "source": [
    "class AlexNet_cm(nn.Module):\n",
    "    def __init__(self, feature_name, pretrained_val = True):\n",
    "        super().__init__()\n",
    "        self.feature_name = feature_name\n",
    "        base = alexnet(pretrained=pretrained_val)\n",
    "        self.conv_1 = base.features[:3]\n",
    "        self.conv_2 = base.features[3:6]\n",
    "        self.conv_3 = base.features[6:8]\n",
    "        self.conv_4 = base.features[8:10]\n",
    "        self.conv_5 = base.features[10:]\n",
    "        self.avgpool = base.avgpool\n",
    "        self.fc_1 = base.classifier[:3]\n",
    "        self.fc_2 = base.classifier[3:6]\n",
    "        self.fc_3 = base.classifier[6:]\n",
    "        self.eval()\n",
    "    def forward(self, stimuli):\n",
    "        x = self.conv_1(stimuli)\n",
    "        if 'conv_1' == self.feature_name: return x.view(x.shape[0], -1)\n",
    "        x = self.conv_2(x)\n",
    "        if 'conv_2' == self.feature_name: return x.view(x.shape[0], -1)\n",
    "        x = self.conv_3(x)\n",
    "        if 'conv_3' == self.feature_name: return x.view(x.shape[0], -1)\n",
    "        x = self.conv_4(x)\n",
    "        if 'conv_4' == self.feature_name: return x.view(x.shape[0], -1)\n",
    "        x = self.conv_5(x)\n",
    "        if 'conv_5' == self.feature_name: return x.view(x.shape[0], -1)\n",
    "        x = self.avgpool(x)\n",
    "        x = x.view(x.shape[0], -1)\n",
    "        if 'pool' == self.feature_name: return x\n",
    "        x = self.fc_1(x)\n",
    "        if 'fc_1' == self.feature_name: return x\n",
    "        x = self.fc_2(x)\n",
    "        if 'fc_2' == self.feature_name: return x\n",
    "        x = self.fc_3(x)\n",
    "        if 'fc_3' == self.feature_name: return x\n",
    "        return None "
   ]
  },
  {
   "cell_type": "code",
   "execution_count": 25,
   "metadata": {},
   "outputs": [],
   "source": [
    "img = ut.image_to_tensor('../../../aardvark_01b.jpg',resolution = 227)\n",
    "img = img.unsqueeze(0) "
   ]
  },
  {
   "cell_type": "code",
   "execution_count": 27,
   "metadata": {},
   "outputs": [],
   "source": [
    "model_cm = AlexNet_cm('conv_5')"
   ]
  },
  {
   "cell_type": "code",
   "execution_count": 28,
   "metadata": {},
   "outputs": [],
   "source": [
    "with torch.no_grad():\n",
    "    feats_cm = model_cm(img).cpu().numpy()"
   ]
  },
  {
   "cell_type": "code",
   "execution_count": 45,
   "metadata": {},
   "outputs": [
    {
     "data": {
      "text/plain": [
       "array([[1., 1.],\n",
       "       [1., 1.]])"
      ]
     },
     "execution_count": 45,
     "metadata": {},
     "output_type": "execute_result"
    }
   ],
   "source": [
    "np.corrcoef(feats, feats_cm)"
   ]
  },
  {
   "cell_type": "code",
   "execution_count": null,
   "metadata": {},
   "outputs": [],
   "source": []
  }
 ],
 "metadata": {
  "kernelspec": {
   "display_name": "Python 3",
   "language": "python",
   "name": "python3"
  },
  "language_info": {
   "codemirror_mode": {
    "name": "ipython",
    "version": 3
   },
   "file_extension": ".py",
   "mimetype": "text/x-python",
   "name": "python",
   "nbconvert_exporter": "python",
   "pygments_lexer": "ipython3",
   "version": "3.7.4"
  }
 },
 "nbformat": 4,
 "nbformat_minor": 4
}
